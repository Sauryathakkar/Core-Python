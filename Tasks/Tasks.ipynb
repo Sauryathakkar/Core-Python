{
 "cells": [
  {
   "cell_type": "markdown",
   "id": "3e9478fb-bb11-4d26-a0fd-603b6a8da19e",
   "metadata": {
    "jp-MarkdownHeadingCollapsed": true,
    "tags": []
   },
   "source": [
    "# Practice Problems \n",
    "# Conditionals "
   ]
  },
  {
   "cell_type": "markdown",
   "id": "6796ac99-39bb-4b7c-8934-7d257e5d2774",
   "metadata": {},
   "source": [
    "1. Write a program to check whether a person is eligible for voting or not"
   ]
  },
  {
   "cell_type": "code",
   "execution_count": 1,
   "id": "4a939d98-69ed-4f11-aac8-359f658ee23b",
   "metadata": {
    "tags": []
   },
   "outputs": [
    {
     "name": "stdin",
     "output_type": "stream",
     "text": [
      "Enter your age :  18\n"
     ]
    },
    {
     "name": "stdout",
     "output_type": "stream",
     "text": [
      "You are eligible to vote\n"
     ]
    }
   ],
   "source": [
    "age = int(input(\"Enter your age : \"))\n",
    "if age >= 18:\n",
    "    print(\"You are eligible to vote\")\n",
    "else:\n",
    "    print(\"You are not eligible to vote\")"
   ]
  },
  {
   "cell_type": "markdown",
   "id": "10782cb8-d8e8-4de2-b11e-20f2abd47573",
   "metadata": {},
   "source": [
    "2. Write a program to check whether a number is divisible by 7 or not"
   ]
  },
  {
   "cell_type": "code",
   "execution_count": 2,
   "id": "feed76a4-be0d-4cae-ab3e-53b234ad4162",
   "metadata": {
    "tags": []
   },
   "outputs": [
    {
     "name": "stdin",
     "output_type": "stream",
     "text": [
      "Enter a number:  39\n"
     ]
    },
    {
     "name": "stdout",
     "output_type": "stream",
     "text": [
      "The number is not divisible by 7\n"
     ]
    }
   ],
   "source": [
    "n = int(input(\"Enter a number: \"))\n",
    "if n % 7 == 0:\n",
    "    print(\"The number is divisible by 7\")\n",
    "else:\n",
    "    print(\"The number is not divisible by 7\")"
   ]
  },
  {
   "cell_type": "markdown",
   "id": "4339505d-572e-4d39-b454-0659e07441a8",
   "metadata": {},
   "source": [
    "3. Write a program to display \"Hello\" if a number enetered by user is multiple of 5 otherwise print \"bye\""
   ]
  },
  {
   "cell_type": "code",
   "execution_count": 3,
   "id": "5fd5333c-32f0-419d-a3b6-d0dde5e8b7bf",
   "metadata": {
    "tags": []
   },
   "outputs": [
    {
     "name": "stdin",
     "output_type": "stream",
     "text": [
      "Enter a number :  10\n"
     ]
    },
    {
     "name": "stdout",
     "output_type": "stream",
     "text": [
      "Hello\n"
     ]
    }
   ],
   "source": [
    "n = int(input(\"Enter a number : \"))\n",
    "if n % 5 == 0:\n",
    "    print(\"Hello\")\n",
    "else:\n",
    "    print(\"bye\")"
   ]
  },
  {
   "cell_type": "markdown",
   "id": "9f1a4e77-ca03-4ccb-8f02-b8df40f1d7c8",
   "metadata": {},
   "source": [
    "4. Write a program to calculate the electricity bill (take number of unit consumed as input): - Frist 100 units no charge,Next 100 units Rs 5 per unit and After 200 units Rs 10 per unit"
   ]
  },
  {
   "cell_type": "code",
   "execution_count": 5,
   "id": "4384e821-7648-4468-b725-9f3de599c4ad",
   "metadata": {
    "tags": []
   },
   "outputs": [
    {
     "name": "stdin",
     "output_type": "stream",
     "text": [
      "Enter units consumed :  350\n"
     ]
    },
    {
     "name": "stdout",
     "output_type": "stream",
     "text": [
      "Cost : 2000\n"
     ]
    }
   ],
   "source": [
    "n = int(input(\"Enter units consumed : \"))\n",
    "cost = 0\n",
    "if n <= 100:\n",
    "    print(\"No charge\")\n",
    "else:\n",
    "    n -= 100\n",
    "    if n <= 100:\n",
    "        cost += (n * 5)\n",
    "        print(f\"Cost : {cost}\")\n",
    "    else:\n",
    "        cost += (100 * 5)\n",
    "        n -= 100\n",
    "        cost += (n * 10)\n",
    "        print(f\"Cost : {cost}\")"
   ]
  },
  {
   "cell_type": "markdown",
   "id": "854cff8e-9a35-4649-b810-eec754b87865",
   "metadata": {},
   "source": [
    "5. Write a program to display the last digit of a number."
   ]
  },
  {
   "cell_type": "code",
   "execution_count": 11,
   "id": "dadc6b85-587d-4cd5-9d40-e74f08c47d91",
   "metadata": {
    "tags": []
   },
   "outputs": [
    {
     "name": "stdin",
     "output_type": "stream",
     "text": [
      "Enter a number :  123\n"
     ]
    },
    {
     "name": "stdout",
     "output_type": "stream",
     "text": [
      "3\n"
     ]
    }
   ],
   "source": [
    "n = int(input(\"Enter a number : \"))\n",
    "print(n % 10)"
   ]
  },
  {
   "cell_type": "markdown",
   "id": "6a979236-4352-41f7-a7d2-9da57b840a61",
   "metadata": {},
   "source": [
    "6. Write a program to check whether the last digit of a number is divisible by 3 or not"
   ]
  },
  {
   "cell_type": "code",
   "execution_count": 10,
   "id": "607715a1-6a32-42b1-af6a-dc4f13483f86",
   "metadata": {
    "tags": []
   },
   "outputs": [
    {
     "name": "stdin",
     "output_type": "stream",
     "text": [
      "Enter a number :  123\n"
     ]
    },
    {
     "name": "stdout",
     "output_type": "stream",
     "text": [
      "The last digit is divisible by 3\n"
     ]
    }
   ],
   "source": [
    "n = int(input(\"Enter a number : \"))\n",
    "if (n % 10) % 3 == 0:\n",
    "    print(\"The last digit is divisible by 3\")\n",
    "else:\n",
    "        print(\"The last digit is not divisible by 3\")"
   ]
  },
  {
   "cell_type": "markdown",
   "id": "2e864e36-2cb8-4f4d-a5d8-f3efc91c3386",
   "metadata": {},
   "source": [
    "7. Write a program to accept of percentage from the user and display the grade"
   ]
  },
  {
   "cell_type": "code",
   "execution_count": 17,
   "id": "fe246159-2309-4d36-ae1e-882d156b6f07",
   "metadata": {
    "tags": []
   },
   "outputs": [
    {
     "name": "stdin",
     "output_type": "stream",
     "text": [
      "Enter your score :  84\n"
     ]
    },
    {
     "name": "stdout",
     "output_type": "stream",
     "text": [
      "B\n"
     ]
    }
   ],
   "source": [
    "n = int(input(\"Enter your score : \"))\n",
    "if n > 90:\n",
    "    print(\"A\")\n",
    "elif n > 80:\n",
    "    print(\"B\")\n",
    "elif n > 60:\n",
    "    print(\"C\")\n",
    "else:\n",
    "    print(\"D\")"
   ]
  },
  {
   "cell_type": "markdown",
   "id": "9c32db37-c387-40e4-a4e5-904611c6a27f",
   "metadata": {},
   "source": [
    "8. Write a program to accept the cost price of a bike and display the road tax to be paid"
   ]
  },
  {
   "cell_type": "code",
   "execution_count": 2,
   "id": "a7b00c28-cf4c-44a1-b055-84bc2659198a",
   "metadata": {
    "tags": []
   },
   "outputs": [
    {
     "name": "stdin",
     "output_type": "stream",
     "text": [
      "Enter the cost price of the bike :  100001\n"
     ]
    },
    {
     "name": "stdout",
     "output_type": "stream",
     "text": [
      "Road tax : 15000.15\n"
     ]
    }
   ],
   "source": [
    "n = int(input(\"Enter the cost price of the bike : \"))\n",
    "tax = 0\n",
    "if n > 100000:\n",
    "    tax = 15 * n / 100\n",
    "elif n > 50000:\n",
    "    tax = 10 * n / 100\n",
    "else:\n",
    "    tax = 5 * n / 100\n",
    "print(f\"Road tax : {tax}\")"
   ]
  },
  {
   "cell_type": "markdown",
   "id": "f5e46f8b-e00c-456a-9410-3756cffae326",
   "metadata": {},
   "source": [
    "9. Write a program to check whether an year is leap or not"
   ]
  },
  {
   "cell_type": "code",
   "execution_count": 6,
   "id": "1f0365cb-204a-4a28-9a38-003399155e79",
   "metadata": {
    "tags": []
   },
   "outputs": [
    {
     "name": "stdin",
     "output_type": "stream",
     "text": [
      "Enter the year :  2200\n"
     ]
    },
    {
     "name": "stdout",
     "output_type": "stream",
     "text": [
      "Its not a leap year\n"
     ]
    }
   ],
   "source": [
    "n = int(input(\"Enter the year : \"))\n",
    "if n % 400 == 0:\n",
    "    print(\"It is a leap year\")\n",
    "elif n % 4 == 0:\n",
    "    if n % 100 == 0:\n",
    "        print(\"Its not a leap year\")\n",
    "    else:\n",
    "        print(\"It is a leap year\")\n",
    "else:\n",
    "    print(\"It is not a leap year\")\n"
   ]
  },
  {
   "cell_type": "markdown",
   "id": "1678648b-fc44-4cb6-875a-9916a14a34ea",
   "metadata": {},
   "source": [
    "10. WAP to accept a number from 1 to 7 and display the name of the day like 1 for sunday, 2 for monday, ...\n"
   ]
  },
  {
   "cell_type": "code",
   "execution_count": 11,
   "id": "e83c945e-ebe7-466c-b903-c90f9116f1e6",
   "metadata": {
    "tags": []
   },
   "outputs": [
    {
     "name": "stdin",
     "output_type": "stream",
     "text": [
      "Enter a number between 1 and 7 :  3\n"
     ]
    },
    {
     "name": "stdout",
     "output_type": "stream",
     "text": [
      "Tuesday\n"
     ]
    }
   ],
   "source": [
    "n = int(input(\"Enter a number between 1 and 7 : \"))\n",
    "if n == 1:\n",
    "    print(\"Sunday\")\n",
    "elif n == 2:\n",
    "    print(\"Monday\")\n",
    "elif n == 3:\n",
    "    print(\"Tuesday\")\n",
    "elif n == 4:\n",
    "    print(\"Wednesday\")\n",
    "elif n == 5:\n",
    "    print(\"Thurday\")\n",
    "elif n == 6:\n",
    "    print(\"Friday\")\n",
    "elif n == 7:\n",
    "    print(\"Saturday\")\n",
    "else:\n",
    "    print(\"Number enterd is more than 7\")"
   ]
  },
  {
   "cell_type": "markdown",
   "id": "743973a5-b0d4-4791-b9ec-f31ec1b31e0e",
   "metadata": {},
   "source": [
    "11. WAP a program to accept a number from 1 to 12 and display names of the month and days in month like 1 for january "
   ]
  },
  {
   "cell_type": "code",
   "execution_count": 10,
   "id": "6ae50bfd-76ee-42d6-b354-378c3186abfc",
   "metadata": {
    "tags": []
   },
   "outputs": [
    {
     "name": "stdin",
     "output_type": "stream",
     "text": [
      "Enter a number between 1 and 12 :  13\n"
     ]
    },
    {
     "name": "stdout",
     "output_type": "stream",
     "text": [
      "Number entered is more than 12\n"
     ]
    }
   ],
   "source": [
    "n = int(input(\"Enter a number between 1 and 12 : \"))\n",
    "if n == 1:\n",
    "    print(\"January\")\n",
    "elif n == 2:\n",
    "    print(\"Feburary\")\n",
    "elif n == 3:\n",
    "    print(\"March\")\n",
    "elif n == 4:\n",
    "    print(\"April\")\n",
    "elif n == 5:\n",
    "    print(\"May\")\n",
    "elif n == 6:\n",
    "    print(\"June\")\n",
    "elif n == 7:\n",
    "    print(\"July\")\n",
    "elif n == 8:\n",
    "    print(\"August\")\n",
    "elif n == 9:\n",
    "    print(\"September\")\n",
    "elif n == 10:\n",
    "    print(\"OCtober\")\n",
    "elif n == 11:\n",
    "    print(\"November\")\n",
    "elif n == 12:\n",
    "    print(\"December\")\n",
    "else:\n",
    "    print(\"Number entered is more than 12\")"
   ]
  },
  {
   "cell_type": "raw",
   "id": "ea20ce98-fbe5-4ce8-ae76-b04c1cf24545",
   "metadata": {},
   "source": [
    "12. Accept any city from the user and display monument of that city \n",
    "\n",
    "City         Monument\n",
    "Delhi        Red Fort\n",
    "Agra         Taj Mahal\n",
    "Jaipur       Hawa Mahal"
   ]
  },
  {
   "cell_type": "code",
   "execution_count": 2,
   "id": "29747d39-ea4d-4c6e-b3f0-744f6acfe999",
   "metadata": {
    "tags": []
   },
   "outputs": [
    {
     "name": "stdin",
     "output_type": "stream",
     "text": [
      "Enter a city :  Ahmedabad\n"
     ]
    },
    {
     "name": "stdout",
     "output_type": "stream",
     "text": [
      "No data found for Ahmedabad city\n"
     ]
    }
   ],
   "source": [
    "x = input(\"Enter a city : \")\n",
    "if x == 'Delhi':\n",
    "    print(\"Red Fort\")\n",
    "elif x == 'Agra':\n",
    "    print(\"Taj Mahal\")\n",
    "elif x == 'Jaipur':\n",
    "    print(\"Hawa Mahal\")\n",
    "else:\n",
    "    print(f\"No data found for {x} city\")"
   ]
  },
  {
   "cell_type": "markdown",
   "id": "853c58c0-8a8b-4eca-be42-4a02066dce3e",
   "metadata": {},
   "source": [
    "13. Write a program to check whether a number is 3 digit or not"
   ]
  },
  {
   "cell_type": "code",
   "execution_count": 6,
   "id": "b3b5268e-8b2b-4e37-ba5e-48f390ab49ae",
   "metadata": {
    "tags": []
   },
   "outputs": [
    {
     "name": "stdin",
     "output_type": "stream",
     "text": [
      "Enter a number :  1233\n"
     ]
    },
    {
     "name": "stdout",
     "output_type": "stream",
     "text": [
      "The number is not 3 digit\n"
     ]
    }
   ],
   "source": [
    "n = int(input(\"Enter a number : \"))\n",
    "x = len(str(n))\n",
    "if x == 3:\n",
    "    print(\"The number is 3 digit\")\n",
    "else:\n",
    "    print(\"The number is not 3 digit\")"
   ]
  },
  {
   "cell_type": "markdown",
   "id": "d2f54649-9689-4fee-818b-134c7743525f",
   "metadata": {},
   "source": [
    "14. Write a program to find the lowest number out of two numbers accepted from user"
   ]
  },
  {
   "cell_type": "code",
   "execution_count": 18,
   "id": "19bc397a-65c1-440b-a36e-180eaec514eb",
   "metadata": {
    "tags": []
   },
   "outputs": [
    {
     "name": "stdin",
     "output_type": "stream",
     "text": [
      "Enter a number :  12\n",
      "Enter another number :  14\n"
     ]
    },
    {
     "name": "stdout",
     "output_type": "stream",
     "text": [
      "12 is lesser than 14\n"
     ]
    }
   ],
   "source": [
    "x = int(input(\"Enter a number : \"))\n",
    "y = int(input(\"Enter another number : \"))\n",
    "if x < y:\n",
    "    print(f\"{x} is lesser than {y}\")\n",
    "elif x == y:\n",
    "    print(\"Both numbers are equal\")\n",
    "else:\n",
    "    print(f\"{y} is lesser than {x}\")"
   ]
  },
  {
   "cell_type": "markdown",
   "id": "729406d2-44b5-46be-ab18-4823def9ff6d",
   "metadata": {},
   "source": [
    "15. Write a program to check whether a number is divisible by 2 or 3 or both or none"
   ]
  },
  {
   "cell_type": "code",
   "execution_count": 17,
   "id": "0abaf162-4687-431b-88e8-253ca54648a5",
   "metadata": {
    "tags": []
   },
   "outputs": [
    {
     "name": "stdin",
     "output_type": "stream",
     "text": [
      "Enter a number :  6\n"
     ]
    },
    {
     "name": "stdout",
     "output_type": "stream",
     "text": [
      "6 is divisible by both 2 and 3\n"
     ]
    }
   ],
   "source": [
    "n = int(input(\"Enter a number : \"))\n",
    "if n % 2 == 0:\n",
    "    if n % 3 == 0:\n",
    "        print(f\"{n} is divisible by both 2 and 3\")\n",
    "    else:\n",
    "        print(f\"{n} is divisible by 2 only\")\n",
    "elif n % 3 == 0:\n",
    "    print(f\"{n} is divisible by 3 only\")\n",
    "else:\n",
    "    print(f\"{n} is not divisible by 2 and 3\") "
   ]
  },
  {
   "cell_type": "markdown",
   "id": "48b93b41-35e2-4437-93d4-a172654ec137",
   "metadata": {},
   "source": [
    "16. WAP to find the largest number out of two numbers accepted from user"
   ]
  },
  {
   "cell_type": "code",
   "execution_count": 19,
   "id": "18484998-2550-4d66-b83c-396a6d467aec",
   "metadata": {
    "tags": []
   },
   "outputs": [
    {
     "name": "stdin",
     "output_type": "stream",
     "text": [
      "Enter a number :  13\n",
      "Enter another number :  32\n"
     ]
    },
    {
     "name": "stdout",
     "output_type": "stream",
     "text": [
      "32 is greater than 13\n"
     ]
    }
   ],
   "source": [
    "x = int(input(\"Enter a number : \"))\n",
    "y = int(input(\"Enter another number : \"))\n",
    "if x > y:\n",
    "    print(f\"{x} is greater than {y}\")\n",
    "elif x == y:\n",
    "    print(\"Both numbers are equal\")\n",
    "else:\n",
    "    print(f\"{y} is greater than {x}\")"
   ]
  },
  {
   "cell_type": "raw",
   "id": "8b61a61f-b4f1-459e-8a87-fbec68645389",
   "metadata": {},
   "source": [
    "17. Accept the following from the user and calculate the percentage of attended\n",
    "a. Total number of working day\n",
    "b. Total number of days of absent\n",
    "After calculating the percentage, show that, ifthe percentage is less than 75, then students will not be able to sit in the exam."
   ]
  },
  {
   "cell_type": "code",
   "execution_count": 27,
   "id": "949ed531-99e4-4c58-b8d0-610a26d84bd2",
   "metadata": {
    "tags": []
   },
   "outputs": [
    {
     "name": "stdin",
     "output_type": "stream",
     "text": [
      "Enter the total number of working days :  100\n",
      "Enter the number the number of days of absence :  26\n"
     ]
    },
    {
     "name": "stdout",
     "output_type": "stream",
     "text": [
      "The student won't be able sit in the exam\n"
     ]
    }
   ],
   "source": [
    "total_days = int(input(\"Enter the total number of working days : \"))\n",
    "absent_days = int(input(\"Enter the number the number of days of absence : \"))\n",
    "per = (total_days - absent_days)/total_days * 100\n",
    "if per < 75:\n",
    "    print(\"The student won't be able sit in the exam\")\n",
    "else:\n",
    "    print(\"The student will be able sit in the exam\")"
   ]
  },
  {
   "cell_type": "markdown",
   "id": "662b29a7-ab93-425c-8a39-c052d6799dc1",
   "metadata": {
    "jp-MarkdownHeadingCollapsed": true,
    "tags": []
   },
   "source": [
    "# For loops"
   ]
  },
  {
   "cell_type": "markdown",
   "id": "95757ef9-20bd-43f3-ab65-4ed9297865ed",
   "metadata": {},
   "source": [
    "1. WAP to print first 10 natural numbers"
   ]
  },
  {
   "cell_type": "code",
   "execution_count": 28,
   "id": "5c7fa081-9b5a-4ac1-bc49-df813ab808f3",
   "metadata": {
    "tags": []
   },
   "outputs": [
    {
     "name": "stdout",
     "output_type": "stream",
     "text": [
      "1\n",
      "2\n",
      "3\n",
      "4\n",
      "5\n",
      "6\n",
      "7\n",
      "8\n",
      "9\n",
      "10\n"
     ]
    }
   ],
   "source": [
    "for i in range(1,11):\n",
    "    print(i)"
   ]
  },
  {
   "cell_type": "markdown",
   "id": "ffebcc5e-0b92-40dd-971d-7d9d121de29e",
   "metadata": {},
   "source": [
    "2. WAP to print first 10 even numbers"
   ]
  },
  {
   "cell_type": "code",
   "execution_count": 29,
   "id": "6261c806-7acb-483e-953f-5731d2f5ae8f",
   "metadata": {
    "tags": []
   },
   "outputs": [
    {
     "name": "stdout",
     "output_type": "stream",
     "text": [
      "0\n",
      "2\n",
      "4\n",
      "6\n",
      "8\n",
      "10\n",
      "12\n",
      "14\n",
      "16\n",
      "18\n",
      "20\n"
     ]
    }
   ],
   "source": [
    "for i in range(0,21,2):\n",
    "    print(i)"
   ]
  },
  {
   "cell_type": "markdown",
   "id": "a1cb275f-4106-4738-9f4b-cf9063dfe174",
   "metadata": {},
   "source": [
    "3. WAP to print first 10 odd numbers"
   ]
  },
  {
   "cell_type": "code",
   "execution_count": 30,
   "id": "3c1cff7d-4b34-4326-9ecd-f726735bb9f2",
   "metadata": {
    "tags": []
   },
   "outputs": [
    {
     "name": "stdout",
     "output_type": "stream",
     "text": [
      "1\n",
      "3\n",
      "5\n",
      "7\n",
      "9\n",
      "11\n",
      "13\n",
      "15\n",
      "17\n",
      "19\n"
     ]
    }
   ],
   "source": [
    "for i in range(1,21,2):\n",
    "    print(i)"
   ]
  },
  {
   "cell_type": "markdown",
   "id": "2adc5896-06f6-4b38-93a4-71eda0828478",
   "metadata": {},
   "source": [
    "4. WAP to print first 10 even numbers in reverse order"
   ]
  },
  {
   "cell_type": "code",
   "execution_count": 34,
   "id": "29343795-daf8-40ec-b1de-b4e8a3bc1e3c",
   "metadata": {
    "tags": []
   },
   "outputs": [
    {
     "name": "stdout",
     "output_type": "stream",
     "text": [
      "20\n",
      "18\n",
      "16\n",
      "14\n",
      "12\n",
      "10\n",
      "8\n",
      "6\n",
      "4\n",
      "2\n"
     ]
    }
   ],
   "source": [
    "for i in range(20,0,-2):\n",
    "    print(i)"
   ]
  },
  {
   "cell_type": "markdown",
   "id": "2695ceee-2d62-4ae5-947a-78acdabb7078",
   "metadata": {},
   "source": [
    "5. WAP to print a table of a number accepted from the user"
   ]
  },
  {
   "cell_type": "code",
   "execution_count": 36,
   "id": "70459ac9-c816-4a5e-a1ed-d05ec10d5f7f",
   "metadata": {
    "tags": []
   },
   "outputs": [
    {
     "name": "stdin",
     "output_type": "stream",
     "text": [
      "Enter a number :  4\n"
     ]
    },
    {
     "name": "stdout",
     "output_type": "stream",
     "text": [
      "4 X 1 = 4\n",
      "4 X 2 = 8\n",
      "4 X 3 = 12\n",
      "4 X 4 = 16\n",
      "4 X 5 = 20\n",
      "4 X 6 = 24\n",
      "4 X 7 = 28\n",
      "4 X 8 = 32\n",
      "4 X 9 = 36\n",
      "4 X 10 = 40\n"
     ]
    }
   ],
   "source": [
    "n = int(input(\"Enter a number : \"))\n",
    "for i in range(1,11):\n",
    "    print(f\"{n} X {i} = {n * i}\")"
   ]
  },
  {
   "cell_type": "markdown",
   "id": "11149f43-e6d9-4868-a76e-4aea8c2a5708",
   "metadata": {},
   "source": [
    "6. WAP to display product of the digits accepted from the user"
   ]
  },
  {
   "cell_type": "code",
   "execution_count": 39,
   "id": "e223a7b8-a2fb-45bf-857f-5259af9b8643",
   "metadata": {
    "tags": []
   },
   "outputs": [
    {
     "name": "stdin",
     "output_type": "stream",
     "text": [
      "Enter number of digits :  3\n",
      "Enter the digit :  12\n",
      "Enter the digit :  11\n",
      "Enter the digit :  1\n"
     ]
    },
    {
     "name": "stdout",
     "output_type": "stream",
     "text": [
      "Product of the digit = 132\n"
     ]
    }
   ],
   "source": [
    "n = int(input(\"Enter number of digits : \"))\n",
    "product = 1\n",
    "for i in range(n):\n",
    "    x = int(input(\"Enter the digit : \"))\n",
    "    product *= x\n",
    "print(f\"Product of the digit = {product}\")"
   ]
  },
  {
   "cell_type": "markdown",
   "id": "00f9a4df-5d61-4327-8ac0-6618a3bde5c5",
   "metadata": {},
   "source": [
    "7. WAP to find the factorial of a number"
   ]
  },
  {
   "cell_type": "code",
   "execution_count": 51,
   "id": "5aa3afce-f843-4443-bcd0-9d5ead8f6211",
   "metadata": {
    "tags": []
   },
   "outputs": [
    {
     "name": "stdin",
     "output_type": "stream",
     "text": [
      "Enter a number :  5\n"
     ]
    },
    {
     "name": "stdout",
     "output_type": "stream",
     "text": [
      "Factorial of 5 is 120\n"
     ]
    }
   ],
   "source": [
    "n = int(input(\"Enter a number : \"))\n",
    "fact = 1\n",
    "for i in range(1, n+1):\n",
    "    fact *= i\n",
    "print(f\"Factorial of {n} is {fact}\")"
   ]
  },
  {
   "cell_type": "markdown",
   "id": "86505ec8-2c74-4a5a-b994-5d970276358d",
   "metadata": {},
   "source": [
    "8. WAP to find the sum of the digits of a number accepted from user"
   ]
  },
  {
   "cell_type": "code",
   "execution_count": 58,
   "id": "4b224634-26e6-4729-a3fb-4bbf9971018e",
   "metadata": {
    "tags": []
   },
   "outputs": [
    {
     "name": "stdin",
     "output_type": "stream",
     "text": [
      "Enter a number :  123\n"
     ]
    },
    {
     "name": "stdout",
     "output_type": "stream",
     "text": [
      "Sum of the digits is 6\n"
     ]
    }
   ],
   "source": [
    "n = int(input(\"Enter a number : \"))\n",
    "x = len(str(n))\n",
    "t = 0\n",
    "for i in range(x):\n",
    "    t += n % 10\n",
    "    n //= 10\n",
    "print(f\"Sum of the digits is {t}\")"
   ]
  },
  {
   "cell_type": "markdown",
   "id": "0dc975f2-0295-4694-8b6f-51dc84bbe850",
   "metadata": {},
   "source": [
    "9. WAP to check whether a number is prime or not"
   ]
  },
  {
   "cell_type": "code",
   "execution_count": 65,
   "id": "2c0758cc-38e0-48e7-a049-6e10cd4dbffb",
   "metadata": {
    "tags": []
   },
   "outputs": [
    {
     "name": "stdin",
     "output_type": "stream",
     "text": [
      "Enter a number :  17\n"
     ]
    },
    {
     "name": "stdout",
     "output_type": "stream",
     "text": [
      "The number is a prime\n"
     ]
    }
   ],
   "source": [
    "n = int(input(\"Enter a number : \"))\n",
    "is_prime = True\n",
    "for i in range(2, n):\n",
    "    if n % i == 0:\n",
    "        print(\"The number is not a prime\")\n",
    "        is_prime = False\n",
    "        break\n",
    "if is_prime:\n",
    "    print(\"The number is a prime\")"
   ]
  },
  {
   "cell_type": "raw",
   "id": "2dfcc592-716a-4520-b3ce-4e249b8f8a71",
   "metadata": {},
   "source": [
    "10. Print following pattarn\n",
    "1\n",
    "12\n",
    "123\n",
    "1234\n",
    "12345"
   ]
  },
  {
   "cell_type": "code",
   "execution_count": 67,
   "id": "5ef6f20e-e914-411a-8ba8-7962b330fed7",
   "metadata": {
    "tags": []
   },
   "outputs": [
    {
     "name": "stdout",
     "output_type": "stream",
     "text": [
      "1\n",
      "12\n",
      "123\n",
      "1234\n",
      "12345\n"
     ]
    }
   ],
   "source": [
    "for i in range(1, 6):\n",
    "    for j in range(1, i + 1):\n",
    "        print(j,end=\"\")\n",
    "    print()"
   ]
  },
  {
   "cell_type": "raw",
   "id": "2b7851d1-b30b-4dca-af50-c18098c8fec2",
   "metadata": {},
   "source": [
    "11. Print following pattern\n",
    "****\n",
    "***\n",
    "**\n",
    "*"
   ]
  },
  {
   "cell_type": "code",
   "execution_count": 70,
   "id": "95b20880-1182-4fb7-ada1-5a2214fc7772",
   "metadata": {
    "tags": []
   },
   "outputs": [
    {
     "name": "stdout",
     "output_type": "stream",
     "text": [
      "****\n",
      "***\n",
      "**\n",
      "*\n"
     ]
    }
   ],
   "source": [
    "for i in range(4, 0, -1):\n",
    "    print(\"*\" * i)"
   ]
  },
  {
   "cell_type": "markdown",
   "id": "53333278-9c65-4e32-a07e-87f501b1de38",
   "metadata": {},
   "source": [
    "12. Accept 10 number from the user and display their average using for loop"
   ]
  },
  {
   "cell_type": "code",
   "execution_count": 78,
   "id": "a05436f8-67d7-4e62-930c-e87518d41382",
   "metadata": {
    "tags": []
   },
   "outputs": [
    {
     "name": "stdin",
     "output_type": "stream",
     "text": [
      "Enter a number :  12\n",
      "Enter a number :  12\n",
      "Enter a number :  12\n",
      "Enter a number :  12\n",
      "Enter a number :  12\n",
      "Enter a number :  12\n",
      "Enter a number :  12\n",
      "Enter a number :  12\n",
      "Enter a number :  12\n",
      "Enter a number :  12\n"
     ]
    },
    {
     "name": "stdout",
     "output_type": "stream",
     "text": [
      "The average of the numbers is 12.0\n"
     ]
    }
   ],
   "source": [
    "t = 0\n",
    "for i in range(10):\n",
    "    t += int(input(\"Enter a number : \"))\n",
    "print(f\"The average of the numbers is {t/10}\")"
   ]
  },
  {
   "cell_type": "markdown",
   "id": "b6a46249-3ee2-4b43-8a9e-bac6468364d2",
   "metadata": {},
   "source": [
    "13. WAP to print all prime numbers that fall between two numbers including both"
   ]
  },
  {
   "cell_type": "code",
   "execution_count": 97,
   "id": "3c48bf25-ce1d-4941-88a1-040ab10f86dc",
   "metadata": {
    "tags": []
   },
   "outputs": [
    {
     "name": "stdin",
     "output_type": "stream",
     "text": [
      "Enter the lower end :  5\n",
      "Enter the higher end :  20\n"
     ]
    },
    {
     "name": "stdout",
     "output_type": "stream",
     "text": [
      "5\n",
      "7\n",
      "11\n",
      "13\n",
      "17\n",
      "19\n"
     ]
    }
   ],
   "source": [
    "x = int(input(\"Enter the lower end : \"))\n",
    "y = int(input(\"Enter the higher end : \"))\n",
    "for i in range(x, y+1):\n",
    "    is_prime = True\n",
    "    for j in range(2, i):\n",
    "        if i % j == 0:\n",
    "            is_prime = False\n",
    "            break\n",
    "    if is_prime:\n",
    "        print(i)"
   ]
  },
  {
   "cell_type": "markdown",
   "id": "79b87d1a-7743-432f-95f2-f8c3a19dea0b",
   "metadata": {},
   "source": [
    "14. WAP to display sum of odd and even numbers that fall between 12 and 37 including both"
   ]
  },
  {
   "cell_type": "code",
   "execution_count": 98,
   "id": "20275820-cb48-4143-bf84-05b574ef9e67",
   "metadata": {
    "tags": []
   },
   "outputs": [
    {
     "name": "stdout",
     "output_type": "stream",
     "text": [
      "Sum of odd numbers is 325\n",
      "Sum of even numbers is 312\n"
     ]
    }
   ],
   "source": [
    "odd = 0\n",
    "even = 0\n",
    "for i in range(12, 38):\n",
    "    if i % 2 == 0:\n",
    "        even += i\n",
    "    else:\n",
    "        odd += i\n",
    "print(f\"Sum of odd numbers is {odd}\")\n",
    "print(f\"Sum of even numbers is {even}\")"
   ]
  },
  {
   "cell_type": "markdown",
   "id": "a07799d4-5a35-4130-a307-d829bcbd9dff",
   "metadata": {},
   "source": [
    "15. WAP to display all the numbers which are divisible by 11 but not by 2 between 100 and 500"
   ]
  },
  {
   "cell_type": "code",
   "execution_count": 100,
   "id": "f3f7feea-7f68-4d6d-a2f2-cd2fbe502fec",
   "metadata": {
    "tags": []
   },
   "outputs": [
    {
     "name": "stdout",
     "output_type": "stream",
     "text": [
      "121\n",
      "143\n",
      "165\n",
      "187\n",
      "209\n",
      "231\n",
      "253\n",
      "275\n",
      "297\n",
      "319\n",
      "341\n",
      "363\n",
      "385\n",
      "407\n",
      "429\n",
      "451\n",
      "473\n",
      "495\n"
     ]
    }
   ],
   "source": [
    "for i in range(100, 500):\n",
    "    if i % 11 == 0:\n",
    "        if i % 2 != 0:\n",
    "            print(i)"
   ]
  },
  {
   "cell_type": "markdown",
   "id": "53c90d78-f208-49b5-a929-6e545e95f269",
   "metadata": {},
   "source": [
    "16. WAP to print 1 to 20 except multiple of 2 and 3"
   ]
  },
  {
   "cell_type": "code",
   "execution_count": 101,
   "id": "077946b7-262b-48eb-b6ec-2643c9e70248",
   "metadata": {
    "tags": []
   },
   "outputs": [
    {
     "name": "stdout",
     "output_type": "stream",
     "text": [
      "1\n",
      "5\n",
      "7\n",
      "11\n",
      "13\n",
      "17\n",
      "19\n"
     ]
    }
   ],
   "source": [
    "for i in range(1,21):\n",
    "    if i % 2 == 0 or i % 3 == 0:\n",
    "        continue\n",
    "    print(i)"
   ]
  },
  {
   "cell_type": "markdown",
   "id": "be8191ed-eece-473a-b34d-87ed20a42017",
   "metadata": {},
   "source": [
    "17. WAP to print table of number "
   ]
  },
  {
   "cell_type": "code",
   "execution_count": 1,
   "id": "6e3c53f4-b9c4-435a-b11a-af8aeb637599",
   "metadata": {
    "tags": []
   },
   "outputs": [
    {
     "name": "stdin",
     "output_type": "stream",
     "text": [
      "Enter a number :  3\n"
     ]
    },
    {
     "name": "stdout",
     "output_type": "stream",
     "text": [
      "3*1=3\n",
      "3*2=6\n",
      "3*3=9\n",
      "3*4=12\n",
      "3*5=15\n",
      "3*6=18\n",
      "3*7=21\n",
      "3*8=24\n",
      "3*9=27\n",
      "3*10=30\n"
     ]
    }
   ],
   "source": [
    "n = int(input(\"Enter a number : \"))\n",
    "for i in range(1,11):\n",
    "    print(f\"{n}*{i}={n*i}\")"
   ]
  },
  {
   "cell_type": "markdown",
   "id": "9aa865b7-471e-4e9e-9750-cc809172ce1d",
   "metadata": {
    "jp-MarkdownHeadingCollapsed": true,
    "tags": []
   },
   "source": [
    "# Lists"
   ]
  },
  {
   "cell_type": "markdown",
   "id": "def68ad8-c176-418e-beb6-add9cf6a7e8d",
   "metadata": {},
   "source": [
    "1. Create a list of the first 10 natural numbrs and print it."
   ]
  },
  {
   "cell_type": "code",
   "execution_count": 2,
   "id": "fedf03cb-43d8-4788-940e-cec6dd46b7a5",
   "metadata": {
    "tags": []
   },
   "outputs": [
    {
     "name": "stdout",
     "output_type": "stream",
     "text": [
      "1\n",
      "2\n",
      "3\n",
      "4\n",
      "5\n",
      "6\n",
      "7\n",
      "8\n",
      "9\n",
      "10\n"
     ]
    }
   ],
   "source": [
    "l = [1,2,3,4,5,6,7,8,9,10]\n",
    "for i in l:\n",
    "    print(i)"
   ]
  },
  {
   "cell_type": "markdown",
   "id": "374b3c68-2bed-4181-ac7e-4b7bfe76bc53",
   "metadata": {},
   "source": [
    "2. Append 'Python to this list: ['Java', 'C', 'C++']"
   ]
  },
  {
   "cell_type": "code",
   "execution_count": 3,
   "id": "003a762d-70a1-4e3a-a775-cf1ec8dae310",
   "metadata": {
    "tags": []
   },
   "outputs": [
    {
     "data": {
      "text/plain": [
       "['Java', 'C', 'C++', 'Python']"
      ]
     },
     "execution_count": 3,
     "metadata": {},
     "output_type": "execute_result"
    }
   ],
   "source": [
    "l = ['Java', 'C', 'C++']\n",
    "l.append('Python')\n",
    "l"
   ]
  },
  {
   "cell_type": "markdown",
   "id": "5ed7d025-ee7b-4fd6-ba4b-1b80b76311b5",
   "metadata": {},
   "source": [
    "3. 'JavaScript' at index 1 in the list:"
   ]
  },
  {
   "cell_type": "code",
   "execution_count": 7,
   "id": "5d7199cb-7880-41b3-a702-37f96bd7a02e",
   "metadata": {
    "tags": []
   },
   "outputs": [
    {
     "data": {
      "text/plain": [
       "['Python', 'JavaScript', 'C++', 'Ruby']"
      ]
     },
     "execution_count": 7,
     "metadata": {},
     "output_type": "execute_result"
    }
   ],
   "source": [
    "l = ['Python', 'C++', 'Ruby']\n",
    "l.insert(1, 'JavaScript')\n",
    "l"
   ]
  },
  {
   "cell_type": "markdown",
   "id": "dc3501e8-a9fe-449a-907a-6eb2d864107f",
   "metadata": {},
   "source": [
    "4. Revers the elements of the list "
   ]
  },
  {
   "cell_type": "code",
   "execution_count": 2,
   "id": "cb324edf-506e-4c12-8dd0-b9ce01cbf45f",
   "metadata": {
    "tags": []
   },
   "outputs": [
    {
     "name": "stdout",
     "output_type": "stream",
     "text": [
      "[5, 4, 3, 2, 1]\n"
     ]
    }
   ],
   "source": [
    "l = [1, 2, 3, 4, 5]\n",
    "l1 = l[::-1]\n",
    "print(l1)"
   ]
  },
  {
   "cell_type": "markdown",
   "id": "db57fa3d-95f4-4eb2-bc70-1513ee4195ed",
   "metadata": {},
   "source": [
    "5. Find the length of the list"
   ]
  },
  {
   "cell_type": "code",
   "execution_count": 6,
   "id": "840ae0d6-4dd6-44be-8f29-64da29eb8c22",
   "metadata": {
    "tags": []
   },
   "outputs": [
    {
     "name": "stdout",
     "output_type": "stream",
     "text": [
      "Length of the list is 4\n"
     ]
    }
   ],
   "source": [
    "l = ['apple', 'banana', 'cherry', 'elderberry']\n",
    "x = len(l)\n",
    "print(f\"Length of the list is {x}\")"
   ]
  },
  {
   "cell_type": "markdown",
   "id": "033948e5-24f7-47c7-90ed-a526e2601be6",
   "metadata": {},
   "source": [
    "6. Check if 'mango' is present in the list"
   ]
  },
  {
   "cell_type": "code",
   "execution_count": 7,
   "id": "f2af1658-e868-4fd2-ba59-46adfb14fbf2",
   "metadata": {
    "tags": []
   },
   "outputs": [
    {
     "name": "stdout",
     "output_type": "stream",
     "text": [
      "False\n"
     ]
    }
   ],
   "source": [
    "l = ['apple', 'banana', 'cherry']\n",
    "print('mango' in l)"
   ]
  },
  {
   "cell_type": "markdown",
   "id": "88785c8d-e448-4850-bcc9-7130d099ba77",
   "metadata": {},
   "source": [
    "7. Square each element in the list and store it in a new list"
   ]
  },
  {
   "cell_type": "code",
   "execution_count": 8,
   "id": "2fe8263f-420d-4300-8f93-ddb34a43dc5c",
   "metadata": {
    "tags": []
   },
   "outputs": [
    {
     "name": "stdout",
     "output_type": "stream",
     "text": [
      "[1, 9, 25, 49, 81]\n"
     ]
    }
   ],
   "source": [
    "l = [1, 3, 5, 7, 9]\n",
    "l2 = [ i ** 2 for i in l]\n",
    "print(l2)"
   ]
  },
  {
   "cell_type": "markdown",
   "id": "40de9511-91c5-4c6a-9395-87a40d26306e",
   "metadata": {
    "tags": []
   },
   "source": [
    "8. Concatenate two lists"
   ]
  },
  {
   "cell_type": "code",
   "execution_count": 10,
   "id": "861620bf-0089-4b5f-8e12-27b089a1cee6",
   "metadata": {
    "tags": []
   },
   "outputs": [
    {
     "name": "stdout",
     "output_type": "stream",
     "text": [
      "[1, 2, 3, 4, 5, 6]\n"
     ]
    }
   ],
   "source": [
    "l1 = [1,2,3]\n",
    "l2 = [4,5,6]\n",
    "print(l1 + l2)"
   ]
  },
  {
   "cell_type": "markdown",
   "id": "b4cf624e-f9ce-49e6-b866-a973a78222c6",
   "metadata": {},
   "source": [
    "9. Find the index of 'banana' in the list"
   ]
  },
  {
   "cell_type": "code",
   "execution_count": 15,
   "id": "9f3f8f15-08e5-4007-880b-2acf782682ae",
   "metadata": {
    "tags": []
   },
   "outputs": [
    {
     "name": "stdout",
     "output_type": "stream",
     "text": [
      "1\n"
     ]
    }
   ],
   "source": [
    "l = ['apple', 'banana', 'cherry', 'date']\n",
    "for i in range(len(l)):\n",
    "    if l[i] == 'banana':\n",
    "        print(i)\n",
    "        break"
   ]
  },
  {
   "cell_type": "markdown",
   "id": "02de885e-7c15-46b3-9643-adbc88957ec3",
   "metadata": {},
   "source": [
    "10. Find the sum of all elements in the list"
   ]
  },
  {
   "cell_type": "code",
   "execution_count": 17,
   "id": "b966c3aa-2c0a-4772-aebd-fda064b57d90",
   "metadata": {
    "tags": []
   },
   "outputs": [
    {
     "name": "stdout",
     "output_type": "stream",
     "text": [
      "Sum of the elements is 100\n"
     ]
    }
   ],
   "source": [
    "l = [10,20,30,40]\n",
    "total = 0\n",
    "for i in l:\n",
    "    total += i\n",
    "print(f\"Sum of the elements is {total}\")"
   ]
  },
  {
   "cell_type": "markdown",
   "id": "7907eca7-63e5-48c4-b778-2f02b2956e2a",
   "metadata": {},
   "source": [
    "11. Extract all even numbers from the list"
   ]
  },
  {
   "cell_type": "code",
   "execution_count": 19,
   "id": "50b056c9-840b-40e4-b78f-b0a9db90be6a",
   "metadata": {
    "tags": []
   },
   "outputs": [
    {
     "name": "stdout",
     "output_type": "stream",
     "text": [
      "10\n",
      "20\n",
      "30\n"
     ]
    }
   ],
   "source": [
    "l = [10,15,20,25,30]\n",
    "for i in l:\n",
    "    if i % 2 == 0:\n",
    "        print(i)"
   ]
  },
  {
   "cell_type": "markdown",
   "id": "415f7c11-252a-4067-b9f7-7669274c0a37",
   "metadata": {},
   "source": [
    "12. Generate a lst of even numbers from 1 to 20"
   ]
  },
  {
   "cell_type": "code",
   "execution_count": 20,
   "id": "e56c2dcc-fc42-4835-b0b2-84afdad66758",
   "metadata": {
    "tags": []
   },
   "outputs": [
    {
     "name": "stdout",
     "output_type": "stream",
     "text": [
      "[0, 2, 4, 6, 8, 10, 12, 14, 16, 18, 20]\n"
     ]
    }
   ],
   "source": [
    "l = [i for i in range(0,21,2)]\n",
    "print(l)"
   ]
  },
  {
   "cell_type": "markdown",
   "id": "1602dc9d-2158-4e79-86db-731023ed4246",
   "metadata": {},
   "source": [
    "13. Extract all vowels from the string 'hello world'"
   ]
  },
  {
   "cell_type": "code",
   "execution_count": 16,
   "id": "ad5818d1-dd22-4af3-9d56-021877b147b7",
   "metadata": {
    "tags": []
   },
   "outputs": [
    {
     "data": {
      "text/plain": [
       "['e', 'o', 'o']"
      ]
     },
     "execution_count": 16,
     "metadata": {},
     "output_type": "execute_result"
    }
   ],
   "source": [
    "l = [i for i in 'hello world' if i in 'aeiou']\n",
    "l"
   ]
  },
  {
   "cell_type": "markdown",
   "id": "dd3bb94f-a1c9-4060-a6b3-2d7ce6c2bad4",
   "metadata": {
    "jp-MarkdownHeadingCollapsed": true,
    "tags": []
   },
   "source": [
    "# Strings"
   ]
  },
  {
   "cell_type": "markdown",
   "id": "2ab62113-ed62-42d7-a0d1-31872374bd9d",
   "metadata": {},
   "source": [
    "1.  WAP a program to remove a particular char from a string"
   ]
  },
  {
   "cell_type": "code",
   "execution_count": 2,
   "id": "57b542c1-f9b9-4f72-8c96-c6d90c89dff3",
   "metadata": {
    "tags": []
   },
   "outputs": [
    {
     "name": "stdin",
     "output_type": "stream",
     "text": [
      "Enter a string :  saurya\n",
      "Enter the char to remove :  a\n"
     ]
    },
    {
     "data": {
      "text/plain": [
       "'sury'"
      ]
     },
     "execution_count": 2,
     "metadata": {},
     "output_type": "execute_result"
    }
   ],
   "source": [
    "s = input(\"Enter a string : \")\n",
    "c = input(\"Enter the char to remove : \")\n",
    "s.replace(c,\"\")"
   ]
  },
  {
   "cell_type": "markdown",
   "id": "42a0daeb-b7b0-4482-8018-78826c2d3a34",
   "metadata": {},
   "source": [
    "2. WAP to convert an int to a string"
   ]
  },
  {
   "cell_type": "code",
   "execution_count": 10,
   "id": "7bd22f2c-aca2-4ce7-afc1-a486d3516d32",
   "metadata": {
    "tags": []
   },
   "outputs": [
    {
     "name": "stdin",
     "output_type": "stream",
     "text": [
      "Enter a number :  97\n"
     ]
    },
    {
     "name": "stdout",
     "output_type": "stream",
     "text": [
      "a\n"
     ]
    }
   ],
   "source": [
    "s = int(input(\"Enter a number : \"))\n",
    "s = chr(s)\n",
    "print(s)"
   ]
  },
  {
   "cell_type": "markdown",
   "id": "40187369-4dd0-416f-b77e-4d8a603e9c49",
   "metadata": {},
   "source": [
    "3. WAP to count the number of words in a string without using split()"
   ]
  },
  {
   "cell_type": "code",
   "execution_count": 14,
   "id": "d87102bf-78d1-4d02-94a0-156a054c3094",
   "metadata": {
    "tags": []
   },
   "outputs": [
    {
     "name": "stdin",
     "output_type": "stream",
     "text": [
      "Enter a sentence :  My name is saurya\n"
     ]
    },
    {
     "name": "stdout",
     "output_type": "stream",
     "text": [
      "Number of words in the sentence are 4\n"
     ]
    }
   ],
   "source": [
    "s = input(\"Enter a sentence : \")\n",
    "length = 0\n",
    "for i in s:\n",
    "    if i == ' ':\n",
    "        length += 1\n",
    "length += 1\n",
    "print(f\"Number of words in the sentence are {length}\")"
   ]
  },
  {
   "cell_type": "markdown",
   "id": "7e0efe4e-ac40-46a0-adc7-2a0aa50a7a4e",
   "metadata": {},
   "source": [
    "4. WAP to check whether the string is palindrome or not "
   ]
  },
  {
   "cell_type": "code",
   "execution_count": 17,
   "id": "a55f0b76-ced3-4cca-8a61-e21c04cac1fa",
   "metadata": {
    "tags": []
   },
   "outputs": [
    {
     "name": "stdin",
     "output_type": "stream",
     "text": [
      "Enter a string :  malayalam\n"
     ]
    },
    {
     "name": "stdout",
     "output_type": "stream",
     "text": [
      "The string is a palindrome\n"
     ]
    }
   ],
   "source": [
    "s = input(\"Enter a string : \")\n",
    "if s == s[::-1]:\n",
    "    print(\"The string is a palindrome\")\n",
    "else:\n",
    "    print(\"The string is not a palindrome\")"
   ]
  },
  {
   "cell_type": "markdown",
   "id": "76c13748-3b33-45cd-8172-117461f292f3",
   "metadata": {
    "jp-MarkdownHeadingCollapsed": true,
    "tags": []
   },
   "source": [
    "# Lambda Functions"
   ]
  },
  {
   "cell_type": "markdown",
   "id": "9835b043-a9fa-4af6-94b9-d5b1d12e2a60",
   "metadata": {
    "tags": []
   },
   "source": [
    "1. Given a list of integers, use a lambda function to filter out all the even numbers"
   ]
  },
  {
   "cell_type": "code",
   "execution_count": 20,
   "id": "b74f291b-ce7a-4246-b502-aafc5b65c19e",
   "metadata": {
    "tags": []
   },
   "outputs": [
    {
     "data": {
      "text/plain": [
       "[2, 4, 6, 8, 10, 12, 14]"
      ]
     },
     "execution_count": 20,
     "metadata": {},
     "output_type": "execute_result"
    }
   ],
   "source": [
    "l = [1,2,3,4,5,6,7,8,9,10,11,12,13,14,15]\n",
    "a = lambda l: [i for i in l if i%2==0]\n",
    "a(l)"
   ]
  },
  {
   "cell_type": "markdown",
   "id": "40981ded-5b50-4e6b-b5bf-1846dcd48ce8",
   "metadata": {},
   "source": [
    "2. Write a lambda function to sort a list of strings based on their length"
   ]
  },
  {
   "cell_type": "code",
   "execution_count": 33,
   "id": "c792808e-ca86-48f2-b8cc-237dcac0a0d7",
   "metadata": {
    "tags": []
   },
   "outputs": [
    {
     "data": {
      "text/plain": [
       "['Het', 'Jinay', 'Krish', 'Saurya', 'Harshil']"
      ]
     },
     "execution_count": 33,
     "metadata": {},
     "output_type": "execute_result"
    }
   ],
   "source": [
    "l = ['Saurya', 'Krish', 'Harshil', 'Jinay', 'Het']\n",
    "a = lambda l:[i[1] for i in sorted(zip([len(i) for i in l], l))]\n",
    "a(l)"
   ]
  },
  {
   "cell_type": "markdown",
   "id": "5772bf48-2ca7-4168-8ce1-bf542fe57c89",
   "metadata": {},
   "source": [
    "3. Use a lambda function to create a new list where each number in the original list is double"
   ]
  },
  {
   "cell_type": "code",
   "execution_count": 2,
   "id": "3d1ebb96-a521-4d4c-80f8-cb32b9729395",
   "metadata": {
    "tags": []
   },
   "outputs": [
    {
     "data": {
      "text/plain": [
       "[2, 4, 6, 8, 10]"
      ]
     },
     "execution_count": 2,
     "metadata": {},
     "output_type": "execute_result"
    }
   ],
   "source": [
    "l = [1,2,3,4,5]\n",
    "a = lambda l: [i*2 for i in l]\n",
    "a(l)"
   ]
  },
  {
   "cell_type": "markdown",
   "id": "a278ae47-c38c-4f26-b86d-33cbe54b9029",
   "metadata": {},
   "source": [
    "4. Create a lambda function that returns another lambda function which adds a speified number to its argumnet"
   ]
  },
  {
   "cell_type": "code",
   "execution_count": 5,
   "id": "4e702966-24f7-4e87-96b4-163bcb14a794",
   "metadata": {
    "tags": []
   },
   "outputs": [
    {
     "name": "stdin",
     "output_type": "stream",
     "text": [
      "Enter a number :  12\n"
     ]
    },
    {
     "data": {
      "text/plain": [
       "22"
      ]
     },
     "execution_count": 5,
     "metadata": {},
     "output_type": "execute_result"
    }
   ],
   "source": [
    "x = 3\n",
    "a = lambda  "
   ]
  },
  {
   "cell_type": "markdown",
   "id": "ee56a9b0-e46a-4e0d-abb4-0848cf16df13",
   "metadata": {},
   "source": [
    "5. Given a list of integers, use a lambda function to filter out all numbers greater than 10"
   ]
  },
  {
   "cell_type": "code",
   "execution_count": 6,
   "id": "56459a55-ccb8-4ab5-8c94-787ec1153867",
   "metadata": {
    "tags": []
   },
   "outputs": [
    {
     "data": {
      "text/plain": [
       "[1, 2, 3, 4, 5]"
      ]
     },
     "execution_count": 6,
     "metadata": {},
     "output_type": "execute_result"
    }
   ],
   "source": [
    "l = [1,2,3,4,5,10,12,15,16,20]\n",
    "a = lambda l: [i for i in l if i < 10]\n",
    "a(l)"
   ]
  },
  {
   "cell_type": "markdown",
   "id": "59c7ea5d-83fa-4cff-8c29-238a3e60f56e",
   "metadata": {},
   "source": [
    "6. Write a lambda function to find the maximum value in a list of numbers"
   ]
  },
  {
   "cell_type": "code",
   "execution_count": 1,
   "id": "898e379d-d22c-435c-a0c6-f72a53a68458",
   "metadata": {
    "tags": []
   },
   "outputs": [
    {
     "data": {
      "text/plain": [
       "5"
      ]
     },
     "execution_count": 1,
     "metadata": {},
     "output_type": "execute_result"
    }
   ],
   "source": [
    "x = [1,2,3,4,5]\n",
    "a = lambda l: max(l)\n",
    "a(x)"
   ]
  },
  {
   "cell_type": "markdown",
   "id": "e5151521-e6ae-4d1d-a64a-47d5472e9058",
   "metadata": {},
   "source": [
    "7. Create a lambda function to reverse a given string"
   ]
  },
  {
   "cell_type": "code",
   "execution_count": 3,
   "id": "9aca6c60-6270-4ea6-9865-4586b0fdd641",
   "metadata": {
    "tags": []
   },
   "outputs": [
    {
     "name": "stdin",
     "output_type": "stream",
     "text": [
      "Enter a string :  Saurya\n"
     ]
    },
    {
     "data": {
      "text/plain": [
       "'ayruaS'"
      ]
     },
     "execution_count": 3,
     "metadata": {},
     "output_type": "execute_result"
    }
   ],
   "source": [
    "s = input(\"Enter a string : \")\n",
    "a = lambda s: s[::-1]\n",
    "a(s)"
   ]
  },
  {
   "cell_type": "markdown",
   "id": "0bbea2d4-4c92-4cd9-ad6f-8ab20738bf53",
   "metadata": {},
   "source": [
    "8. Write a lambda function to concatenate two strings with a space between them"
   ]
  },
  {
   "cell_type": "code",
   "execution_count": 5,
   "id": "fee87ba5-5636-43de-848f-1e67997b39cf",
   "metadata": {
    "tags": []
   },
   "outputs": [
    {
     "data": {
      "text/plain": [
       "'Saurya Thakkar'"
      ]
     },
     "execution_count": 5,
     "metadata": {},
     "output_type": "execute_result"
    }
   ],
   "source": [
    "s1 = 'Saurya'\n",
    "s2 = 'Thakkar'\n",
    "a = lambda s1, s2: f\"{s1} {s2}\"\n",
    "a(s1,s2)"
   ]
  },
  {
   "cell_type": "markdown",
   "id": "6035f772-8c62-4ffb-9a20-f0681b803852",
   "metadata": {},
   "source": [
    "9. Use a lambda function to filter a list of strings keeping only those that contain the letter 'a'"
   ]
  },
  {
   "cell_type": "code",
   "execution_count": 6,
   "id": "b579fb6a-83d3-48af-9f80-0b232650c3de",
   "metadata": {
    "tags": []
   },
   "outputs": [
    {
     "data": {
      "text/plain": [
       "['Saurya', 'Harshil', 'Jinay']"
      ]
     },
     "execution_count": 6,
     "metadata": {},
     "output_type": "execute_result"
    }
   ],
   "source": [
    "l = ['Saurya', 'Krish', 'Harshil', 'Jinay', 'Het']\n",
    "a = lambda l: [i for i in l if 'a' in i]\n",
    "a(l)"
   ]
  },
  {
   "cell_type": "markdown",
   "id": "53476638-f9b6-44c9-9b4a-ea92a9dc7e91",
   "metadata": {},
   "source": [
    "10. Given a list of tuples where each tuple contains a person's name and age (e.g., [('Alice', 30), ('Bob', 25), ('Charlie'35)], use a lambda function to sort the list by age in descending order."
   ]
  },
  {
   "cell_type": "code",
   "execution_count": 6,
   "id": "d8589ea0-6c10-40cc-bc0c-d64093c9fd1e",
   "metadata": {
    "tags": []
   },
   "outputs": [
    {
     "data": {
      "text/plain": [
       "[('Charlie', 35), ('Alice', 30), ('Bob', 25)]"
      ]
     },
     "execution_count": 6,
     "metadata": {},
     "output_type": "execute_result"
    }
   ],
   "source": [
    "l = [('Alice', 30), ('Bob', 25), ('Charlie',35)]\n",
    "a = lambda l: [(i[1], i[0]) for i in sorted(zip([i[1] for i in l], [i[0] for i in l]), reverse=True)]\n",
    "a(l)"
   ]
  },
  {
   "cell_type": "markdown",
   "id": "694875ea-0175-490e-87e0-f83537619363",
   "metadata": {
    "jp-MarkdownHeadingCollapsed": true,
    "tags": []
   },
   "source": [
    "# map(), reduce() and filter() "
   ]
  },
  {
   "cell_type": "markdown",
   "id": "e85b461f-8fa5-4995-8d7e-d00011340f40",
   "metadata": {},
   "source": [
    "1. a list contain strings, you have to concatenate all the strings using reeduce function"
   ]
  },
  {
   "cell_type": "code",
   "execution_count": 2,
   "id": "5deefdcb-2023-41a7-969a-845211ef2c0b",
   "metadata": {
    "tags": []
   },
   "outputs": [
    {
     "data": {
      "text/plain": [
       "'s a u r y a'"
      ]
     },
     "execution_count": 2,
     "metadata": {},
     "output_type": "execute_result"
    }
   ],
   "source": [
    "s = 'saurya'\n",
    "s = list(s)\n",
    "from functools import reduce\n",
    "reduce(lambda x,y: f\"{x} {y}\",s)"
   ]
  },
  {
   "cell_type": "markdown",
   "id": "ef1397e6-5122-400c-9161-427fab4f3c71",
   "metadata": {},
   "source": [
    "2. sum of the squares of all numbers in a list using reduce\n"
   ]
  },
  {
   "cell_type": "code",
   "execution_count": 8,
   "id": "3945b269-ecfb-41c8-97ef-2743fb91e5e8",
   "metadata": {
    "tags": []
   },
   "outputs": [
    {
     "data": {
      "text/plain": [
       "13"
      ]
     },
     "execution_count": 8,
     "metadata": {},
     "output_type": "execute_result"
    }
   ],
   "source": [
    "l = [2,3]\n",
    "reduce(lambda x,y: (x)+(y**2),l,0)"
   ]
  },
  {
   "cell_type": "markdown",
   "id": "9d5be7c5-ce32-4dbc-85ee-b8d33cdde6df",
   "metadata": {
    "tags": []
   },
   "source": [
    "3. compute the total length of all strings in a list using reduce\n"
   ]
  },
  {
   "cell_type": "code",
   "execution_count": 5,
   "id": "049a67f6-13e6-46bd-b02e-943d391b2c6d",
   "metadata": {
    "tags": []
   },
   "outputs": [
    {
     "data": {
      "text/plain": [
       "6"
      ]
     },
     "execution_count": 5,
     "metadata": {},
     "output_type": "execute_result"
    }
   ],
   "source": [
    "s = ['s', 'a', 'u', 'r', 'y', 'a']\n",
    "reduce(lambda x, l: x + len(l), s, 0)"
   ]
  },
  {
   "cell_type": "markdown",
   "id": "350749b9-51eb-49bd-b676-0d2cefb9f8b3",
   "metadata": {
    "tags": []
   },
   "source": [
    "4. product of all elements in a list of integers using reduce"
   ]
  },
  {
   "cell_type": "code",
   "execution_count": 3,
   "id": "76299d77-edc6-449d-83e7-08332b7ef96b",
   "metadata": {},
   "outputs": [
    {
     "data": {
      "text/plain": [
       "120"
      ]
     },
     "execution_count": 3,
     "metadata": {},
     "output_type": "execute_result"
    }
   ],
   "source": [
    "l = [1,2,3,4,5]\n",
    "reduce(lambda x, y: x * y, l)"
   ]
  },
  {
   "cell_type": "markdown",
   "id": "7ff07640-8528-43b7-b80e-4a31fa481a57",
   "metadata": {
    "jp-MarkdownHeadingCollapsed": true,
    "tags": []
   },
   "source": [
    "# Exception Handling "
   ]
  },
  {
   "cell_type": "markdown",
   "id": "dcb34f61-d5c6-4eeb-97bc-399820ddb6b3",
   "metadata": {},
   "source": [
    "1. take input of temperature and its unit(F/C) and convert it into other unit if user input some unit rasie a value error"
   ]
  },
  {
   "cell_type": "code",
   "execution_count": 5,
   "id": "1a4e3378-a9bc-4a4e-bca2-cebbc0311fac",
   "metadata": {
    "tags": []
   },
   "outputs": [
    {
     "name": "stdin",
     "output_type": "stream",
     "text": [
      "Enter the temperature :  12\n",
      "Enter C (celsius) or F (fahrenheit) :  c\n"
     ]
    },
    {
     "name": "stdout",
     "output_type": "stream",
     "text": [
      "53.6\n"
     ]
    }
   ],
   "source": [
    "temp = float(input(\"Enter the temperature : \"))\n",
    "measure = input(\"Enter C (celsius) or F (fahrenheit) : \")\n",
    "try:\n",
    "    if measure.lower() == 'c':\n",
    "        print(( (9/5) * temp ) + 32)\n",
    "    elif measure.lower() == 'f':\n",
    "        print((temp - 32) * (5/9))\n",
    "    else:\n",
    "        raise ValueError\n",
    "except ValueError:\n",
    "    print(\"Enter the temperature in fehrenheit or celsius only\")"
   ]
  },
  {
   "cell_type": "markdown",
   "id": "638c9441-4ea4-4ece-ac9d-d0fd265f0bd3",
   "metadata": {
    "tags": []
   },
   "source": [
    "# OOPS"
   ]
  },
  {
   "cell_type": "raw",
   "id": "95692c02-bc55-4893-80f7-76b7c364344c",
   "metadata": {},
   "source": [
    "create class atm\n",
    "pin = '', balance = 0 \n",
    "methods :-\n",
    "create pin\n",
    "change pin \n",
    "withdraw \n",
    "deposite\n",
    "check bal\n",
    "menu (to select method)"
   ]
  },
  {
   "cell_type": "code",
   "execution_count": 9,
   "id": "6a3891fc-af55-4110-a8c6-fd2fc9fa0389",
   "metadata": {
    "tags": []
   },
   "outputs": [
    {
     "name": "stdin",
     "output_type": "stream",
     "text": [
      "Enter your balance :  10000\n"
     ]
    },
    {
     "name": "stdout",
     "output_type": "stream",
     "text": [
      "1.Create Pin \n",
      "2.Change Pin \n",
      "3.Withdraw Money \n",
      "4.Deposite Money \n",
      "5.Check bal \n",
      "6.Exit \n",
      "\n"
     ]
    },
    {
     "name": "stdin",
     "output_type": "stream",
     "text": [
      "Select a function :  1\n",
      "Create a 4 digit pin :  1234\n"
     ]
    },
    {
     "name": "stdout",
     "output_type": "stream",
     "text": [
      "1.Create Pin \n",
      "2.Change Pin \n",
      "3.Withdraw Money \n",
      "4.Deposite Money \n",
      "5.Check bal \n",
      "6.Exit \n",
      "\n"
     ]
    },
    {
     "name": "stdin",
     "output_type": "stream",
     "text": [
      "Select a function :  3\n",
      "Enter you Pin :  1234\n",
      "Enter the amount you want to withdraw :  6000\n"
     ]
    },
    {
     "name": "stdout",
     "output_type": "stream",
     "text": [
      "Rs.6000 withdrawn\n",
      "Rs.4000 balance left\n",
      "1.Create Pin \n",
      "2.Change Pin \n",
      "3.Withdraw Money \n",
      "4.Deposite Money \n",
      "5.Check bal \n",
      "6.Exit \n",
      "\n"
     ]
    },
    {
     "name": "stdin",
     "output_type": "stream",
     "text": [
      "Select a function :  3\n",
      "Enter you Pin :  1234\n",
      "Enter the amount you want to withdraw :  5000\n"
     ]
    },
    {
     "name": "stdout",
     "output_type": "stream",
     "text": [
      "Insufficient balance\n",
      "1.Create Pin \n",
      "2.Change Pin \n",
      "3.Withdraw Money \n",
      "4.Deposite Money \n",
      "5.Check bal \n",
      "6.Exit \n",
      "\n"
     ]
    },
    {
     "name": "stdin",
     "output_type": "stream",
     "text": [
      "Select a function :  6\n"
     ]
    }
   ],
   "source": [
    "class atm:\n",
    "    def __init__ (self, bal):\n",
    "        self.bal = bal\n",
    "        self.pin = ''\n",
    "        self.menu()\n",
    "    def menu(self):\n",
    "        print(\"1.Create Pin \\n2.Change Pin \\n3.Withdraw Money \\n4.Deposite Money \\n5.Check bal \\n6.Exit \\n\")\n",
    "        c = int(input(\"Select a function : \"))\n",
    "        if c == 1:\n",
    "            self.create_pin()\n",
    "        elif c == 2:\n",
    "            self.change_pin()\n",
    "        elif c == 3:\n",
    "            self.withdraw()\n",
    "        elif c == 4:\n",
    "            self.deposite()\n",
    "        elif c == 5:\n",
    "            self.check_bal()\n",
    "        elif c == 6:\n",
    "            exit()\n",
    "        else:\n",
    "            print(\"Invalid Input\")\n",
    "    def create_pin(self):\n",
    "        pin = input(\"Create a 4 digit pin : \") \n",
    "        self.pin = pin\n",
    "        self.menu()\n",
    "    def change_pin(self):\n",
    "        n = input(\"Enter your old pin : \")\n",
    "        if self.pin == n:\n",
    "            pin = input(\"Enter your new pin : \")\n",
    "            self.pin = pin\n",
    "        else:\n",
    "            print(\"Wrong Pin!\")\n",
    "        self.menu()\n",
    "    def withdraw(self):\n",
    "        p = input(\"Enter you Pin : \")\n",
    "        if p == self.pin:\n",
    "            n = int(input(\"Enter the amount you want to withdraw : \"))\n",
    "            if self.bal < n:\n",
    "                print(\"Insufficient balance\")\n",
    "            else:\n",
    "                self.bal -= n\n",
    "                print(f\"Rs.{n} withdrawn\")\n",
    "                print(f\"Rs.{self.bal} balance left\")\n",
    "        else:\n",
    "            print(\"Wrong Pin!\")\n",
    "        self.menu()\n",
    "    def deposite(self):\n",
    "        p = input(\"Enter your Pin : \")\n",
    "        if p == self.pin:\n",
    "            n = int(input(\"Enter the amount you want to deposite : \"))\n",
    "            self.bal += n\n",
    "            print(\"Deposited successfully\")\n",
    "            print(f\"Rs.{self.bal} is your new balance\")\n",
    "        self.menu()\n",
    "    def check_bal(self):\n",
    "        print(f\"Rs.{self.bal} is your current balance\")\n",
    "        self.menu()\n",
    "\n",
    "n = int(input(\"Enter your balance : \"))\n",
    "a = atm(n)"
   ]
  },
  {
   "cell_type": "markdown",
   "id": "f29115ae-0af4-4a95-a523-cf0903fe95a8",
   "metadata": {},
   "source": [
    "Changes to above\n",
    "\n",
    "As soon as the object is created the user needs to create a pin and deposition after the pin creation\n",
    "\n",
    "Therefore the create pin functions won't be an option\n",
    "\n",
    "Will creating or changing the pin it should only of 4 digit, if invalid input is given give 3 chances if all are invalid exit from the object\n",
    "\n",
    "while checking pin give only 3 changes to enter the pin "
   ]
  },
  {
   "cell_type": "code",
   "execution_count": null,
   "id": "9b26779f-5d75-4728-a879-38aacbe5cdc2",
   "metadata": {},
   "outputs": [],
   "source": []
  }
 ],
 "metadata": {
  "kernelspec": {
   "display_name": "Python 3 (ipykernel)",
   "language": "python",
   "name": "python3"
  },
  "language_info": {
   "codemirror_mode": {
    "name": "ipython",
    "version": 3
   },
   "file_extension": ".py",
   "mimetype": "text/x-python",
   "name": "python",
   "nbconvert_exporter": "python",
   "pygments_lexer": "ipython3",
   "version": "3.7.9"
  }
 },
 "nbformat": 4,
 "nbformat_minor": 5
}
