{
 "cells": [
  {
   "cell_type": "markdown",
   "id": "2dad6699-4d26-4409-b799-9e7b215ce568",
   "metadata": {
    "tags": []
   },
   "source": [
    "# Python - Assignment 1 - Python Fundamentals"
   ]
  },
  {
   "cell_type": "markdown",
   "id": "f42b29c8-c10e-48f5-a66d-b04f463c1b5e",
   "metadata": {},
   "source": [
    "1. Introductions to Python "
   ]
  },
  {
   "cell_type": "code",
   "execution_count": 2,
   "id": "a293a781-fcc6-47fc-9a8d-0f0330ef727a",
   "metadata": {
    "tags": []
   },
   "outputs": [
    {
     "name": "stdout",
     "output_type": "stream",
     "text": [
      "Hello world!\n"
     ]
    }
   ],
   "source": [
    "#Lab exercise 1\n",
    "print(\"Hello world!\")"
   ]
  },
  {
   "cell_type": "code",
   "execution_count": 3,
   "id": "7b858736-2602-4f60-af6e-d4c10840d0f9",
   "metadata": {
    "tags": []
   },
   "outputs": [
    {
     "name": "stdout",
     "output_type": "stream",
     "text": [
      "Saurya\n"
     ]
    }
   ],
   "source": [
    "#Lab exercise 2\n",
    "print(\"Saurya\")"
   ]
  },
  {
   "cell_type": "code",
   "execution_count": null,
   "id": "4e5d5975-5b07-46f9-89e2-79458c261b02",
   "metadata": {},
   "outputs": [],
   "source": [
    "2. Programming Style"
   ]
  },
  {
   "cell_type": "code",
   "execution_count": 3,
   "id": "1cd2b9b8-9c36-483e-9080-6ddeb0c9ee40",
   "metadata": {
    "tags": []
   },
   "outputs": [
    {
     "name": "stdin",
     "output_type": "stream",
     "text": [
      "Enter a number :  0\n"
     ]
    },
    {
     "name": "stdout",
     "output_type": "stream",
     "text": [
      "Zero\n"
     ]
    }
   ],
   "source": [
    "#Lab exercise 1\n",
    "#using a variable name which makes sense\n",
    "num = int(input(\"Enter a number : \")) # taking input for a number\n",
    "if num > 0:\n",
    "    print(\"Positive\") # identation inside the if block \n",
    "elif num == 0:\n",
    "   print(\"Zero\")\n",
    "else:\n",
    "    print(\"Negative\")"
   ]
  },
  {
   "cell_type": "markdown",
   "id": "308fd703-03d6-4a21-a70a-37018dfcf8cc",
   "metadata": {},
   "source": [
    "3. Core Python Concepts"
   ]
  },
  {
   "cell_type": "code",
   "execution_count": 5,
   "id": "ffdf0d36-3603-465a-a966-0af377347466",
   "metadata": {
    "tags": []
   },
   "outputs": [],
   "source": [
    "#Lab exercise\n",
    "name = 'Saurya' # String\n",
    "age = 18 # Integer\n",
    "score = 4.5 # float\n",
    "task_completed = True # Boolen\n",
    "num = 4+1j # Complex\n",
    "l = [1, 2, 3] # list\n",
    "d = {'name':'Saurya','age':18} # Dictonary\n",
    "t = (1, 2, 3,) # Tuple\n",
    "s = {1,2,13,24,3,4,56} # Set"
   ]
  },
  {
   "cell_type": "code",
   "execution_count": 1,
   "id": "6a2bdb7a-f2cb-4191-8f8a-15f1207713f6",
   "metadata": {
    "tags": []
   },
   "outputs": [],
   "source": [
    "#Lab - Practical Example 2\n",
    "''' syntax to create a variable \n",
    "<variable_name> = <value>'''\n",
    "name = 'Saurya'"
   ]
  },
  {
   "cell_type": "code",
   "execution_count": 5,
   "id": "fb4f6bb5-7cdd-478f-9f8a-c8301b664bd3",
   "metadata": {
    "tags": []
   },
   "outputs": [
    {
     "name": "stdin",
     "output_type": "stream",
     "text": [
      "Enter your name :  Saurya\n"
     ]
    },
    {
     "data": {
      "text/plain": [
       "\" Here first we are storing the input in \\nvariable 'name' and we passed a message \\nfrom the input function to tell the user \\nthat what needs to be entered\""
      ]
     },
     "execution_count": 5,
     "metadata": {},
     "output_type": "execute_result"
    }
   ],
   "source": [
    "#Lab - Practical Example 3\n",
    "name = input(\"Enter your name : \")\n",
    "\"\"\" Here first we are storing the input in \n",
    "variable 'name' and we passed a message \n",
    "from the input function to tell the user \n",
    "that what needs to be entered\"\"\""
   ]
  },
  {
   "cell_type": "code",
   "execution_count": 6,
   "id": "37f59deb-9b92-45c9-b10c-b2bef6344ead",
   "metadata": {
    "tags": []
   },
   "outputs": [
    {
     "data": {
      "text/plain": [
       "str"
      ]
     },
     "execution_count": 6,
     "metadata": {},
     "output_type": "execute_result"
    }
   ],
   "source": [
    "#Lab - Practical Example 4\n",
    "'''to check the type of the variable using\n",
    "type() function we need to pass the variable\n",
    "name as a argument in the function'''\n",
    "type(name)"
   ]
  },
  {
   "cell_type": "markdown",
   "id": "8bf450a4-494f-47e5-a13b-1859a629c08b",
   "metadata": {},
   "source": [
    "4. Conditional Statements"
   ]
  },
  {
   "cell_type": "code",
   "execution_count": 8,
   "id": "a7fdeca9-becf-4096-8c82-95db543b8825",
   "metadata": {
    "tags": []
   },
   "outputs": [
    {
     "name": "stdin",
     "output_type": "stream",
     "text": [
      "Enter a number :  12\n",
      "Enter another number :  12\n"
     ]
    },
    {
     "name": "stdout",
     "output_type": "stream",
     "text": [
      "12 is greater than 12\n"
     ]
    }
   ],
   "source": [
    "#Lab - Practical Example 1\n",
    "a = int(input(\"Enter a number : \"))\n",
    "b = int(input(\"Enter another number : \"))\n",
    "if a > b:\n",
    "    print(f\"{a} is greater than {b}\")\n",
    "else:\n",
    "    print(f\"{b} is greater than {a}\")\n"
   ]
  },
  {
   "cell_type": "code",
   "execution_count": 27,
   "id": "092c59e9-a399-4e41-bf60-f92678014ff5",
   "metadata": {
    "tags": []
   },
   "outputs": [
    {
     "name": "stdin",
     "output_type": "stream",
     "text": [
      "Enter a number :  10\n"
     ]
    },
    {
     "name": "stdout",
     "output_type": "stream",
     "text": [
      "10 is not a prime number\n"
     ]
    }
   ],
   "source": [
    "#Lab - Practical Exercise 2\n",
    "n = int(input(\"Enter a number : \"))\n",
    "for i in range(2, n//2):\n",
    "    if n % i != 0:\n",
    "        pass\n",
    "    else:\n",
    "        print(f\"{n} is not a prime number\")\n",
    "        break\n",
    "    print(f\"{n} is a prime number\")"
   ]
  },
  {
   "cell_type": "code",
   "execution_count": 11,
   "id": "8d41ce93-4715-408c-a40b-24669e92a78d",
   "metadata": {
    "tags": []
   },
   "outputs": [
    {
     "name": "stdin",
     "output_type": "stream",
     "text": [
      "Enter your score :  43\n"
     ]
    },
    {
     "name": "stdout",
     "output_type": "stream",
     "text": [
      "C\n"
     ]
    }
   ],
   "source": [
    "#Lab - Practical Exercise 3\n",
    "score = int(input(\"Enter your score : \"))\n",
    "if score >= 90:\n",
    "    print(\"A+\")\n",
    "elif score >= 80:\n",
    "    print(\"A\")\n",
    "elif score >= 70:\n",
    "    print(\"B+\")\n",
    "elif score >= 60:\n",
    "    print(\"B\")\n",
    "elif score >= 50:\n",
    "    print(\"C+\")\n",
    "elif score >= 40:\n",
    "    print(\"C\")\n",
    "else:\n",
    "    print(\"Fail\")"
   ]
  },
  {
   "cell_type": "code",
   "execution_count": 3,
   "id": "152cd0a9-1127-49a3-9cc4-4cf9f21b3361",
   "metadata": {},
   "outputs": [
    {
     "name": "stdin",
     "output_type": "stream",
     "text": [
      "Enter your age :  18\n",
      "Did you have any disease recently (Y/N) n\n"
     ]
    },
    {
     "name": "stdout",
     "output_type": "stream",
     "text": [
      "You can donate blood\n"
     ]
    }
   ],
   "source": [
    "#Lab - Practical Exercise 4\n",
    "age = int(input(\"Enter your age : \"))\n",
    "health = input(\"Did you have any disease recently (Y/N)\").upper()\n",
    "if age < 18:\n",
    "    print(\"Too young to donate\")\n",
    "elif age > 60:\n",
    "    print(\"Too old to donate\")\n",
    "else:\n",
    "    if health == 'N':\n",
    "        print(\"You can donate blood\")\n",
    "    else:\n",
    "        print(\"You can not donate blood\")\n",
    "    "
   ]
  },
  {
   "cell_type": "markdown",
   "id": "37d6e1fc-1cf1-4739-979d-7568de833f9a",
   "metadata": {},
   "source": [
    "5. Looping (for, while)"
   ]
  },
  {
   "cell_type": "code",
   "execution_count": 15,
   "id": "15e7deb3-0538-4f1d-bf7a-be29a09d17c9",
   "metadata": {
    "tags": []
   },
   "outputs": [
    {
     "name": "stdout",
     "output_type": "stream",
     "text": [
      "apple\n",
      "banana\n",
      "mango\n"
     ]
    }
   ],
   "source": [
    "#Lab - Practice Exercise 1\n",
    "list1 = ['apple','banana','mango']\n",
    "for i in list1:\n",
    "    print(i)"
   ]
  },
  {
   "cell_type": "code",
   "execution_count": 18,
   "id": "5a571a18-b27a-4100-a86d-ff2cb1c6cd27",
   "metadata": {
    "tags": []
   },
   "outputs": [
    {
     "name": "stdout",
     "output_type": "stream",
     "text": [
      "Length of string apple is 5\n",
      "Length of string banana is 6\n",
      "Length of string mango is 5\n"
     ]
    }
   ],
   "source": [
    "#Lab - Practice Exercise 2\n",
    "list1 = ['apple','banana','mango']\n",
    "for i in list1:\n",
    "    len = 0\n",
    "    for j in i:\n",
    "        len += 1\n",
    "    print(f\"Length of string {i} is {len}\")"
   ]
  },
  {
   "cell_type": "code",
   "execution_count": 31,
   "id": "23f835c8-e0ee-4cdc-aa7c-60b84a355e83",
   "metadata": {
    "tags": []
   },
   "outputs": [
    {
     "name": "stdin",
     "output_type": "stream",
     "text": [
      "Enter the string you want to find :  Appel\n"
     ]
    },
    {
     "name": "stdout",
     "output_type": "stream",
     "text": [
      "The string is not in the list\n",
      "The string is not in the list\n",
      "The string is not in the list\n"
     ]
    }
   ],
   "source": [
    "#Lab - Practice Exercise 3\n",
    "x = input(\"Enter the string you want to find : \")\n",
    "list1 = ['apple','banana','mango']\n",
    "for i in list1:\n",
    "    if i != x:\n",
    "        pass\n",
    "    else:\n",
    "        print(\"The string is in the list\")\n",
    "        break\n",
    "    print(\"The string is not in the list\")\n",
    "    "
   ]
  },
  {
   "cell_type": "code",
   "execution_count": 3,
   "id": "65ce26f3-ae58-414d-9315-5579a2c17756",
   "metadata": {
    "tags": []
   },
   "outputs": [
    {
     "name": "stdout",
     "output_type": "stream",
     "text": [
      "*\n",
      "**\n",
      "***\n",
      "****\n",
      "*****\n"
     ]
    }
   ],
   "source": [
    "#Lab - Practical Exercise 4\n",
    "for i in range(1,6):\n",
    "    for j in range(1,i+1):\n",
    "        print(\"*\",end=\"\")\n",
    "    print()"
   ]
  },
  {
   "cell_type": "markdown",
   "id": "4c7c2074-896d-411b-906c-a898ca97245b",
   "metadata": {},
   "source": [
    "6. Generators and iterators"
   ]
  },
  {
   "cell_type": "markdown",
   "id": "a470711f-12ef-41b0-a385-1bdc4ee18d7e",
   "metadata": {},
   "source": [
    "7. Functions and methods"
   ]
  },
  {
   "cell_type": "code",
   "execution_count": 3,
   "id": "dbf5bc9e-4286-4b1f-8ecd-8332c96cfea2",
   "metadata": {
    "tags": []
   },
   "outputs": [
    {
     "name": "stdin",
     "output_type": "stream",
     "text": [
      "Enter your name :  Saurya\n"
     ]
    },
    {
     "name": "stdout",
     "output_type": "stream",
     "text": [
      "Hello, Saurya\n"
     ]
    }
   ],
   "source": [
    "#Lab - Practical Exercise 1\n",
    "def display():\n",
    "    n = input(\"Enter your name : \")\n",
    "    print(f\"Hello, {n}\")\n",
    "display()"
   ]
  },
  {
   "cell_type": "code",
   "execution_count": 4,
   "id": "3d5e8378-4de1-47d9-ba43-cd57d5907fcb",
   "metadata": {
    "tags": []
   },
   "outputs": [
    {
     "name": "stdout",
     "output_type": "stream",
     "text": [
      "hello\n"
     ]
    }
   ],
   "source": [
    "#Lab - Practical Exercise 2\n",
    "def display(n):\n",
    "    x = n\n",
    "    print(x)\n",
    "display('hello')"
   ]
  },
  {
   "cell_type": "code",
   "execution_count": 5,
   "id": "017fff28-689f-4718-aac5-ac4d4bccafa6",
   "metadata": {
    "tags": []
   },
   "outputs": [
    {
     "name": "stdout",
     "output_type": "stream",
     "text": [
      "Hello\n"
     ]
    }
   ],
   "source": [
    "#Lab - Practical Exercise 3\n",
    "def display1():\n",
    "    print('''Hello''')\n",
    "display1()"
   ]
  },
  {
   "cell_type": "code",
   "execution_count": 6,
   "id": "3ca4d7f1-e9b7-444d-a041-43a72573c9be",
   "metadata": {
    "tags": []
   },
   "outputs": [
    {
     "name": "stdout",
     "output_type": "stream",
     "text": [
      "h is the first character\n"
     ]
    }
   ],
   "source": [
    "#Lab - Practical Exercise 4\n",
    "def show_first(n):\n",
    "    print(f\"{n[0]} is the first character\")\n",
    "show_first('hello world')"
   ]
  },
  {
   "cell_type": "code",
   "execution_count": 9,
   "id": "8e09a0b4-9476-4b83-a406-b6caf80b0da0",
   "metadata": {
    "tags": []
   },
   "outputs": [
    {
     "name": "stdout",
     "output_type": "stream",
     "text": [
      "ello world!\n"
     ]
    }
   ],
   "source": [
    "#Lab - Practical Exercise 5\n",
    "def show(n):\n",
    "    print(n[1:])\n",
    "show('hello world!')"
   ]
  },
  {
   "cell_type": "code",
   "execution_count": 10,
   "id": "aee5a454-d05f-4ae2-8743-19eaeacff2c9",
   "metadata": {
    "tags": []
   },
   "outputs": [
    {
     "name": "stdout",
     "output_type": "stream",
     "text": [
      "hello\n"
     ]
    }
   ],
   "source": [
    "#Lab - Practical Exercise 6\n",
    "def show(n):\n",
    "    print(n[:5])\n",
    "show('hello world!')"
   ]
  },
  {
   "cell_type": "code",
   "execution_count": 11,
   "id": "164d32b4-8a16-4d5e-b248-f814994710bb",
   "metadata": {
    "tags": []
   },
   "outputs": [
    {
     "name": "stdout",
     "output_type": "stream",
     "text": [
      "ell\n"
     ]
    }
   ],
   "source": [
    "#Lab - Practical Exercise 7\n",
    "def sub_string(n):\n",
    "    print(n[1:4])\n",
    "sub_string('hello world!')"
   ]
  },
  {
   "cell_type": "code",
   "execution_count": 12,
   "id": "036ba7d4-832a-4518-af47-4c2304f8bc18",
   "metadata": {
    "tags": []
   },
   "outputs": [
    {
     "name": "stdout",
     "output_type": "stream",
     "text": [
      "!dlrow olleh\n"
     ]
    }
   ],
   "source": [
    "#Lab - Practical Exercise 8\n",
    "def reverse(n):\n",
    "    print(n[::-1])\n",
    "reverse('hello world!')"
   ]
  },
  {
   "cell_type": "code",
   "execution_count": 14,
   "id": "b81eb1fc-4a7d-472c-a990-7737b022c6d8",
   "metadata": {
    "tags": []
   },
   "outputs": [
    {
     "name": "stdout",
     "output_type": "stream",
     "text": [
      "el ol\n"
     ]
    }
   ],
   "source": [
    "#Lab - Practical Exercise 9\n",
    "def show(n):\n",
    "    print(n[1::2])\n",
    "show('Hello world')"
   ]
  },
  {
   "cell_type": "markdown",
   "id": "633c3951-dbc2-4d92-9309-80c218aecc4d",
   "metadata": {},
   "source": [
    "8. Controal Statements"
   ]
  },
  {
   "cell_type": "code",
   "execution_count": 3,
   "id": "601ff0c8-c7de-4671-99fc-2137fa031256",
   "metadata": {
    "tags": []
   },
   "outputs": [],
   "source": [
    "#lab - Practical Exercise 1"
   ]
  },
  {
   "cell_type": "code",
   "execution_count": 4,
   "id": "b8df1018-965f-4d17-846e-d3d27365d127",
   "metadata": {
    "tags": []
   },
   "outputs": [
    {
     "name": "stdout",
     "output_type": "stream",
     "text": [
      "apple\n",
      "mango\n"
     ]
    }
   ],
   "source": [
    "l = ['apple', 'banana', 'mango']\n",
    "for i in l:\n",
    "    if i == 'banana':\n",
    "        continue\n",
    "    print(i)"
   ]
  },
  {
   "cell_type": "code",
   "execution_count": 6,
   "id": "46d7ebec-f3d3-4154-b24f-2913948945fc",
   "metadata": {
    "tags": []
   },
   "outputs": [
    {
     "name": "stdout",
     "output_type": "stream",
     "text": [
      "apple\n"
     ]
    }
   ],
   "source": [
    "#Lab - Practical Exercise 2\n",
    "for i in l:\n",
    "    if i == 'banana':\n",
    "        break\n",
    "    print(i)"
   ]
  },
  {
   "cell_type": "markdown",
   "id": "69f2f395-d45d-4e42-b773-f70ea23ecb25",
   "metadata": {},
   "source": [
    "9. String Manipulation"
   ]
  },
  {
   "cell_type": "code",
   "execution_count": 9,
   "id": "6c9d90a9-d265-4bb9-962d-d70172647fe7",
   "metadata": {
    "tags": []
   },
   "outputs": [
    {
     "name": "stdout",
     "output_type": "stream",
     "text": [
      "hell\n"
     ]
    }
   ],
   "source": [
    "#Lab - Practical Exercise 1\n",
    "s = 'hello world!'\n",
    "print(s[0:4])\n",
    "# syntax - <string_variable>[start:stop:step] here step is optional and by default it is 1"
   ]
  },
  {
   "cell_type": "code",
   "execution_count": 23,
   "id": "d99053b9-054a-4e39-81f1-378adecb6eb6",
   "metadata": {
    "tags": []
   },
   "outputs": [
    {
     "name": "stdout",
     "output_type": "stream",
     "text": [
      "hello world!\n",
      "HELLO WORLD!\n",
      "hELLO wORLD!\n",
      "['Hello', 'World!']\n",
      "2\n"
     ]
    }
   ],
   "source": [
    "#Lab - Practical Exercise 2\n",
    "s = 'Hello World!'\n",
    "print(s.lower()) #to converts the whole string into lowercase\n",
    "print(s.upper()) #to converts the whole string into uppercase\n",
    "print(s.swapcase()) #to change the case of every character\n",
    "print(s.split()) #to create a list from the characters in the stirng\n",
    "print(s.count('o')) #to count the occurance of a particular string within the string"
   ]
  },
  {
   "cell_type": "markdown",
   "id": "326ebbd9-93c2-4454-8ec9-c1e93d221df1",
   "metadata": {},
   "source": [
    "10. Advance python (map(), reduce(), filter(), Closures and Decoratros"
   ]
  }
 ],
 "metadata": {
  "kernelspec": {
   "display_name": "Python 3 (ipykernel)",
   "language": "python",
   "name": "python3"
  },
  "language_info": {
   "codemirror_mode": {
    "name": "ipython",
    "version": 3
   },
   "file_extension": ".py",
   "mimetype": "text/x-python",
   "name": "python",
   "nbconvert_exporter": "python",
   "pygments_lexer": "ipython3",
   "version": "3.7.9"
  }
 },
 "nbformat": 4,
 "nbformat_minor": 5
}
