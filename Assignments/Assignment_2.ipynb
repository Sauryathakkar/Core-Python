{
 "cells": [
  {
   "cell_type": "markdown",
   "id": "aec731d0-6b5f-4d19-a7b5-fbd0b2733341",
   "metadata": {
    "tags": []
   },
   "source": [
    "# Python - Assignment 2 - Collections, functions and Modules"
   ]
  },
  {
   "cell_type": "markdown",
   "id": "703d5346-5685-429d-8894-63070f4fa491",
   "metadata": {},
   "source": [
    "1. Accessing list"
   ]
  },
  {
   "cell_type": "code",
   "execution_count": 6,
   "id": "bbb42b36-b04d-404a-92b0-860bf9d9366e",
   "metadata": {
    "tags": []
   },
   "outputs": [
    {
     "name": "stdin",
     "output_type": "stream",
     "text": [
      "Enter the index you want to see :  5\n"
     ]
    },
    {
     "name": "stdout",
     "output_type": "stream",
     "text": [
      "Index out of range\n"
     ]
    },
    {
     "name": "stdin",
     "output_type": "stream",
     "text": [
      "Enter the index you want to see :  2\n"
     ]
    },
    {
     "name": "stdout",
     "output_type": "stream",
     "text": [
      "python\n"
     ]
    }
   ],
   "source": [
    "#lab 1 - Write a Python program to access elements at different index positions.\n",
    "while True:\n",
    "    n = int(input(\"Enter the index you want to see : \"))\n",
    "    if n < len(l):\n",
    "        break\n",
    "    else:\n",
    "        print(\"Index out of range\")\n",
    "print(l[n])"
   ]
  },
  {
   "cell_type": "code",
   "execution_count": 9,
   "id": "384cdf34-182f-40d8-8c5b-41199b068ab5",
   "metadata": {
    "tags": []
   },
   "outputs": [],
   "source": [
    "#Practicle Examples 1 - Write a Python program to create a list of multiple data type elements.\n",
    "l = [1, 2.5, 'python', True]"
   ]
  },
  {
   "cell_type": "code",
   "execution_count": 10,
   "id": "6c9e05d8-61d1-4e61-acea-65e90271d71d",
   "metadata": {
    "tags": []
   },
   "outputs": [
    {
     "data": {
      "text/plain": [
       "4"
      ]
     },
     "execution_count": 10,
     "metadata": {},
     "output_type": "execute_result"
    }
   ],
   "source": [
    "#Practicle Examples 2 - Write a Python program to find the length of a list using the len() function\n",
    "len(l)"
   ]
  },
  {
   "cell_type": "markdown",
   "id": "172b768f-320d-4ef1-a313-de231f6e16c4",
   "metadata": {},
   "source": [
    "2. List Operators"
   ]
  },
  {
   "cell_type": "code",
   "execution_count": 2,
   "id": "f671d1e0-399f-4d90-b142-76c40fa315b2",
   "metadata": {
    "tags": []
   },
   "outputs": [
    {
     "name": "stdout",
     "output_type": "stream",
     "text": [
      "['Python', 'JavaScript', 'Java', 'PHP', 'C++']\n"
     ]
    }
   ],
   "source": [
    "#Practical Example 3 - Write a Python program to add elements to a list using insert() and append()\n",
    "l = ['Python', 'Java', 'PHP']\n",
    "l.insert(1, 'JavaScript')\n",
    "l.append('C++')\n",
    "print(l)"
   ]
  },
  {
   "cell_type": "code",
   "execution_count": 3,
   "id": "d201cb4a-0dd0-440d-b97f-04adbd4d7405",
   "metadata": {
    "tags": []
   },
   "outputs": [
    {
     "name": "stdout",
     "output_type": "stream",
     "text": [
      "['Python', 'Java', 'PHP']\n"
     ]
    }
   ],
   "source": [
    "#PRactical Example 4 - Write a python program to remove elements from a list using pop() and remove()\n",
    "l.pop()\n",
    "l.remove('JavaScript')\n",
    "print(l)"
   ]
  },
  {
   "cell_type": "markdown",
   "id": "6cad2b2e-29e9-444e-b123-624d2749d7e3",
   "metadata": {},
   "source": [
    "3. Working with lists"
   ]
  },
  {
   "cell_type": "code",
   "execution_count": 10,
   "id": "821ea072-5b8d-4b20-a172-c4c1a78644c8",
   "metadata": {
    "tags": []
   },
   "outputs": [
    {
     "name": "stdout",
     "output_type": "stream",
     "text": [
      "[1, 2, 3, 4, 6, 12, 34]\n"
     ]
    }
   ],
   "source": [
    "#Lab 1 - Write a python program to sort a list using both .sort() and sorted()\n",
    "l = [1,12,2,3,6,4,34]\n",
    "l.sort()\n",
    "print(l)"
   ]
  },
  {
   "cell_type": "code",
   "execution_count": 11,
   "id": "0ac47217-c823-4d0d-878e-0ea159cef302",
   "metadata": {
    "tags": []
   },
   "outputs": [
    {
     "data": {
      "text/plain": [
       "[1, 2, 3, 4, 6, 12, 34]"
      ]
     },
     "execution_count": 11,
     "metadata": {},
     "output_type": "execute_result"
    }
   ],
   "source": [
    "l = [1,12,2,3,6,4,34]\n",
    "sorted(l)"
   ]
  },
  {
   "cell_type": "code",
   "execution_count": 8,
   "id": "49bcf820-d070-4fc4-982b-09e076c7f0aa",
   "metadata": {
    "tags": []
   },
   "outputs": [
    {
     "name": "stdout",
     "output_type": "stream",
     "text": [
      "Python\n",
      "Java\n",
      "JavaScript\n",
      "PHP\n",
      "C\n",
      "C++\n"
     ]
    }
   ],
   "source": [
    "#Practical Example 5 - WAP to iterate through a lst and print each element\n",
    "l = ['Python', 'Java', 'JavaScript', 'PHP', 'C', 'C++']\n",
    "for i in l:\n",
    "    print(i)"
   ]
  },
  {
   "cell_type": "code",
   "execution_count": 5,
   "id": "5486803c-d147-4b3f-ae8b-9595f0bcca23",
   "metadata": {},
   "outputs": [
    {
     "name": "stdin",
     "output_type": "stream",
     "text": [
      "How many element you want to eneter :  5\n",
      "Enter the element :  python\n",
      "Enter the element :  java\n",
      "Enter the element :  PHP\n",
      "Enter the element :  C++\n",
      "Enter the element :  C\n"
     ]
    },
    {
     "name": "stdout",
     "output_type": "stream",
     "text": [
      "['python', 'java', 'PHP', 'C++', 'C']\n"
     ]
    }
   ],
   "source": [
    "#Practical Example 6 - WAP to insert elements into an empty list using for loop and append()\n",
    "l = []\n",
    "n = int(input(\"How many element you want to eneter : \"))\n",
    "for i in range(n):\n",
    "    e = input(\"Enter the element : \")\n",
    "    l.append(e)\n",
    "print(l)"
   ]
  },
  {
   "cell_type": "markdown",
   "id": "c0e3496a-790d-4e73-bd57-8ed95e18957b",
   "metadata": {},
   "source": [
    "4. Tuple"
   ]
  },
  {
   "cell_type": "code",
   "execution_count": 8,
   "id": "2b0a7b52-2b2e-4b0e-bdee-ae5fb0d5a755",
   "metadata": {
    "tags": []
   },
   "outputs": [
    {
     "name": "stdout",
     "output_type": "stream",
     "text": [
      "('python', 'java', 'PHP', 'C++', 'C')\n",
      "<class 'tuple'>\n"
     ]
    }
   ],
   "source": [
    "#Practical Example 7 - WAP to convert a list into tuple\n",
    "l = tuple(l)\n",
    "print(f\"{l}\\n{type(l)}\")"
   ]
  },
  {
   "cell_type": "code",
   "execution_count": 9,
   "id": "daeec2cb-3cb9-4cf8-8259-819ad1fa15a5",
   "metadata": {
    "tags": []
   },
   "outputs": [],
   "source": [
    "#Practical Example 8 - WAP to create a tuple with multiple datatypes.\n",
    "t = (1, 2.5, 'python', True)"
   ]
  },
  {
   "cell_type": "code",
   "execution_count": 10,
   "id": "38816ef6-8fd5-4b65-8b76-3ee00bf1ceab",
   "metadata": {
    "tags": []
   },
   "outputs": [
    {
     "name": "stdout",
     "output_type": "stream",
     "text": [
      "(1, 2, 3, 4, 5, 6)\n"
     ]
    }
   ],
   "source": [
    "#Practical Example 9 - WAP tp concatenate two tuples into one.\n",
    "t1 = (1,2,3)\n",
    "t2 = (4,5,6)\n",
    "print(t1+t2)"
   ]
  },
  {
   "cell_type": "code",
   "execution_count": 11,
   "id": "40006bbc-8d95-417d-a492-3a970dbd46fb",
   "metadata": {
    "tags": []
   },
   "outputs": [
    {
     "name": "stdout",
     "output_type": "stream",
     "text": [
      "1\n"
     ]
    }
   ],
   "source": [
    "#Practical Example 10 - WAP to access the value of the first index in tuple\n",
    "print(t[0])"
   ]
  },
  {
   "cell_type": "markdown",
   "id": "1f62b501-05b6-4dbf-a43d-67f6ffd3933d",
   "metadata": {},
   "source": [
    "5. Accessing Tuples "
   ]
  },
  {
   "cell_type": "code",
   "execution_count": 12,
   "id": "2f0fcfec-7bf5-4cdc-8038-113fc80ba5ff",
   "metadata": {
    "tags": []
   },
   "outputs": [
    {
     "name": "stdout",
     "output_type": "stream",
     "text": [
      "1\n",
      "3\n",
      "5\n"
     ]
    }
   ],
   "source": [
    "#Lab 1 - WAP to access alternate values between index 1 to 5 in a tuple\n",
    "t = (1,2,3,4,5,6)\n",
    "for i in range(0,6,2):\n",
    "    print(t[i])"
   ]
  },
  {
   "cell_type": "code",
   "execution_count": 16,
   "id": "695143ae-06e1-4b02-93d4-657ac8612ad2",
   "metadata": {
    "tags": []
   },
   "outputs": [
    {
     "name": "stdout",
     "output_type": "stream",
     "text": [
      "2\n",
      "3\n",
      "4\n",
      "5\n",
      "6\n"
     ]
    }
   ],
   "source": [
    "#Practical Example 11 - WAP to access values between inde 1 to 5 in a tuple\n",
    "for i in range(1,6):\n",
    "    print(t[i])"
   ]
  },
  {
   "cell_type": "code",
   "execution_count": 18,
   "id": "24277d84-578b-4543-aefb-4c1493b92425",
   "metadata": {
    "tags": []
   },
   "outputs": [
    {
     "name": "stdout",
     "output_type": "stream",
     "text": [
      "6\n"
     ]
    }
   ],
   "source": [
    "#Practical Example 12 - WAP to access the value from the last index in tuple\n",
    "print(t[ len(t) - 1 ])"
   ]
  },
  {
   "cell_type": "markdown",
   "id": "de62c894-5bbc-4537-a554-a2dc65316295",
   "metadata": {},
   "source": [
    "6. Dictionaries"
   ]
  },
  {
   "cell_type": "code",
   "execution_count": 15,
   "id": "f2e1c4a1-4cfd-4fcb-8165-0a1c48471e5d",
   "metadata": {
    "tags": []
   },
   "outputs": [],
   "source": [
    "#Practical Example 13 - WAP to create a dictionary with 6 key-value pairs\n",
    "d = {'name':'Shaurya', 'age': 18, 'gender': 'male', 'course':'python', 'course completed':'no', 'score':'4/5'}     "
   ]
  },
  {
   "cell_type": "code",
   "execution_count": 17,
   "id": "2fecebaf-053b-46f2-912f-bf71af4c52c8",
   "metadata": {
    "tags": []
   },
   "outputs": [
    {
     "name": "stdin",
     "output_type": "stream",
     "text": [
      "Enter what you want to see :  name\n"
     ]
    },
    {
     "name": "stdout",
     "output_type": "stream",
     "text": [
      "Shaurya\n"
     ]
    }
   ],
   "source": [
    "#Practical Example 14 - WAP to access values using dictionary keys.\n",
    "key = input(\"Enter what you want to see : \")\n",
    "print(d[key])"
   ]
  },
  {
   "cell_type": "markdown",
   "id": "11a3d597-52d8-49ee-921d-04e2172beefa",
   "metadata": {},
   "source": [
    "7. Working with Dictionaries"
   ]
  },
  {
   "cell_type": "code",
   "execution_count": 18,
   "id": "898c7249-a564-4fe2-91b9-cb923f6d991f",
   "metadata": {
    "tags": []
   },
   "outputs": [
    {
     "name": "stdout",
     "output_type": "stream",
     "text": [
      "{'name': 'Shaurya', 'age': 18, 'gender': 'male', 'course': 'python', 'course completed': 'no', 'score': '4/5'}\n",
      "{'name': 'Saurya', 'age': 18, 'gender': 'male', 'course': 'python', 'course completed': 'no', 'score': '4/5'}\n"
     ]
    }
   ],
   "source": [
    "#Practical Examples 15 - WAP to update a value at a particular key in a dictionary\n",
    "print(d)\n",
    "d['name'] = 'Saurya'\n",
    "print(d)"
   ]
  },
  {
   "cell_type": "code",
   "execution_count": 19,
   "id": "28972561-855c-4bb7-a9e8-e5b82896ea18",
   "metadata": {
    "tags": []
   },
   "outputs": [
    {
     "name": "stdout",
     "output_type": "stream",
     "text": [
      "dict_keys(['name', 'age', 'gender', 'course', 'course completed', 'score'])\n",
      "dict_values(['Saurya', 18, 'male', 'python', 'no', '4/5'])\n"
     ]
    }
   ],
   "source": [
    "#Practical Examples 16 - WAP to separate keys and values from a dictionary using keys() and values() methods\n",
    "print(d.keys())\n",
    "print(d.values())"
   ]
  },
  {
   "cell_type": "code",
   "execution_count": 20,
   "id": "4f91529b-f98a-487c-beaa-78db87d1885f",
   "metadata": {
    "tags": []
   },
   "outputs": [
    {
     "name": "stdout",
     "output_type": "stream",
     "text": [
      "{'name': 'krish', 'age': 19, 'gender': 'male'}\n"
     ]
    }
   ],
   "source": [
    "#Practical Examples 17 - WAP to convert two lists into one dictionary using for loop\n",
    "l1 = ['name', 'age', 'gender']\n",
    "l2 = ['krish', 19, 'male']\n",
    "d1 = {}\n",
    "for i in range(len(l1)):\n",
    "    d1[l1[i]] = l2[i]\n",
    "print(d1)"
   ]
  },
  {
   "cell_type": "code",
   "execution_count": 28,
   "id": "6556026f-98cf-415c-bdea-a1aacf048017",
   "metadata": {
    "tags": []
   },
   "outputs": [
    {
     "name": "stdin",
     "output_type": "stream",
     "text": [
      "Enter any string :  hello world\n"
     ]
    },
    {
     "name": "stdout",
     "output_type": "stream",
     "text": [
      "{'h': 1, 'e': 1, 'l': 3, 'o': 2, ' ': 1, 'w': 1, 'r': 1, 'd': 1}\n"
     ]
    }
   ],
   "source": [
    "#Practical Examples 18 - to count how many times each character appears in a string\n",
    "s = input(\"Enter any string : \")\n",
    "d = {}\n",
    "for i in s:\n",
    "    if i in d.keys():\n",
    "        d[i] += 1\n",
    "    else:\n",
    "        d[i] = 1\n",
    "print(d)"
   ]
  },
  {
   "cell_type": "markdown",
   "id": "fc1211be-8291-440c-94b6-170557359dbe",
   "metadata": {},
   "source": [
    "8. Functions"
   ]
  },
  {
   "cell_type": "code",
   "execution_count": 8,
   "id": "7f428b00-2478-456b-9ef6-7cfb2fd7df23",
   "metadata": {
    "tags": []
   },
   "outputs": [
    {
     "name": "stdout",
     "output_type": "stream",
     "text": [
      "1. Addition \n",
      "2. Subtraction \n",
      "3. Multiplication \n",
      "4. Division \n",
      "5. Exit\n"
     ]
    },
    {
     "name": "stdin",
     "output_type": "stream",
     "text": [
      "Select a function :  1\n",
      "Enter a number :  12\n",
      "Enter another number :  12\n"
     ]
    },
    {
     "name": "stdout",
     "output_type": "stream",
     "text": [
      "24\n",
      "1. Addition \n",
      "2. Subtraction \n",
      "3. Multiplication \n",
      "4. Division \n",
      "5. Exit\n"
     ]
    },
    {
     "name": "stdin",
     "output_type": "stream",
     "text": [
      "Select a function :  5\n",
      "Enter a number :  1\n",
      "Enter another number :  12\n"
     ]
    }
   ],
   "source": [
    "#Lab 1 - WAP to create a calculator using functions\n",
    "def add(a,b):\n",
    "    return a+b\n",
    "def less(a,b):\n",
    "    return a-b\n",
    "def multiply(a,b):\n",
    "    return a*b\n",
    "def divide(a,b):\n",
    "    return a/b\n",
    "while True:\n",
    "    print(\"1. Addition \\n2. Subtraction \\n3. Multiplication \\n4. Division \\n5. Exit\")\n",
    "    n = int(input(\"Select a function : \"))\n",
    "    x = int(input(\"Enter a number : \"))\n",
    "    y = int(input(\"Enter another number : \"))\n",
    "    if n == 1:\n",
    "        print(add(x,y))\n",
    "    elif n ==2:\n",
    "        print(less(x,y))\n",
    "    elif n == 3:\n",
    "        print(multiply(x,y))\n",
    "    elif n == 4:\n",
    "        print(divide(x,y))\n",
    "    elif n == 5:\n",
    "        break\n",
    "    else:\n",
    "        print(\"Invalid Operation\")"
   ]
  },
  {
   "cell_type": "code",
   "execution_count": 13,
   "id": "175fa2d2-a6b6-4950-a898-c105fc85ea30",
   "metadata": {
    "tags": []
   },
   "outputs": [
    {
     "name": "stdout",
     "output_type": "stream",
     "text": [
      "hello world\n"
     ]
    }
   ],
   "source": [
    "#Practical Examples 19 - WAP to print a string using a function\n",
    "def display(n):\n",
    "    print(n)\n",
    "display('hello world')"
   ]
  },
  {
   "cell_type": "code",
   "execution_count": 11,
   "id": "1735f830-662c-442d-b144-555d9f584bfb",
   "metadata": {
    "tags": []
   },
   "outputs": [
    {
     "name": "stdout",
     "output_type": "stream",
     "text": [
      "hello world\n",
      "15\n"
     ]
    }
   ],
   "source": [
    "#Practical Examples 20 - WAP to create a parameterized function that takes two argumnents and prints their sum\n",
    "def add(a,b):\n",
    "    print(a+b)\n",
    "add('hello',' world')\n",
    "add(5,10)"
   ]
  },
  {
   "cell_type": "code",
   "execution_count": 1,
   "id": "566b0b04-172b-42cf-b3e1-44e562868d53",
   "metadata": {
    "tags": []
   },
   "outputs": [
    {
     "data": {
      "text/plain": [
       "6"
      ]
     },
     "execution_count": 1,
     "metadata": {},
     "output_type": "execute_result"
    }
   ],
   "source": [
    "#Practical Examples 21 - WAP to create a lambda function with one expression \n",
    "x = 3\n",
    "a = lambda x: x+3\n",
    "a(x)"
   ]
  },
  {
   "cell_type": "code",
   "execution_count": 2,
   "id": "2bd5e68a-21c0-4a96-b3b6-55ae33d182e1",
   "metadata": {
    "tags": []
   },
   "outputs": [
    {
     "data": {
      "text/plain": [
       "60"
      ]
     },
     "execution_count": 2,
     "metadata": {},
     "output_type": "execute_result"
    }
   ],
   "source": [
    "#Practical Examples 22 - WAP to create a lambda functions functions with two expressions\n",
    "x = 3\n",
    "a = lambda x: (x + 3) * 10\n",
    "a(x)"
   ]
  },
  {
   "cell_type": "markdown",
   "id": "9e0f8ba9-f98d-4be7-b4fd-542237f01c30",
   "metadata": {},
   "source": [
    "9. Modules"
   ]
  },
  {
   "cell_type": "code",
   "execution_count": 4,
   "id": "3edb6d52-f87a-4f00-8f19-3502b33f2704",
   "metadata": {
    "tags": []
   },
   "outputs": [
    {
     "name": "stdout",
     "output_type": "stream",
     "text": [
      "10.0\n",
      "13\n",
      "12\n"
     ]
    }
   ],
   "source": [
    "#Practical Examples 23 - WAP to demonstrate the use of functions from the 'math' module\n",
    "import math\n",
    "print(math.sqrt(100))\n",
    "print(math.ceil(12.5))\n",
    "print(math.floor(12.5))"
   ]
  },
  {
   "cell_type": "code",
   "execution_count": 10,
   "id": "682c83cb-6d3c-4cbb-b2cf-afa75dad5478",
   "metadata": {
    "tags": []
   },
   "outputs": [
    {
     "name": "stdout",
     "output_type": "stream",
     "text": [
      "65\n"
     ]
    }
   ],
   "source": [
    "#Practical Examples 24 - WAP program to generate random numbes between 1 and 100 using the 'random' module\n",
    "import random\n",
    "x = random.randint(1,100)\n",
    "print(x)"
   ]
  }
 ],
 "metadata": {
  "kernelspec": {
   "display_name": "Python 3 (ipykernel)",
   "language": "python",
   "name": "python3"
  },
  "language_info": {
   "codemirror_mode": {
    "name": "ipython",
    "version": 3
   },
   "file_extension": ".py",
   "mimetype": "text/x-python",
   "name": "python",
   "nbconvert_exporter": "python",
   "pygments_lexer": "ipython3",
   "version": "3.7.9"
  }
 },
 "nbformat": 4,
 "nbformat_minor": 5
}
