{
 "cells": [
  {
   "cell_type": "markdown",
   "id": "7c9fae06-fc4b-429f-ba6c-3c0c57bf9bd6",
   "metadata": {},
   "source": [
    "# Python - Assignment 3 - Advance Python Programming "
   ]
  },
  {
   "cell_type": "markdown",
   "id": "adcc755e-cbe3-4669-a813-e9453b5f949f",
   "metadata": {},
   "source": [
    "1. Print on Screen"
   ]
  },
  {
   "cell_type": "code",
   "execution_count": 1,
   "id": "a78bfa13-f1b5-47ec-8e8c-711b256dfdc5",
   "metadata": {
    "tags": []
   },
   "outputs": [
    {
     "name": "stdout",
     "output_type": "stream",
     "text": [
      "Hello my name is Saurya and i am 18 years old\n"
     ]
    }
   ],
   "source": [
    "#Lab - Write a Python program to print a formatted string using print() and f-string\n",
    "name = 'Saurya'\n",
    "age = 18\n",
    "print(f\"Hello my name is {name} and i am {age} years old\")"
   ]
  },
  {
   "cell_type": "code",
   "execution_count": 3,
   "id": "6d1e889f-748f-45fc-8374-5fbcb5a414b0",
   "metadata": {
    "tags": []
   },
   "outputs": [
    {
     "name": "stdout",
     "output_type": "stream",
     "text": [
      "Hello, world!\n"
     ]
    }
   ],
   "source": [
    "#Practical Example 1 - Write a Python program to print \"Hello, world!\" on the screen\n",
    "print(\"Hello, world!\")"
   ]
  },
  {
   "cell_type": "markdown",
   "id": "ec0edf9a-de9d-43ce-a89f-7b79dfed3e0d",
   "metadata": {},
   "source": [
    "2. Reading Data from keyboard"
   ]
  },
  {
   "cell_type": "code",
   "execution_count": 4,
   "id": "e9adb5a6-18cb-414f-9991-29b7c7e3041a",
   "metadata": {
    "tags": []
   },
   "outputs": [
    {
     "name": "stdin",
     "output_type": "stream",
     "text": [
      "Enter your name :  saurya\n",
      "Enter your age : 18\n"
     ]
    },
    {
     "name": "stdout",
     "output_type": "stream",
     "text": [
      "Hello my name is saurya and i am 18 years old\n"
     ]
    }
   ],
   "source": [
    "name = input(\"Enter your name : \")\n",
    "age = int(input(\"Enter your age :\"))\n",
    "print(f\"Hello my name is {name} and i am {age} years old\")"
   ]
  },
  {
   "cell_type": "code",
   "execution_count": 5,
   "id": "1021cc89-3af2-41ae-887b-f43f02457527",
   "metadata": {
    "tags": []
   },
   "outputs": [
    {
     "name": "stdin",
     "output_type": "stream",
     "text": [
      "Enter a string :  hello\n",
      "Enter an integer :  12\n",
      "Enter a float :  12.5\n"
     ]
    },
    {
     "name": "stdout",
     "output_type": "stream",
     "text": [
      "hello 12 12.5\n"
     ]
    }
   ],
   "source": [
    "#Practical Example 2 - Write a Python program to read to string, an integer and a float from the keyboard and display them\n",
    "s = input(\"Enter a string : \")\n",
    "n = int(input(\"Enter an integer : \"))\n",
    "f = float(input(\"Enter a float : \"))\n",
    "print(s, n, f)"
   ]
  },
  {
   "cell_type": "markdown",
   "id": "acc87e43-f2cb-4123-9301-ab6b6066bea3",
   "metadata": {},
   "source": [
    "3. Opening and closing files "
   ]
  },
  {
   "cell_type": "code",
   "execution_count": 6,
   "id": "3ff13d99-cd96-40fe-bd46-de1575559670",
   "metadata": {
    "tags": []
   },
   "outputs": [],
   "source": [
    "#Practical Example 3 - Write a Python program to create a file and write a string into it\n"
   ]
  },
  {
   "cell_type": "markdown",
   "id": "5ce7081c-9e55-4e5f-a34e-8ba61d23ac6f",
   "metadata": {},
   "source": [
    "4. Reading and Writing files"
   ]
  },
  {
   "cell_type": "code",
   "execution_count": 2,
   "id": "d5a200fb-8b42-44c3-a70c-9396f92df17b",
   "metadata": {
    "tags": []
   },
   "outputs": [],
   "source": [
    "#Lab - Write a Python program to write multiple strings into a file\n",
    "f = open('sample.txt', 'w') \n",
    "l = ['Hello\\n', 'Welcome to class\\n', 'Python programming\\n']\n",
    "f.writelines(l)\n",
    "f.close()"
   ]
  },
  {
   "cell_type": "code",
   "execution_count": 3,
   "id": "02bb5eb7-6d8f-4ff8-8310-2dae892a104d",
   "metadata": {
    "tags": []
   },
   "outputs": [],
   "source": [
    "#Practical Example 4 - Write a python program to create a file and print the string into the file\n",
    "f = open('sample2.txt', 'w')\n",
    "f.write('Hello world!')\n",
    "f.close()"
   ]
  },
  {
   "cell_type": "code",
   "execution_count": 4,
   "id": "af9d7974-f0e1-4adb-84ab-3f9150cef4cc",
   "metadata": {
    "tags": []
   },
   "outputs": [
    {
     "name": "stdout",
     "output_type": "stream",
     "text": [
      "Hello world!\n"
     ]
    }
   ],
   "source": [
    "#Write a python program to read a file and print the data on the console \n",
    "f = open('sample2.txt', 'r')\n",
    "x = f.read()\n",
    "print(x)"
   ]
  },
  {
   "cell_type": "code",
   "execution_count": 5,
   "id": "81eba318-f150-4955-8330-c900d1f891f1",
   "metadata": {
    "tags": []
   },
   "outputs": [
    {
     "data": {
      "text/plain": [
       "12"
      ]
     },
     "execution_count": 5,
     "metadata": {},
     "output_type": "execute_result"
    }
   ],
   "source": [
    "#Write a python program to check the current position of the file cursor using tell()\n",
    "f.tell()"
   ]
  },
  {
   "cell_type": "markdown",
   "id": "88343fb7-19f5-4a08-b355-69ef3111b84a",
   "metadata": {},
   "source": [
    "5. Exception Handling "
   ]
  },
  {
   "cell_type": "code",
   "execution_count": 11,
   "id": "67599c85-fb5c-44fd-b7ba-746d65d1b194",
   "metadata": {
    "tags": []
   },
   "outputs": [
    {
     "name": "stdin",
     "output_type": "stream",
     "text": [
      "Enter a number :  12\n",
      "Enter another number :  w\n"
     ]
    },
    {
     "name": "stdout",
     "output_type": "stream",
     "text": [
      "Didn't enter an integer\n"
     ]
    }
   ],
   "source": [
    "#Practical Example 7 - Write a python program to handle exceptions in a calculator (like division by zero,invalid input)\n",
    "try:\n",
    "    x = int(input(\"Enter a number : \"))\n",
    "    y = int(input(\"Enter another number : \"))\n",
    "    \n",
    "    print(x / y)\n",
    "except ZeroDivisionError:\n",
    "    print(\"Division by zero error\")\n",
    "except ValueError:\n",
    "    print(\"Didn't enter an integer\")"
   ]
  },
  {
   "cell_type": "code",
   "execution_count": 1,
   "id": "c0ec4aa4-94b7-4428-ac32-0e2854fe66b9",
   "metadata": {
    "tags": []
   },
   "outputs": [
    {
     "name": "stdin",
     "output_type": "stream",
     "text": [
      "Enter a number :  1\n",
      "Enter another number :  2\n"
     ]
    },
    {
     "name": "stdout",
     "output_type": "stream",
     "text": [
      "0.5\n",
      "File doesn't exist\n"
     ]
    }
   ],
   "source": [
    "#Practical Examples 8 - Write a python program to handle multiple exceptions (like file not found, division by zero)\n",
    "try:\n",
    "    x = int(input(\"Enter a number : \"))\n",
    "    y = int(input(\"Enter another number : \"))\n",
    "    print(x / y)\n",
    "    f = open(\"sam1.txt\", 'r')\n",
    "except ZeroDivisionError:\n",
    "    print(\"Division by zero error\")\n",
    "except ValueError:\n",
    "    print(\"Didn't enter an integer\")\n",
    "except FileNotFoundError:\n",
    "    print(\"File doesn't exist\")"
   ]
  },
  {
   "cell_type": "code",
   "execution_count": 10,
   "id": "9302e902-7323-4751-a2dc-97f826df40d3",
   "metadata": {
    "tags": []
   },
   "outputs": [
    {
     "name": "stdin",
     "output_type": "stream",
     "text": [
      "Enter the file mode (r / w) :  w\n"
     ]
    },
    {
     "name": "stdout",
     "output_type": "stream",
     "text": [
      "Used wrong mode\n"
     ]
    }
   ],
   "source": [
    "#Practical Examples 9 - Write python program to handle file exceptions and use the finally block for closing the file\n",
    "try:\n",
    "    m = input(\"Enter the file mode (r / w) : \")\n",
    "    f = open(\"sample.txt\", m)\n",
    "    f.read()\n",
    "except :\n",
    "    print(\"Used wrong mode\")\n",
    "finally:\n",
    "    f.close()"
   ]
  },
  {
   "cell_type": "code",
   "execution_count": 12,
   "id": "343dfb5e-d48c-4e03-99d1-4702bddfc953",
   "metadata": {
    "tags": []
   },
   "outputs": [
    {
     "name": "stdin",
     "output_type": "stream",
     "text": [
      "Enter Y to continue or N to exit :  q\n"
     ]
    },
    {
     "name": "stdout",
     "output_type": "stream",
     "text": [
      "Invalid Input, Enter (Y/N)\n"
     ]
    }
   ],
   "source": [
    "#Practical Examples 10 - Write python program to print custom exceptions\n",
    "try:\n",
    "    n = input(\"Enter Y to continue or N to exit : \").lower()\n",
    "    if n not in ['y', 'n']:\n",
    "        raise ValueError(\"Invalid Input, Enter (Y/N)\")\n",
    "except ValueError as ve:\n",
    "    print(ve)"
   ]
  },
  {
   "cell_type": "markdown",
   "id": "f7ce9147-344d-4bae-bfe2-fa48d230ae65",
   "metadata": {},
   "source": [
    "6. Class and Object (OOP concepts)"
   ]
  },
  {
   "cell_type": "code",
   "execution_count": 14,
   "id": "8fea34e2-7d98-4130-84fe-e58bf2148055",
   "metadata": {
    "tags": []
   },
   "outputs": [
    {
     "name": "stdout",
     "output_type": "stream",
     "text": [
      "Pin = 1234 \n",
      "Balance = 10000\n"
     ]
    }
   ],
   "source": [
    "#Practical Examples 11 - Write a python program to create a class and access the properties of the class using an object\n",
    "class atm:\n",
    "    def __init__ (self, pin, bal):\n",
    "        self.pin = pin\n",
    "        self.bal = bal\n",
    "a = atm('1234', 10000)\n",
    "print(f\"Pin = {a.pin} \\nBalance = {a.bal}\")"
   ]
  },
  {
   "cell_type": "code",
   "execution_count": 17,
   "id": "ec67eb25-bfb6-40e6-b229-aeb4f6a0aa71",
   "metadata": {
    "tags": []
   },
   "outputs": [],
   "source": [
    "#Practical Examples 12 - Write a python program to demonstrate the use of local and global variables in a class\n"
   ]
  },
  {
   "cell_type": "markdown",
   "id": "9cf4a54b-0380-4897-b825-39d772a76fc0",
   "metadata": {},
   "source": [
    "7. Inheritance"
   ]
  },
  {
   "cell_type": "code",
   "execution_count": 26,
   "id": "60bb5a4c-254f-4ef8-9e07-182c01a2e28c",
   "metadata": {
    "tags": []
   },
   "outputs": [],
   "source": [
    "#Practical Example 13 - Write a python program to show single inheritance\n"
   ]
  },
  {
   "cell_type": "code",
   "execution_count": 27,
   "id": "bf313823-c903-471b-8043-6578397f7ef0",
   "metadata": {
    "tags": []
   },
   "outputs": [],
   "source": [
    "#Practical Example 14 - Write a python program to show multilevel inheritance\n"
   ]
  },
  {
   "cell_type": "code",
   "execution_count": 28,
   "id": "4a23c44c-f8f4-4331-9f98-50e7750de9d0",
   "metadata": {
    "tags": []
   },
   "outputs": [],
   "source": [
    "#Practical Example 15 - Write a python program to show multiple inheritance\n"
   ]
  },
  {
   "cell_type": "code",
   "execution_count": 29,
   "id": "1f7316bb-45e6-4127-97ad-8eea8efb9f6b",
   "metadata": {
    "tags": []
   },
   "outputs": [],
   "source": [
    "#Practical Example 16 - Write a python program to show hierarchical inheritance\n"
   ]
  },
  {
   "cell_type": "code",
   "execution_count": 30,
   "id": "723c290b-1a5d-4697-93eb-dd31260acff4",
   "metadata": {
    "tags": []
   },
   "outputs": [],
   "source": [
    "#Practical Example 17 - Write a python program to show hybrid inheritance\n"
   ]
  },
  {
   "cell_type": "code",
   "execution_count": 31,
   "id": "11888168-0006-4b75-bde4-3dc7335114c1",
   "metadata": {
    "tags": []
   },
   "outputs": [],
   "source": [
    "#Practical Example 18 - Write a python program to demonstrate the use of super() in inheritance\n"
   ]
  },
  {
   "cell_type": "markdown",
   "id": "a641418c-2ebc-45ec-9cb2-ddde2b70421d",
   "metadata": {},
   "source": [
    "8. Method Overloading and Overriding"
   ]
  },
  {
   "cell_type": "code",
   "execution_count": 32,
   "id": "55a96c49-e78c-491c-a6f1-5b6f11dc8806",
   "metadata": {
    "tags": []
   },
   "outputs": [],
   "source": [
    "#Practical Examples 19 - Write a python program to show method overloading\n"
   ]
  },
  {
   "cell_type": "code",
   "execution_count": 33,
   "id": "b2b7ab2a-41f5-4264-baac-e67229fc7392",
   "metadata": {
    "tags": []
   },
   "outputs": [],
   "source": [
    "#Practical Examples 20 - Write a python program to show method overriding\n"
   ]
  },
  {
   "cell_type": "markdown",
   "id": "2d73ce54-6f72-401c-813f-1ff1af308979",
   "metadata": {},
   "source": [
    "9. SQLite3 and PyMySQL (Database Connectors)"
   ]
  },
  {
   "cell_type": "code",
   "execution_count": 34,
   "id": "4b986560-0c96-4d30-87f1-36219b402f2e",
   "metadata": {
    "tags": []
   },
   "outputs": [],
   "source": [
    "#Practical Examples 21 - Write a python program to create a database and a table using SQLite3\n"
   ]
  },
  {
   "cell_type": "code",
   "execution_count": 35,
   "id": "8876151b-1c3a-4a9c-b41f-424d106ca43b",
   "metadata": {
    "tags": []
   },
   "outputs": [],
   "source": [
    "#Practical Examples 22 - Write a python program to insert data into an SQlite3 database and fetch it\n"
   ]
  },
  {
   "cell_type": "markdown",
   "id": "0ad9e7e6-a49a-4373-8364-4cf1ee14ac11",
   "metadata": {},
   "source": [
    "10. Search and Match Functions"
   ]
  },
  {
   "cell_type": "code",
   "execution_count": 37,
   "id": "e30aa35e-1b42-4405-8e14-6dcbd80e6b8c",
   "metadata": {
    "tags": []
   },
   "outputs": [],
   "source": [
    "#Practical Examples 23 - Write a python program to seacrh for a word in a string using re.search()\n"
   ]
  },
  {
   "cell_type": "code",
   "execution_count": 38,
   "id": "1f5dbcd4-26ff-411e-9b05-c7784b4a53ae",
   "metadata": {
    "tags": []
   },
   "outputs": [],
   "source": [
    "#Practical Examples 24 - Write a python program to match a word in a string using re.match()\n"
   ]
  }
 ],
 "metadata": {
  "kernelspec": {
   "display_name": "Python 3 (ipykernel)",
   "language": "python",
   "name": "python3"
  },
  "language_info": {
   "codemirror_mode": {
    "name": "ipython",
    "version": 3
   },
   "file_extension": ".py",
   "mimetype": "text/x-python",
   "name": "python",
   "nbconvert_exporter": "python",
   "pygments_lexer": "ipython3",
   "version": "3.7.9"
  }
 },
 "nbformat": 4,
 "nbformat_minor": 5
}
