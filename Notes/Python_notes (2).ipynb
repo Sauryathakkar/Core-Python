{
 "cells": [
  {
   "cell_type": "markdown",
   "id": "1c06c54b-9597-4cd4-9e34-02fa5ea6cee3",
   "metadata": {
    "jp-MarkdownHeadingCollapsed": true,
    "tags": []
   },
   "source": [
    "## Variables"
   ]
  },
  {
   "cell_type": "markdown",
   "id": "9234aef7-19cb-480f-af6c-02635a011941",
   "metadata": {
    "tags": []
   },
   "source": [
    "These are containers which store values"
   ]
  },
  {
   "cell_type": "code",
   "execution_count": 3,
   "id": "89465a3c-96d2-4c8d-be37-f8a9b675cc68",
   "metadata": {
    "tags": []
   },
   "outputs": [],
   "source": [
    "name = 'Python Programming'"
   ]
  },
  {
   "cell_type": "code",
   "execution_count": 4,
   "id": "4339d889-8efc-45b8-9c80-cea27992d1f7",
   "metadata": {
    "tags": []
   },
   "outputs": [
    {
     "name": "stdout",
     "output_type": "stream",
     "text": [
      "Python Programming\n"
     ]
    }
   ],
   "source": [
    "print(name)"
   ]
  },
  {
   "cell_type": "markdown",
   "id": "42a002c8-40da-4373-959b-a5afe1c0d201",
   "metadata": {
    "tags": []
   },
   "source": [
    "Python supports dynamic binding and typing i. e. while assigning or updating the value of a variable we don't need to specify the \n",
    "datatype the interpreter will assign it automatically (typing). While updating the value we can also assign a value of different datatype (binding)"
   ]
  },
  {
   "cell_type": "markdown",
   "id": "dca01e95-53d8-4b0c-8fb5-adf3b0fa3dd8",
   "metadata": {},
   "source": [
    "example"
   ]
  },
  {
   "cell_type": "code",
   "execution_count": 6,
   "id": "cc4767fa-89c1-4ade-ac40-c58dd38e3bd3",
   "metadata": {
    "tags": []
   },
   "outputs": [],
   "source": [
    "name = 'Python'"
   ]
  },
  {
   "cell_type": "code",
   "execution_count": 7,
   "id": "a6603388-62bf-422e-882a-a3900b033c84",
   "metadata": {
    "tags": []
   },
   "outputs": [
    {
     "data": {
      "text/plain": [
       "'Python'"
      ]
     },
     "execution_count": 7,
     "metadata": {},
     "output_type": "execute_result"
    }
   ],
   "source": [
    "name"
   ]
  },
  {
   "cell_type": "code",
   "execution_count": 8,
   "id": "0dd19c8b-6bd8-4b84-b25f-9234fd351370",
   "metadata": {
    "tags": []
   },
   "outputs": [],
   "source": [
    "name = 5.6"
   ]
  },
  {
   "cell_type": "code",
   "execution_count": 9,
   "id": "96e15e87-752f-44cf-b86e-6c531ba10bdd",
   "metadata": {
    "tags": []
   },
   "outputs": [
    {
     "data": {
      "text/plain": [
       "5.6"
      ]
     },
     "execution_count": 9,
     "metadata": {},
     "output_type": "execute_result"
    }
   ],
   "source": [
    "name"
   ]
  },
  {
   "cell_type": "markdown",
   "id": "5ea05cc4-631d-42c6-8d63-805415d81490",
   "metadata": {
    "jp-MarkdownHeadingCollapsed": true,
    "tags": []
   },
   "source": [
    "## Way to print data on screen"
   ]
  },
  {
   "cell_type": "code",
   "execution_count": 10,
   "id": "73b88876-48a3-4b11-83d0-006314ac59c9",
   "metadata": {
    "tags": []
   },
   "outputs": [],
   "source": [
    "a = 1\n",
    "b = 2\n",
    "c = 3"
   ]
  },
  {
   "cell_type": "code",
   "execution_count": 11,
   "id": "f5f2cd34-29f2-4f57-997a-d4f36358fe3f",
   "metadata": {
    "tags": []
   },
   "outputs": [
    {
     "data": {
      "text/plain": [
       "(1, 2, 3)"
      ]
     },
     "execution_count": 11,
     "metadata": {},
     "output_type": "execute_result"
    }
   ],
   "source": [
    "a,b,c"
   ]
  },
  {
   "cell_type": "code",
   "execution_count": 12,
   "id": "8ae05653-707a-43cb-ac89-4d0cc741bc9a",
   "metadata": {
    "tags": []
   },
   "outputs": [],
   "source": [
    "a,b,c = 10, 20, 30"
   ]
  },
  {
   "cell_type": "code",
   "execution_count": 13,
   "id": "59887021-a68b-4819-b950-326473456c3c",
   "metadata": {
    "tags": []
   },
   "outputs": [
    {
     "name": "stdout",
     "output_type": "stream",
     "text": [
      "10 20 30\n"
     ]
    }
   ],
   "source": [
    "print(a,b,c)"
   ]
  },
  {
   "cell_type": "code",
   "execution_count": 14,
   "id": "97a9f59c-7444-4666-ba18-78b9095801e5",
   "metadata": {
    "tags": []
   },
   "outputs": [],
   "source": [
    "a = b = c = 30"
   ]
  },
  {
   "cell_type": "code",
   "execution_count": 15,
   "id": "3c7bc0b9-5cda-4fe0-9c58-4667f0fe497b",
   "metadata": {
    "tags": []
   },
   "outputs": [
    {
     "name": "stdout",
     "output_type": "stream",
     "text": [
      "30 30 30\n"
     ]
    }
   ],
   "source": [
    "print(a,b,c)"
   ]
  },
  {
   "cell_type": "code",
   "execution_count": 22,
   "id": "cf2b5ccf-e99c-4cbd-9bdb-11b260d9dac4",
   "metadata": {
    "tags": []
   },
   "outputs": [
    {
     "name": "stdout",
     "output_type": "stream",
     "text": [
      "a = 30 b = 30 c = 30\n"
     ]
    }
   ],
   "source": [
    "print(\"a =\",a,\"b =\",b,\"c =\",c)"
   ]
  },
  {
   "cell_type": "code",
   "execution_count": 20,
   "id": "f767aa3a-3d80-41ac-9373-465996e32256",
   "metadata": {
    "tags": []
   },
   "outputs": [
    {
     "name": "stdout",
     "output_type": "stream",
     "text": [
      "a = 30 b = 30 c = 30\n"
     ]
    }
   ],
   "source": [
    "# instead of the one above we use formatted strings\n",
    "print(f\"a = {a} b = {b} c = {c}\")"
   ]
  },
  {
   "cell_type": "markdown",
   "id": "020e5626-b347-4bcb-be28-da0ba333dd5d",
   "metadata": {},
   "source": [
    "Use '#' for single line comments or use ctrl + / to comment the line\n",
    "Use Triple qoutes from multi line comments\n",
    "Ex"
   ]
  },
  {
   "cell_type": "code",
   "execution_count": 24,
   "id": "6cbb583d-85f9-4df6-b54f-c978a60bb81a",
   "metadata": {
    "tags": []
   },
   "outputs": [
    {
     "data": {
      "text/plain": [
       "' This\\nis a \\nmulti line comment'"
      ]
     },
     "execution_count": 24,
     "metadata": {},
     "output_type": "execute_result"
    }
   ],
   "source": [
    "# This is a comment\n",
    "a = 10 # this is another comment\n",
    "''' This\n",
    "is a \n",
    "multi line comment'''"
   ]
  },
  {
   "cell_type": "markdown",
   "id": "0961e76e-cea7-47a1-b959-728d6b65f2fe",
   "metadata": {
    "jp-MarkdownHeadingCollapsed": true,
    "tags": []
   },
   "source": [
    "# Keywords and identifiers"
   ]
  },
  {
   "cell_type": "markdown",
   "id": "fe07a5f3-1369-4089-82c6-4210491e0c6c",
   "metadata": {},
   "source": [
    "Keywrds - These are pre-defined words which perform specific functions , these cannot not be used as variables names\n",
    "Ex:- \n",
    "is\n",
    "in\n",
    "while\n",
    "for\n",
    "if\n",
    "elif\n",
    "else"
   ]
  },
  {
   "cell_type": "markdown",
   "id": "e11f530d-97ff-4fca-b798-84f2ae3ee1ca",
   "metadata": {},
   "source": [
    "Identifiers - These are the variable names "
   ]
  },
  {
   "cell_type": "markdown",
   "id": "bbd0826e-d0e4-4604-90f5-96e94e485441",
   "metadata": {},
   "source": [
    "Note: keywords and function names cannot be used as identifiers"
   ]
  },
  {
   "cell_type": "markdown",
   "id": "dd0ed1e4-612f-42e4-a5f6-bfcc65f6a491",
   "metadata": {
    "jp-MarkdownHeadingCollapsed": true,
    "tags": []
   },
   "source": [
    "# Rules to name identifiers"
   ]
  },
  {
   "cell_type": "markdown",
   "id": "3bb78672-1eca-4e43-a58b-ce2a0e9f0745",
   "metadata": {},
   "source": [
    "1. It should start with alphabets or '_' only "
   ]
  },
  {
   "cell_type": "markdown",
   "id": "79ac9efe-9bd1-49a4-87e7-941dead6c7ba",
   "metadata": {},
   "source": [
    "2. Can not use special characters anywhere in the name"
   ]
  },
  {
   "cell_type": "markdown",
   "id": "a62b6e46-1968-478e-8f3f-408236807ac0",
   "metadata": {},
   "source": [
    "3. Upper case and lower case letters are considered different ex:- name is no same as Name"
   ]
  },
  {
   "cell_type": "markdown",
   "id": "f4cba09d-f541-4f72-b4bc-b22951d208bf",
   "metadata": {},
   "source": [
    "4. Two variables can't have same names"
   ]
  },
  {
   "cell_type": "markdown",
   "id": "eae90f3c-4add-4ed7-bdfc-8ccac1a88653",
   "metadata": {},
   "source": [
    "## Input"
   ]
  },
  {
   "cell_type": "markdown",
   "id": "56fc6e75-c22a-41b7-b7d1-962910a8de36",
   "metadata": {},
   "source": [
    "variable_name = input(\"message(tell what to input)\")"
   ]
  },
  {
   "cell_type": "code",
   "execution_count": 1,
   "id": "c65bb6f2-3cc3-4b57-89b6-690778a3c8b1",
   "metadata": {
    "tags": []
   },
   "outputs": [
    {
     "name": "stdin",
     "output_type": "stream",
     "text": [
      "Enter your name  saurya\n"
     ]
    }
   ],
   "source": [
    "name = input(\"Enter your name \")"
   ]
  },
  {
   "cell_type": "code",
   "execution_count": 2,
   "id": "bb80882c-8c15-486d-8f3b-a1a868828205",
   "metadata": {
    "tags": []
   },
   "outputs": [
    {
     "data": {
      "text/plain": [
       "'saurya'"
      ]
     },
     "execution_count": 2,
     "metadata": {},
     "output_type": "execute_result"
    }
   ],
   "source": [
    "name"
   ]
  },
  {
   "cell_type": "markdown",
   "id": "a6702549-67c3-4032-b041-af198be9ec97",
   "metadata": {},
   "source": [
    "Note : By defaul the input is stored in string format"
   ]
  },
  {
   "cell_type": "markdown",
   "id": "c78ee945-658c-4a60-81c8-7917b5294536",
   "metadata": {},
   "source": [
    "To change the datatype we use type casting"
   ]
  },
  {
   "cell_type": "code",
   "execution_count": 3,
   "id": "8cc9c0e4-4368-4c83-983a-a8d0318c1127",
   "metadata": {
    "tags": []
   },
   "outputs": [
    {
     "name": "stdin",
     "output_type": "stream",
     "text": [
      "Enter your age :  18\n"
     ]
    }
   ],
   "source": [
    "age = int(input(\"Enter your age : \"))"
   ]
  },
  {
   "cell_type": "markdown",
   "id": "cc895239-3bc2-4397-9474-c46c57de3979",
   "metadata": {},
   "source": [
    "This is called explicit type casting i. e. changing the datatype manually "
   ]
  },
  {
   "cell_type": "code",
   "execution_count": 4,
   "id": "ec7315df-b656-4f18-974b-9805f7344ded",
   "metadata": {
    "tags": []
   },
   "outputs": [],
   "source": [
    "a = 3\n",
    "b = 5.3"
   ]
  },
  {
   "cell_type": "code",
   "execution_count": 5,
   "id": "44d2cbe7-2c4f-402a-b572-95fc537f5d94",
   "metadata": {
    "tags": []
   },
   "outputs": [
    {
     "data": {
      "text/plain": [
       "8.3"
      ]
     },
     "execution_count": 5,
     "metadata": {},
     "output_type": "execute_result"
    }
   ],
   "source": [
    "a+b"
   ]
  },
  {
   "cell_type": "markdown",
   "id": "71f8b734-28e9-46a4-8083-fde85f12243c",
   "metadata": {},
   "source": [
    "Here the variable 'a' changed to float type. This is implicit type casting i. e. changing the datatype automatically "
   ]
  },
  {
   "cell_type": "markdown",
   "id": "173656eb-95e6-494a-a858-2565d29c1903",
   "metadata": {},
   "source": [
    "But all types can't be casted implicitly for example: -"
   ]
  },
  {
   "cell_type": "code",
   "execution_count": 6,
   "id": "13b2472e-289d-4c3f-aa64-49dd4a1f79e0",
   "metadata": {
    "tags": []
   },
   "outputs": [],
   "source": [
    "a = '4'"
   ]
  },
  {
   "cell_type": "code",
   "execution_count": 11,
   "id": "752fd738-cd20-4868-911b-06f5c44dc7bd",
   "metadata": {
    "tags": []
   },
   "outputs": [],
   "source": [
    "b = 5.3"
   ]
  },
  {
   "cell_type": "code",
   "execution_count": 8,
   "id": "faeab0b1-ed07-4aa3-8bf8-27bbc79af694",
   "metadata": {
    "tags": []
   },
   "outputs": [
    {
     "ename": "TypeError",
     "evalue": "can only concatenate str (not \"int\") to str",
     "output_type": "error",
     "traceback": [
      "\u001b[1;31m---------------------------------------------------------------------------\u001b[0m",
      "\u001b[1;31mTypeError\u001b[0m                                 Traceback (most recent call last)",
      "\u001b[1;32m~\\AppData\\Local\\Temp\\ipykernel_15688\\3553919051.py\u001b[0m in \u001b[0;36m<module>\u001b[1;34m\u001b[0m\n\u001b[1;32m----> 1\u001b[1;33m \u001b[0ma\u001b[0m\u001b[1;33m+\u001b[0m\u001b[0mb\u001b[0m\u001b[1;33m\u001b[0m\u001b[1;33m\u001b[0m\u001b[0m\n\u001b[0m",
      "\u001b[1;31mTypeError\u001b[0m: can only concatenate str (not \"int\") to str"
     ]
    }
   ],
   "source": [
    "a+b"
   ]
  },
  {
   "cell_type": "code",
   "execution_count": 9,
   "id": "c8bb57e6-f5a8-40f2-b704-1c9cb187cdc4",
   "metadata": {
    "tags": []
   },
   "outputs": [
    {
     "data": {
      "text/plain": [
       "(4+0j)"
      ]
     },
     "execution_count": 9,
     "metadata": {},
     "output_type": "execute_result"
    }
   ],
   "source": [
    "complex(a)"
   ]
  },
  {
   "cell_type": "code",
   "execution_count": 12,
   "id": "c844191f-ee40-453e-8daa-0841983284e9",
   "metadata": {
    "tags": []
   },
   "outputs": [
    {
     "data": {
      "text/plain": [
       "(5.3+0j)"
      ]
     },
     "execution_count": 12,
     "metadata": {},
     "output_type": "execute_result"
    }
   ],
   "source": [
    "complex(b)"
   ]
  },
  {
   "cell_type": "markdown",
   "id": "059d8302-3665-48e7-9c37-822abc4e8cff",
   "metadata": {},
   "source": [
    "## Operators\n",
    "\n",
    "1. Arithmetic\n",
    "2. Relational \n",
    "3. Logical \n",
    "4. Bitwise\n",
    "5. Assignment\n",
    "6. Membership"
   ]
  },
  {
   "cell_type": "markdown",
   "id": "0875f5b5-f249-49fc-af77-8fb945ba61ee",
   "metadata": {
    "jp-MarkdownHeadingCollapsed": true,
    "tags": []
   },
   "source": [
    "# Arithmetic operations"
   ]
  },
  {
   "cell_type": "code",
   "execution_count": 26,
   "id": "3a3cbfa7-d2da-40e9-ba56-2a2ab46fc42e",
   "metadata": {
    "tags": []
   },
   "outputs": [
    {
     "name": "stdout",
     "output_type": "stream",
     "text": [
      "Addition operator 7\n"
     ]
    }
   ],
   "source": [
    "a = 5\n",
    "b = 2\n",
    "print(f\"Addition operator {a + b}\")"
   ]
  },
  {
   "cell_type": "code",
   "execution_count": 18,
   "id": "f86a378c-d1bb-43a7-92a4-ccdde9d911ec",
   "metadata": {
    "tags": []
   },
   "outputs": [
    {
     "name": "stdout",
     "output_type": "stream",
     "text": [
      "Substraction operator 3\n"
     ]
    }
   ],
   "source": [
    "print(f\"Substraction operator {a - b}\")"
   ]
  },
  {
   "cell_type": "code",
   "execution_count": 19,
   "id": "3bd98fe3-7995-406b-8026-41806abdc16a",
   "metadata": {
    "tags": []
   },
   "outputs": [
    {
     "name": "stdout",
     "output_type": "stream",
     "text": [
      "Multiplication operator 10\n"
     ]
    }
   ],
   "source": [
    "print(f\"Multiplication operator {a * b}\")"
   ]
  },
  {
   "cell_type": "code",
   "execution_count": 20,
   "id": "319a3ae6-97a0-4fe5-89ce-106848ab1ef6",
   "metadata": {
    "tags": []
   },
   "outputs": [
    {
     "name": "stdout",
     "output_type": "stream",
     "text": [
      "Divistion operator 2.5\n"
     ]
    }
   ],
   "source": [
    "print(f\"Divistion operator {a / b}\")"
   ]
  },
  {
   "cell_type": "code",
   "execution_count": 21,
   "id": "b8aea211-adfa-4503-bb92-232084eafa0c",
   "metadata": {
    "tags": []
   },
   "outputs": [
    {
     "name": "stdout",
     "output_type": "stream",
     "text": [
      "Floor division operator 2\n"
     ]
    }
   ],
   "source": [
    "print(f\"Floor division operator {a // b}\") # it will return only the integer part of the decimal"
   ]
  },
  {
   "cell_type": "code",
   "execution_count": 23,
   "id": "41126c28-7a85-4d6e-acf9-ae23705531cc",
   "metadata": {
    "tags": []
   },
   "outputs": [
    {
     "name": "stdout",
     "output_type": "stream",
     "text": [
      "Modulus operator 1\n"
     ]
    }
   ],
   "source": [
    "print(f\"Modulus operator {a % b}\") # It will return the remainder "
   ]
  },
  {
   "cell_type": "code",
   "execution_count": 25,
   "id": "88d2a5a9-c099-431d-b82c-0e3822fa06ac",
   "metadata": {
    "tags": []
   },
   "outputs": [
    {
     "name": "stdout",
     "output_type": "stream",
     "text": [
      "Square of 5 : 25\n"
     ]
    }
   ],
   "source": [
    "print(f\"Square of 5 : { 5 ** 2}\")"
   ]
  },
  {
   "cell_type": "markdown",
   "id": "bd0b8b4e-ffc8-4754-8ae1-7b75d7251dd1",
   "metadata": {
    "jp-MarkdownHeadingCollapsed": true,
    "tags": []
   },
   "source": [
    "# Relational Operators"
   ]
  },
  {
   "cell_type": "code",
   "execution_count": 28,
   "id": "03b99ec7-6dc5-4ab2-9627-826ad7fb55e0",
   "metadata": {
    "tags": []
   },
   "outputs": [
    {
     "data": {
      "text/plain": [
       "True"
      ]
     },
     "execution_count": 28,
     "metadata": {},
     "output_type": "execute_result"
    }
   ],
   "source": [
    "a > b # greater than\n",
    "a < b # lesser than\n",
    "a >= b # greater than or equal to\n",
    "a <= b # lesser than or equal to\n",
    "a == b # equal to \n",
    "a != b # not equal to ( '!' is used represent not)"
   ]
  },
  {
   "cell_type": "markdown",
   "id": "4f77c0ec-c235-49ee-a151-1f23376eb0bb",
   "metadata": {},
   "source": [
    "## Task \n",
    "Take input of a 3 digit number and find the sum of the digit"
   ]
  },
  {
   "cell_type": "code",
   "execution_count": 39,
   "id": "5d98ec1e-2b09-4000-b2b5-1c1bc83d0d39",
   "metadata": {
    "tags": []
   },
   "outputs": [
    {
     "name": "stdin",
     "output_type": "stream",
     "text": [
      "Enter a three digit number :  123\n"
     ]
    }
   ],
   "source": [
    "n = int(input(\"Enter a three digit number : \"))"
   ]
  },
  {
   "cell_type": "code",
   "execution_count": 40,
   "id": "ae398405-51ce-4df8-be84-5620166d4eff",
   "metadata": {
    "tags": []
   },
   "outputs": [],
   "source": [
    "x = n % 10\n",
    "n = n // 10\n",
    "y = n % 10\n",
    "n = n // 10\n",
    "z = n % 10"
   ]
  },
  {
   "cell_type": "code",
   "execution_count": 41,
   "id": "6af76179-152d-499b-8d4e-9f48383acdcf",
   "metadata": {
    "tags": []
   },
   "outputs": [
    {
     "name": "stdout",
     "output_type": "stream",
     "text": [
      "6\n"
     ]
    }
   ],
   "source": [
    "print(x+y+z)"
   ]
  },
  {
   "cell_type": "markdown",
   "id": "9d1ff77b-f70f-4fd2-9e63-094ca4fde407",
   "metadata": {},
   "source": [
    "## Logical Operators"
   ]
  },
  {
   "cell_type": "markdown",
   "id": "c7a6e2fa-357a-44c5-95a0-c859211b49ee",
   "metadata": {},
   "source": [
    "and - if all the statments are true then the output will be true. But if any statment is false it will return false"
   ]
  },
  {
   "cell_type": "markdown",
   "id": "5364036e-01cd-4b0a-a5c7-08030821da91",
   "metadata": {},
   "source": [
    "Or - if only one statement is true it will return true. But if all are false then it will false  "
   ]
  },
  {
   "cell_type": "markdown",
   "id": "8f045839-1864-4bca-baaf-fb38ba785eb9",
   "metadata": {},
   "source": [
    "not - it will make false statements true and true statements false"
   ]
  },
  {
   "cell_type": "code",
   "execution_count": 42,
   "id": "074cf86b-979e-46fd-9031-f307754d0180",
   "metadata": {
    "tags": []
   },
   "outputs": [
    {
     "data": {
      "text/plain": [
       "0"
      ]
     },
     "execution_count": 42,
     "metadata": {},
     "output_type": "execute_result"
    }
   ],
   "source": [
    "1 and 0"
   ]
  },
  {
   "cell_type": "code",
   "execution_count": 43,
   "id": "73b02cf4-05f0-4b67-879d-3f7c9a14f47a",
   "metadata": {
    "tags": []
   },
   "outputs": [
    {
     "data": {
      "text/plain": [
       "1"
      ]
     },
     "execution_count": 43,
     "metadata": {},
     "output_type": "execute_result"
    }
   ],
   "source": [
    "1 and 1"
   ]
  },
  {
   "cell_type": "code",
   "execution_count": 44,
   "id": "c0e8ef96-b3cf-4a85-b128-03680f5c749a",
   "metadata": {
    "tags": []
   },
   "outputs": [
    {
     "data": {
      "text/plain": [
       "1"
      ]
     },
     "execution_count": 44,
     "metadata": {},
     "output_type": "execute_result"
    }
   ],
   "source": [
    "1 or 1"
   ]
  },
  {
   "cell_type": "code",
   "execution_count": 45,
   "id": "b219b2f8-6210-4a5c-8b36-881966649f3f",
   "metadata": {
    "tags": []
   },
   "outputs": [
    {
     "data": {
      "text/plain": [
       "1"
      ]
     },
     "execution_count": 45,
     "metadata": {},
     "output_type": "execute_result"
    }
   ],
   "source": [
    "1 or 0"
   ]
  },
  {
   "cell_type": "code",
   "execution_count": 46,
   "id": "b326fd84-ef5d-4f7e-9687-cfa2cbe7bdd9",
   "metadata": {
    "tags": []
   },
   "outputs": [
    {
     "data": {
      "text/plain": [
       "False"
      ]
     },
     "execution_count": 46,
     "metadata": {},
     "output_type": "execute_result"
    }
   ],
   "source": [
    "not 1"
   ]
  },
  {
   "cell_type": "code",
   "execution_count": 47,
   "id": "885d8fa0-451b-48a3-bd28-c9ef5b4a431f",
   "metadata": {
    "tags": []
   },
   "outputs": [
    {
     "data": {
      "text/plain": [
       "True"
      ]
     },
     "execution_count": 47,
     "metadata": {},
     "output_type": "execute_result"
    }
   ],
   "source": [
    "not 0"
   ]
  },
  {
   "cell_type": "markdown",
   "id": "ad0e1c02-b272-4665-b4f5-c1e5255fda1f",
   "metadata": {
    "jp-MarkdownHeadingCollapsed": true,
    "tags": []
   },
   "source": [
    "# Bitwise Operators\n",
    "These will work on every bit of the data"
   ]
  },
  {
   "cell_type": "markdown",
   "id": "6a1abe05-0677-499a-88fe-109f2146dada",
   "metadata": {},
   "source": [
    "& - is the bitwise version of 'and'"
   ]
  },
  {
   "cell_type": "markdown",
   "id": "ea218701-20d9-4d6a-86f8-c4a34034e2e4",
   "metadata": {},
   "source": [
    "| - is the bitwise version of 'or'"
   ]
  },
  {
   "cell_type": "markdown",
   "id": "8aead32f-9a75-4b7d-8e89-3c5ee766a109",
   "metadata": {},
   "source": [
    "~ - it is the bitwise version of not"
   ]
  },
  {
   "cell_type": "markdown",
   "id": "04cda071-85eb-4f06-ae6e-876863d282cc",
   "metadata": {},
   "source": [
    "'>>'- leftshift, it shifts to left the bits by n places (n is given after the operator)"
   ]
  },
  {
   "cell_type": "markdown",
   "id": "a4e3295f-d08b-4a3f-ac80-761402af817c",
   "metadata": {
    "tags": []
   },
   "source": [
    "'<<' - rightshift, it shifts to right the bits by n places (n is given after the operator)"
   ]
  },
  {
   "cell_type": "code",
   "execution_count": 1,
   "id": "0b494c0a-9bab-48a7-806d-0470b4672b2b",
   "metadata": {
    "tags": []
   },
   "outputs": [
    {
     "data": {
      "text/plain": [
       "4"
      ]
     },
     "execution_count": 1,
     "metadata": {},
     "output_type": "execute_result"
    }
   ],
   "source": [
    "4 & 5"
   ]
  },
  {
   "cell_type": "code",
   "execution_count": 2,
   "id": "1e0f84bb-a106-46b1-a49a-370e99751697",
   "metadata": {
    "tags": []
   },
   "outputs": [
    {
     "data": {
      "text/plain": [
       "5"
      ]
     },
     "execution_count": 2,
     "metadata": {},
     "output_type": "execute_result"
    }
   ],
   "source": [
    "4 | 5"
   ]
  },
  {
   "cell_type": "code",
   "execution_count": 3,
   "id": "862175df-7466-4c9b-bdc6-fdb2e455a393",
   "metadata": {
    "tags": []
   },
   "outputs": [
    {
     "data": {
      "text/plain": [
       "-6"
      ]
     },
     "execution_count": 3,
     "metadata": {},
     "output_type": "execute_result"
    }
   ],
   "source": [
    "~ 5"
   ]
  },
  {
   "cell_type": "code",
   "execution_count": 4,
   "id": "22cd394b-6f13-43f5-9db5-ad2ee9d1ba06",
   "metadata": {
    "tags": []
   },
   "outputs": [
    {
     "data": {
      "text/plain": [
       "1"
      ]
     },
     "execution_count": 4,
     "metadata": {},
     "output_type": "execute_result"
    }
   ],
   "source": [
    "4 >> 2"
   ]
  },
  {
   "cell_type": "code",
   "execution_count": 6,
   "id": "a962e4ce-aa12-4729-97ee-5196d4d8015a",
   "metadata": {
    "tags": []
   },
   "outputs": [
    {
     "data": {
      "text/plain": [
       "1"
      ]
     },
     "execution_count": 6,
     "metadata": {},
     "output_type": "execute_result"
    }
   ],
   "source": [
    "4>>2"
   ]
  },
  {
   "cell_type": "code",
   "execution_count": 7,
   "id": "c2cd6596-9705-4496-9edf-5e3e6758e449",
   "metadata": {
    "tags": []
   },
   "outputs": [
    {
     "data": {
      "text/plain": [
       "20"
      ]
     },
     "execution_count": 7,
     "metadata": {},
     "output_type": "execute_result"
    }
   ],
   "source": [
    "5<<2"
   ]
  },
  {
   "cell_type": "markdown",
   "id": "36fb08f3-1be7-4576-8eaf-1b403bc0913f",
   "metadata": {
    "jp-MarkdownHeadingCollapsed": true,
    "tags": []
   },
   "source": [
    "# Assignment Operator "
   ]
  },
  {
   "cell_type": "code",
   "execution_count": 8,
   "id": "01d2fc9a-af85-4421-9857-b7b6a4c68c54",
   "metadata": {
    "tags": []
   },
   "outputs": [],
   "source": [
    "a = 5 # '=' used to assign value"
   ]
  },
  {
   "cell_type": "code",
   "execution_count": 9,
   "id": "e83ffa40-1117-441c-a4ea-991fb03d8b5e",
   "metadata": {
    "tags": []
   },
   "outputs": [],
   "source": [
    "a += 2 # '+=' a = a + 2"
   ]
  },
  {
   "cell_type": "code",
   "execution_count": 10,
   "id": "54a8da27-7873-4914-af3f-10c067d93d78",
   "metadata": {
    "tags": []
   },
   "outputs": [],
   "source": [
    "a -= 2 # '+=' a = a - 2"
   ]
  },
  {
   "cell_type": "code",
   "execution_count": 11,
   "id": "ff40ace1-5bad-49a0-8084-c05dfa5217dd",
   "metadata": {
    "tags": []
   },
   "outputs": [],
   "source": [
    "a *= 2 # '+=' a = a * 2"
   ]
  },
  {
   "cell_type": "code",
   "execution_count": 12,
   "id": "6b5a33d3-c9d7-4dee-9f24-a42c729f3e7b",
   "metadata": {
    "tags": []
   },
   "outputs": [],
   "source": [
    "a /= 2 # '+=' a = a / 2"
   ]
  },
  {
   "cell_type": "markdown",
   "id": "d12f3ed2-007a-46ad-9778-e91b70511cac",
   "metadata": {},
   "source": [
    "Like this all arithmetic operators can be used with = sign as an assignment operator"
   ]
  },
  {
   "cell_type": "markdown",
   "id": "07b4f542-23c6-4fe8-b993-4f2d50d35815",
   "metadata": {
    "jp-MarkdownHeadingCollapsed": true,
    "tags": []
   },
   "source": [
    "# Membership Operator"
   ]
  },
  {
   "cell_type": "markdown",
   "id": "a0e37f6d-36ca-4dbe-896f-c265fa2c651e",
   "metadata": {},
   "source": [
    "in - it checks if the value is inside the collection or not. It returns true or false"
   ]
  },
  {
   "cell_type": "markdown",
   "id": "b7b63e29-eaaf-474d-ba3f-6f5e6826813f",
   "metadata": {
    "tags": []
   },
   "source": [
    "not in - it is the opposite of the 'in' operator"
   ]
  },
  {
   "cell_type": "code",
   "execution_count": 14,
   "id": "5feb7564-9b1f-41a5-bfb8-84d6f2b7749b",
   "metadata": {
    "tags": []
   },
   "outputs": [
    {
     "data": {
      "text/plain": [
       "True"
      ]
     },
     "execution_count": 14,
     "metadata": {},
     "output_type": "execute_result"
    }
   ],
   "source": [
    "1 in [1,2,3]"
   ]
  },
  {
   "cell_type": "code",
   "execution_count": 16,
   "id": "044964fb-573b-4c38-9a93-7b56be4e4774",
   "metadata": {
    "tags": []
   },
   "outputs": [
    {
     "data": {
      "text/plain": [
       "True"
      ]
     },
     "execution_count": 16,
     "metadata": {},
     "output_type": "execute_result"
    }
   ],
   "source": [
    "'a' in 'surat'"
   ]
  },
  {
   "cell_type": "code",
   "execution_count": 17,
   "id": "a0248a4c-6c49-4b88-8f3e-e0005760c113",
   "metadata": {
    "tags": []
   },
   "outputs": [
    {
     "data": {
      "text/plain": [
       "False"
      ]
     },
     "execution_count": 17,
     "metadata": {},
     "output_type": "execute_result"
    }
   ],
   "source": [
    "'a' not in 'surat'"
   ]
  },
  {
   "cell_type": "markdown",
   "id": "18421cf4-e932-4442-a2c4-2f432bd0c473",
   "metadata": {
    "jp-MarkdownHeadingCollapsed": true,
    "tags": []
   },
   "source": [
    "# Conditional Statements\n",
    "These statements are used to run a specific block of code only if a give conditon is true"
   ]
  },
  {
   "cell_type": "code",
   "execution_count": 25,
   "id": "33c102bb-70e1-422c-846d-3e4f9b0dc0d1",
   "metadata": {
    "tags": []
   },
   "outputs": [
    {
     "name": "stdout",
     "output_type": "stream",
     "text": [
      "Hello\n"
     ]
    }
   ],
   "source": [
    "if 1 > 2:\n",
    "    print('1')\n",
    "print('Hello')\n",
    "# if is used when there is only one condition to be check\n",
    "# here the first print won't run as the if condition is false"
   ]
  },
  {
   "cell_type": "code",
   "execution_count": 27,
   "id": "df618807-ff3a-493d-88fd-0eac53b00189",
   "metadata": {
    "tags": []
   },
   "outputs": [
    {
     "name": "stdout",
     "output_type": "stream",
     "text": [
      "9\n"
     ]
    }
   ],
   "source": [
    "a = 6 \n",
    "b = 9 \n",
    "if a > b:\n",
    "    print(a)\n",
    "else:\n",
    "    print(b)\n",
    "# if ... else is used when you want to run another block of code if the given condition is false.\n",
    "# here if the if condition is false then the code in else statement will run"
   ]
  },
  {
   "cell_type": "markdown",
   "id": "8916cbbd-67cc-4498-b04f-bb18eb8c7aef",
   "metadata": {
    "jp-MarkdownHeadingCollapsed": true,
    "tags": []
   },
   "source": [
    "# Tasks HW "
   ]
  },
  {
   "cell_type": "markdown",
   "id": "b65b69aa-bfbd-4552-898d-0abfa7b53eaa",
   "metadata": {},
   "source": [
    "1. Take a 3-digit number input from the user and print its reverse"
   ]
  },
  {
   "cell_type": "code",
   "execution_count": 52,
   "id": "5856a982-b549-409a-848e-f57a7b3373a0",
   "metadata": {
    "tags": []
   },
   "outputs": [
    {
     "name": "stdin",
     "output_type": "stream",
     "text": [
      "Enter a three digit number :  123\n"
     ]
    },
    {
     "name": "stdout",
     "output_type": "stream",
     "text": [
      "321\n"
     ]
    }
   ],
   "source": [
    "n = int(input(\"Enter a three digit number : \"))\n",
    "a = n % 10\n",
    "n //= 10\n",
    "b = n % 10\n",
    "n //= 10\n",
    "c = n % 10\n",
    "print(a,b,c,sep=\"\")"
   ]
  },
  {
   "cell_type": "markdown",
   "id": "ad8313bc-8ab2-4a45-9a0a-e0ff2caab2f7",
   "metadata": {},
   "source": [
    "2. Take a 3-digit number input, find the product of its digits and the sum of its digits, \n",
    "and then calculate the difference between the two."
   ]
  },
  {
   "cell_type": "code",
   "execution_count": 50,
   "id": "d639feb3-becc-40f7-b953-cefe78dad86a",
   "metadata": {
    "tags": []
   },
   "outputs": [
    {
     "name": "stdin",
     "output_type": "stream",
     "text": [
      "Enter a 3 digit number :  123\n"
     ]
    },
    {
     "name": "stdout",
     "output_type": "stream",
     "text": [
      "0\n"
     ]
    }
   ],
   "source": [
    "n = int(input(\"Enter a 3 digit number : \"))\n",
    "a = n % 10\n",
    "n //= 10\n",
    "b = n % 10\n",
    "n //= 10\n",
    "c = n % 10\n",
    "print((a*b*c) - (a+b+c))"
   ]
  },
  {
   "cell_type": "markdown",
   "id": "55963b4f-2b2e-4b9e-bfc6-b628e2cd8ba2",
   "metadata": {},
   "source": [
    "3. An Armstrong number is a number in which the sum of the cubes of its digits is equal to the number itself \n",
    "(e.g., 153 because (1 **3+5 **3+3 **3=153). Check if a 3-digit number is an Armstrong number"
   ]
  },
  {
   "cell_type": "code",
   "execution_count": 55,
   "id": "102005d3-d3e4-4eef-8db9-88ec4d0bf676",
   "metadata": {
    "tags": []
   },
   "outputs": [
    {
     "name": "stdin",
     "output_type": "stream",
     "text": [
      "Enter a number to check :  153\n"
     ]
    },
    {
     "name": "stdout",
     "output_type": "stream",
     "text": [
      "True\n"
     ]
    }
   ],
   "source": [
    "n = int(input(\"Enter a number to check : \"))\n",
    "n1 = n\n",
    "a = (n % 10) ** 3\n",
    "n //= 10\n",
    "b = (n % 10) ** 3\n",
    "n //= 10\n",
    "c = (n % 10) ** 3\n",
    "z = a + b + c\n",
    "print(n1==z)"
   ]
  },
  {
   "cell_type": "markdown",
   "id": "4fc81863-64f3-4a82-a991-e4a3d5cb884f",
   "metadata": {},
   "source": [
    "4.  Take two numbers as input from the user and swap their values using only arithmetic operators (no temporary variables)."
   ]
  },
  {
   "cell_type": "code",
   "execution_count": 56,
   "id": "a2d070d9-5f52-41ef-9be8-f80464618e26",
   "metadata": {
    "tags": []
   },
   "outputs": [
    {
     "name": "stdin",
     "output_type": "stream",
     "text": [
      "Enter a number :  1\n",
      "Enter another number :  2\n"
     ]
    },
    {
     "name": "stdout",
     "output_type": "stream",
     "text": [
      "a = 1 and b = 2\n",
      "a = 2 and b = 1\n"
     ]
    }
   ],
   "source": [
    "a = int(input(\"Enter a number : \"))\n",
    "b = int(input(\"Enter another number : \"))\n",
    "print(f\"a = {a} and b = {b}\")\n",
    "a = a + b\n",
    "b = a - b\n",
    "a = a - b\n",
    "print(f\"a = {a} and b = {b}\")"
   ]
  },
  {
   "cell_type": "markdown",
   "id": "4e51e600-6d70-4b4e-a25b-42601e3ccd77",
   "metadata": {},
   "source": [
    "END"
   ]
  },
  {
   "cell_type": "code",
   "execution_count": 1,
   "id": "19aa55cb-6c5f-4c29-8f10-271c54aeab1c",
   "metadata": {
    "tags": []
   },
   "outputs": [
    {
     "name": "stdin",
     "output_type": "stream",
     "text": [
      "Enter a number :  0\n"
     ]
    },
    {
     "name": "stdout",
     "output_type": "stream",
     "text": [
      "Zero\n"
     ]
    }
   ],
   "source": [
    "n = int(input(\"Enter a number : \"))\n",
    "if n > 0:\n",
    "    print(\"Positive\")\n",
    "elif n == 0:\n",
    "    print(\"Zero\")\n",
    "else: \n",
    "    print(\"Negative\")\n",
    "# elif is used to check for multiple conditions"
   ]
  },
  {
   "cell_type": "markdown",
   "id": "c2c73321-fe6f-437c-9930-4178b1ef9ab6",
   "metadata": {
    "jp-MarkdownHeadingCollapsed": true,
    "tags": []
   },
   "source": [
    "# Task"
   ]
  },
  {
   "cell_type": "code",
   "execution_count": 21,
   "id": "7ed823f0-67f6-4333-9b84-89fc3db77037",
   "metadata": {
    "tags": []
   },
   "outputs": [
    {
     "name": "stdin",
     "output_type": "stream",
     "text": [
      "Enter your age :  12\n"
     ]
    },
    {
     "name": "stdout",
     "output_type": "stream",
     "text": [
      "Child\n"
     ]
    }
   ],
   "source": [
    "# Task 1 - age group\n",
    "age = int(input(\"Enter your age : \"))\n",
    "if age < 13:\n",
    "    print(\"Child\")\n",
    "elif age >= 13 and age <= 19:\n",
    "    print(\"Teenager\")\n",
    "elif age >= 20 and age <= 40:\n",
    "    print(\"Adult\")\n",
    "elif age > 40 and age < 60:\n",
    "    print(\"Mid age\")\n",
    "else:\n",
    "    print(\"Senior Citizen\")"
   ]
  },
  {
   "cell_type": "code",
   "execution_count": 22,
   "id": "5d39c5d1-f70a-4722-ab27-98a3c928a3c3",
   "metadata": {
    "tags": []
   },
   "outputs": [
    {
     "name": "stdin",
     "output_type": "stream",
     "text": [
      "Enter your user name :  Saurya\n",
      "Enter your password :  paswrd123\n"
     ]
    },
    {
     "name": "stdout",
     "output_type": "stream",
     "text": [
      "Login successfully\n"
     ]
    }
   ],
   "source": [
    "# Task 2 - User name and password checker\n",
    "name = 'Saurya'\n",
    "pw = 'paswrd123'\n",
    "user_name = input(\"Enter your user name : \")\n",
    "user_pw = input(\"Enter your password : \")\n",
    "if name == user_name:\n",
    "    if pw == user_pw:\n",
    "        print(\"Login successfully\")\n",
    "    else: \n",
    "        user_pw = input(\"Enter your password : \")\n",
    "        if pw == user_pw:\n",
    "            print(\"Login successfully\")\n",
    "        else:\n",
    "            print(\"Wrong password, try again after 5 mins....\")\n",
    "else:\n",
    "    print(\"User does not exist\")\n",
    "# this is nested conditionals, it is used when you need check a condition only after some other condition"
   ]
  },
  {
   "cell_type": "code",
   "execution_count": 23,
   "id": "89617635-982d-4cca-ae0a-205036850e4c",
   "metadata": {
    "tags": []
   },
   "outputs": [
    {
     "name": "stdin",
     "output_type": "stream",
     "text": [
      "Enter a number :  123\n"
     ]
    },
    {
     "name": "stdout",
     "output_type": "stream",
     "text": [
      "The last digit is divisible by 3\n"
     ]
    }
   ],
   "source": [
    "# Task 3 - WAP to check whether the last digit of a number is divisible by 3 or not\n",
    "b = int(input(\"Enter a number : \"))\n",
    "if (b % 10) % 3 == 0:\n",
    "    print(\"The last digit is divisible by 3\")\n",
    "else:\n",
    "    print(\"The last digit is not divisible by 3\")"
   ]
  },
  {
   "cell_type": "markdown",
   "id": "db3c9f91-c42d-4a10-acc2-36f914442712",
   "metadata": {},
   "source": [
    "END"
   ]
  },
  {
   "cell_type": "markdown",
   "id": "6fd39e22-1dd6-4d11-9833-23ff39459af6",
   "metadata": {
    "jp-MarkdownHeadingCollapsed": true,
    "tags": []
   },
   "source": [
    "# Loops \n",
    "Loops help to repeat a task over and over without rewriting the code many times\n",
    "Types of loops: -\n",
    "1. While loop\n",
    "2. For loop"
   ]
  },
  {
   "cell_type": "code",
   "execution_count": 5,
   "id": "d2024f92-32ed-419a-b462-6c3ce0085198",
   "metadata": {
    "tags": []
   },
   "outputs": [
    {
     "name": "stdout",
     "output_type": "stream",
     "text": [
      "1\n",
      "2\n",
      "3\n",
      "4\n",
      "5\n",
      "6\n",
      "7\n",
      "8\n",
      "9\n",
      "10\n"
     ]
    }
   ],
   "source": [
    "# While loops\n",
    "i = 1 # initialisation\n",
    "while i < 11: # condition\n",
    "    print(i)\n",
    "    i += 1  #increment "
   ]
  },
  {
   "cell_type": "code",
   "execution_count": 9,
   "id": "68cc1e06-8738-4cbb-b6e7-977bd6f05822",
   "metadata": {
    "tags": []
   },
   "outputs": [
    {
     "name": "stdout",
     "output_type": "stream",
     "text": [
      "The sum is 55\n"
     ]
    }
   ],
   "source": [
    "#Example - loop to find sum of numbers 1 to 10\n",
    "i = 1\n",
    "total = 0\n",
    "while i <= 10:\n",
    "    total += i\n",
    "    i += 1\n",
    "print(f\"The sum is {total}\")"
   ]
  },
  {
   "cell_type": "markdown",
   "id": "f61181fd-c241-4341-adfa-523dd5ac36d8",
   "metadata": {
    "jp-MarkdownHeadingCollapsed": true,
    "tags": []
   },
   "source": [
    "# Tasks"
   ]
  },
  {
   "cell_type": "markdown",
   "id": "95a394c1-f950-430d-974c-75b44b9a164d",
   "metadata": {},
   "source": [
    "Take input of two numbers and print all the even numbers between them."
   ]
  },
  {
   "cell_type": "code",
   "execution_count": 6,
   "id": "72a3b1eb-0955-449a-9675-aaccddd09180",
   "metadata": {
    "tags": []
   },
   "outputs": [
    {
     "name": "stdin",
     "output_type": "stream",
     "text": [
      "Enter a number :  15\n",
      "Enter another number :  5\n"
     ]
    },
    {
     "name": "stdout",
     "output_type": "stream",
     "text": [
      "14\n",
      "12\n",
      "10\n",
      "8\n",
      "6\n"
     ]
    }
   ],
   "source": [
    "x = int(input(\"Enter a number : \"))\n",
    "y = int(input(\"Enter another number : \"))\n",
    "while x < y:\n",
    "    if x % 2 == 1:\n",
    "        x += 1\n",
    "    print(x)\n",
    "    x += 2\n",
    "while x > y:\n",
    "    if x % 2 == 1:\n",
    "        x -= 1\n",
    "    print(x)\n",
    "    x -= 2"
   ]
  },
  {
   "cell_type": "code",
   "execution_count": 11,
   "id": "c2a9d837-9e27-46f5-ad20-203114118bde",
   "metadata": {
    "tags": []
   },
   "outputs": [
    {
     "name": "stdout",
     "output_type": "stream",
     "text": [
      "0\n",
      "2\n",
      "4\n",
      "6\n",
      "8\n",
      "10\n",
      "12\n",
      "14\n",
      "16\n",
      "18\n",
      "20\n"
     ]
    }
   ],
   "source": [
    "#print first 10 even numbers\n",
    "i = 0 \n",
    "while i <= 20:\n",
    "    print(i)\n",
    "    i += 2"
   ]
  },
  {
   "cell_type": "code",
   "execution_count": 12,
   "id": "06b66e5e-c9ae-4a32-971a-e1c0a68a9c01",
   "metadata": {
    "tags": []
   },
   "outputs": [
    {
     "name": "stdout",
     "output_type": "stream",
     "text": [
      "1\n",
      "3\n",
      "5\n",
      "7\n",
      "9\n",
      "11\n",
      "13\n",
      "15\n",
      "17\n",
      "19\n"
     ]
    }
   ],
   "source": [
    "#print first 10 odd numbers\n",
    "i = 1\n",
    "while i <= 20:\n",
    "    print(i)\n",
    "    i += 2"
   ]
  },
  {
   "cell_type": "code",
   "execution_count": 1,
   "id": "7d83c65b-faa6-4672-b00c-59c6dbad46cc",
   "metadata": {},
   "outputs": [
    {
     "name": "stdout",
     "output_type": "stream",
     "text": [
      "1 1\n",
      "2 4\n",
      "3 9\n",
      "4 16\n",
      "5 25\n",
      "6 36\n",
      "7 49\n",
      "8 64\n",
      "9 81\n",
      "10 100\n"
     ]
    }
   ],
   "source": [
    "# print first 1- integer and their square\n",
    "i = 1\n",
    "while i <= 10:\n",
    "    print(i, i**2)\n",
    "    i += 1"
   ]
  },
  {
   "cell_type": "code",
   "execution_count": 7,
   "id": "2a9bba29-cb53-496f-a15c-47f7c111ced6",
   "metadata": {
    "tags": []
   },
   "outputs": [
    {
     "name": "stdout",
     "output_type": "stream",
     "text": [
      "10\n",
      "20\n",
      "30\n",
      "40\n",
      "50\n",
      "60\n",
      "70\n",
      "80\n",
      "90\n",
      "100\n",
      "110\n",
      "120\n",
      "130\n",
      "140\n",
      "150\n",
      "160\n",
      "170\n",
      "180\n",
      "190\n",
      "200\n",
      "210\n",
      "220\n",
      "230\n",
      "240\n",
      "250\n",
      "260\n",
      "270\n",
      "280\n",
      "290\n",
      "300\n"
     ]
    }
   ],
   "source": [
    "# print the series 10,20,30,....,300\n",
    "i = 10\n",
    "while i <= 300:\n",
    "    print(i)\n",
    "    i += 10"
   ]
  },
  {
   "cell_type": "code",
   "execution_count": 8,
   "id": "da04c762-3c49-4d04-b34d-06f1bff82190",
   "metadata": {
    "tags": []
   },
   "outputs": [
    {
     "name": "stdout",
     "output_type": "stream",
     "text": [
      "105\n",
      "98\n",
      "91\n",
      "84\n",
      "77\n",
      "70\n",
      "63\n",
      "56\n",
      "49\n",
      "42\n",
      "35\n",
      "28\n",
      "21\n",
      "14\n",
      "7\n"
     ]
    }
   ],
   "source": [
    "#print series - 105,98, 91, ....., 7\n",
    "i = 105\n",
    "while i >= 7:\n",
    "    print(i)\n",
    "    i -= 7"
   ]
  },
  {
   "cell_type": "code",
   "execution_count": 2,
   "id": "7f60c5bf-ea44-440b-9b53-ee18f8f03441",
   "metadata": {
    "tags": []
   },
   "outputs": [
    {
     "name": "stdout",
     "output_type": "stream",
     "text": [
      "10\n",
      "9\n",
      "8\n",
      "7\n",
      "6\n",
      "5\n",
      "4\n",
      "3\n",
      "2\n",
      "1\n"
     ]
    }
   ],
   "source": [
    "#WAP to print first 10 even numbers in reverse order\n",
    "x = 10\n",
    "while x > 0:\n",
    "    print(x)\n",
    "    x -= 1"
   ]
  },
  {
   "cell_type": "code",
   "execution_count": 11,
   "id": "755daf15-1cc8-4ce9-8cee-25e65ebf2fea",
   "metadata": {},
   "outputs": [
    {
     "name": "stdin",
     "output_type": "stream",
     "text": [
      "Enter a number :  7\n"
     ]
    },
    {
     "name": "stdout",
     "output_type": "stream",
     "text": [
      "The number is prime\n"
     ]
    }
   ],
   "source": [
    "#WAP to check whether a number is  prime or not\n",
    "n = int(input(\"Enter a number : \"))\n",
    "x = 2\n",
    "is_prime = True\n",
    "while x < n:\n",
    "    if n % x == 0:\n",
    "        print(\"The number is not prime\")\n",
    "        is_prime = False\n",
    "        break\n",
    "    x += 1\n",
    "if is_prime:\n",
    "    print(\"The number is prime\")"
   ]
  },
  {
   "cell_type": "code",
   "execution_count": 12,
   "id": "03fb1413-82f3-461c-bf0f-e716b875d633",
   "metadata": {},
   "outputs": [
    {
     "name": "stdin",
     "output_type": "stream",
     "text": [
      "Enter a number :  123\n"
     ]
    },
    {
     "name": "stdout",
     "output_type": "stream",
     "text": [
      "The sum of digits is 6\n"
     ]
    }
   ],
   "source": [
    "#WAP to find the sum of digits of a number accepted from the user. \n",
    "n = int(input(\"Enter a number : \"))\n",
    "total = 0 \n",
    "while n > 0:\n",
    "    total += n % 10\n",
    "    n //= 10\n",
    "print(f\"The sum of digits is {total}\")"
   ]
  },
  {
   "cell_type": "code",
   "execution_count": 22,
   "id": "d3c9f9ad-526d-4fba-a478-548f9ee384a3",
   "metadata": {},
   "outputs": [
    {
     "name": "stdin",
     "output_type": "stream",
     "text": [
      "Enter a number :  123\n"
     ]
    },
    {
     "name": "stdout",
     "output_type": "stream",
     "text": [
      "321\n"
     ]
    }
   ],
   "source": [
    "#WAP to program to reverse the number accepted from the user using a while loop\n",
    "n = int(input(\"Enter a number : \"))\n",
    "reverse_num = 0 \n",
    "while n > 0:\n",
    "    reverse_num = (reverse_num * 10) + (n % 10)\n",
    "    n //= 10\n",
    "print(reverse_num)"
   ]
  },
  {
   "cell_type": "code",
   "execution_count": 28,
   "id": "9dea23e5-0439-44cb-ad5f-93966d137321",
   "metadata": {},
   "outputs": [
    {
     "name": "stdin",
     "output_type": "stream",
     "text": [
      "Enter the number of terms :  10\n"
     ]
    },
    {
     "name": "stdout",
     "output_type": "stream",
     "text": [
      "1\n",
      "2\n",
      "3\n",
      "5\n",
      "8\n",
      "13\n",
      "21\n",
      "34\n",
      "55\n",
      "89\n"
     ]
    }
   ],
   "source": [
    "#WAP to print fibonacci series till n terms using while loop \n",
    "n = int(input(\"Enter the number of terms : \"))\n",
    "p = 0 \n",
    "l = 1\n",
    "while n > 0:\n",
    "    p = p + l\n",
    "    print(p)\n",
    "    p,l = l,p\n",
    "    n -= 1"
   ]
  },
  {
   "cell_type": "code",
   "execution_count": 31,
   "id": "b6edbff3-2e56-4125-bc61-dfbd1ee6c8ab",
   "metadata": {
    "tags": []
   },
   "outputs": [
    {
     "name": "stdin",
     "output_type": "stream",
     "text": [
      "Enter a number to check :  152\n"
     ]
    },
    {
     "name": "stdout",
     "output_type": "stream",
     "text": [
      "It is not an armstrong number\n"
     ]
    }
   ],
   "source": [
    "#WAP to check whether a number is aemstron or not using while loop\n",
    "x = int(input(\"Enter a number to check : \"))\n",
    "y = x\n",
    "z = 0 \n",
    "while x > 0:\n",
    "    z += (x % 10) ** 3\n",
    "    x //= 10\n",
    "if z == y:\n",
    "    print(\"It is an armstrong number\")\n",
    "else:\n",
    "    print(\"It is not an armstrong number\")"
   ]
  },
  {
   "cell_type": "markdown",
   "id": "6230636d-13c7-43dd-8e71-025b9c96d74d",
   "metadata": {},
   "source": [
    "END"
   ]
  },
  {
   "cell_type": "code",
   "execution_count": 4,
   "id": "ae3578af-8c8c-4bc4-896b-64bb351c289d",
   "metadata": {
    "tags": []
   },
   "outputs": [
    {
     "name": "stdout",
     "output_type": "stream",
     "text": [
      "0\n",
      "2\n",
      "4\n",
      "6\n",
      "8\n",
      "10\n",
      "12\n",
      "14\n",
      "16\n",
      "18\n",
      "20\n"
     ]
    }
   ],
   "source": [
    "#For loop - it is used when we know the number of iteration\n",
    "for i in range(0,21,2): # i is the variable we initialized and in range(start, stop, step) step is step is optional by defualt it is '1'\n",
    "    print(i)"
   ]
  },
  {
   "cell_type": "code",
   "execution_count": 2,
   "id": "0d207ca4-23e8-490a-a376-f8ff5d93bceb",
   "metadata": {
    "tags": []
   },
   "outputs": [
    {
     "name": "stdout",
     "output_type": "stream",
     "text": [
      "10\n",
      "9\n",
      "8\n",
      "7\n",
      "6\n",
      "5\n",
      "4\n",
      "3\n",
      "2\n",
      "1\n"
     ]
    }
   ],
   "source": [
    "#printing numbers in reverse order\n",
    "for i in range(10, 0, -1):\n",
    "    print(i)"
   ]
  },
  {
   "cell_type": "markdown",
   "id": "bb767ebe-2b5e-442f-b295-b54fe477821f",
   "metadata": {
    "jp-MarkdownHeadingCollapsed": true,
    "tags": []
   },
   "source": [
    "# Loop control statements"
   ]
  },
  {
   "cell_type": "markdown",
   "id": "b6899e7e-01b5-4165-8de3-278ecc592012",
   "metadata": {},
   "source": [
    "1. break - it will end the loop\n",
    "2. continue - it will skip particular iteration of the loop\n",
    "3. pass - it works as a place holder it helps to avoid errors where you need to write the code later"
   ]
  },
  {
   "cell_type": "code",
   "execution_count": 5,
   "id": "87d3c413-069a-49ad-b292-1c525542f611",
   "metadata": {
    "tags": []
   },
   "outputs": [
    {
     "name": "stdout",
     "output_type": "stream",
     "text": [
      "1\n",
      "2\n",
      "3\n",
      "4\n"
     ]
    }
   ],
   "source": [
    "for i in range(1,10):\n",
    "    if i == 5:\n",
    "        break\n",
    "    print(i)\n",
    "#here it will end the loop when i = 5"
   ]
  },
  {
   "cell_type": "code",
   "execution_count": 6,
   "id": "78269682-edac-414c-84b6-5ac522d55ba3",
   "metadata": {
    "tags": []
   },
   "outputs": [
    {
     "name": "stdout",
     "output_type": "stream",
     "text": [
      "1\n",
      "2\n",
      "3\n",
      "4\n",
      "6\n",
      "7\n",
      "8\n",
      "9\n"
     ]
    }
   ],
   "source": [
    "for i in range(1,10):\n",
    "    if i == 5:\n",
    "        continue\n",
    "    print(i)\n",
    "#here it will skip the iteration where i = 5"
   ]
  },
  {
   "cell_type": "code",
   "execution_count": 7,
   "id": "f16fe040-22b0-4f9b-aa76-13086a33abc6",
   "metadata": {
    "tags": []
   },
   "outputs": [
    {
     "name": "stdout",
     "output_type": "stream",
     "text": [
      "1\n",
      "2\n",
      "3\n",
      "4\n",
      "5\n",
      "6\n",
      "7\n",
      "8\n",
      "9\n"
     ]
    }
   ],
   "source": [
    "for i in range(1,10):\n",
    "    if i == 5:\n",
    "        pass\n",
    "    print(i)\n",
    "#here nothing will be affected as pass is just a placeholder"
   ]
  },
  {
   "cell_type": "code",
   "execution_count": 18,
   "id": "3757f151-affc-4320-9a35-c2bef55e4069",
   "metadata": {
    "tags": []
   },
   "outputs": [
    {
     "name": "stdin",
     "output_type": "stream",
     "text": [
      "Enter the number of rows :  5\n"
     ]
    },
    {
     "name": "stdout",
     "output_type": "stream",
     "text": [
      "    *\n",
      "   ***\n",
      "  *****\n",
      " *******\n",
      "*********\n"
     ]
    }
   ],
   "source": [
    "row = int(input(\"Enter the number of rows : \"))\n",
    "n = 1\n",
    "for i in range(1, (row*2), 2):\n",
    "    print(\" \" * (row - n),end=\"\")\n",
    "    print(\"*\" * i)\n",
    "    n += 1"
   ]
  },
  {
   "cell_type": "code",
   "execution_count": 23,
   "id": "0c690a2b-6c76-4273-ada3-15cee5eda75f",
   "metadata": {
    "tags": []
   },
   "outputs": [
    {
     "name": "stdout",
     "output_type": "stream",
     "text": [
      "    *\n",
      "   ***\n",
      "  *****\n",
      " *******\n",
      "*********\n",
      " *******\n",
      "  *****\n",
      "   ***\n",
      "    *\n"
     ]
    }
   ],
   "source": [
    "n = 1\n",
    "for i in range(1, 10, 2):\n",
    "    print(\" \" * (5 - n),end=\"\")\n",
    "    print(\"*\" * i)\n",
    "    n += 1\n",
    "n += 1\n",
    "for i in range(1,5):\n",
    "    print(\" \" * i,end=\"\")\n",
    "    print(\"*\" * n)\n",
    "    n -= 2"
   ]
  },
  {
   "cell_type": "markdown",
   "id": "4dfeb2a2-c141-4f67-a4ad-4f159c31a76e",
   "metadata": {
    "jp-MarkdownHeadingCollapsed": true,
    "tags": []
   },
   "source": [
    "# Lists\n",
    "It is a datatype where you can add multiple values or items under a single name.\n",
    "## Characteristics\n",
    "1. Ordered \n",
    "2. Mutable/changeble\n",
    "3. can have duplicates\n",
    "4. heterogenous\n",
    "5. dynamic\n",
    "6. can be nested"
   ]
  },
  {
   "cell_type": "code",
   "execution_count": 1,
   "id": "434be076-ad50-4821-983a-e26f40084917",
   "metadata": {
    "tags": []
   },
   "outputs": [
    {
     "data": {
      "text/plain": [
       "list"
      ]
     },
     "execution_count": 1,
     "metadata": {},
     "output_type": "execute_result"
    }
   ],
   "source": [
    "#delcaring a list\n",
    "l = [1,2,3]\n",
    "type(l)"
   ]
  },
  {
   "cell_type": "code",
   "execution_count": 4,
   "id": "1c32cbc1-602c-455e-bc97-90764c89a6f0",
   "metadata": {
    "tags": []
   },
   "outputs": [
    {
     "name": "stdout",
     "output_type": "stream",
     "text": [
      "1\n"
     ]
    }
   ],
   "source": [
    "#to access a specific element\n",
    "print(l[0]) # list_name[index] index starts from '0' (zero)"
   ]
  },
  {
   "cell_type": "code",
   "execution_count": 5,
   "id": "fd5332fe-125b-4282-9918-d5cca5d152c1",
   "metadata": {
    "tags": []
   },
   "outputs": [],
   "source": [
    "#create an empty list\n",
    "l1= []"
   ]
  },
  {
   "cell_type": "code",
   "execution_count": 7,
   "id": "300ed145-35ff-4737-9f43-991ced4e2e16",
   "metadata": {
    "tags": []
   },
   "outputs": [],
   "source": [
    "#different types of lists\n",
    "l = [1,2,3] # 1-D -> homogenous -> all elements are of same datatype\n",
    "l = [1,2.3,'a', True] # 1-D -> heterogenous -> elements are of different types\n",
    "l = [1,2,['a','a',12]] # 2-D nested list"
   ]
  },
  {
   "cell_type": "code",
   "execution_count": 9,
   "id": "afd3a6a4-f157-40e4-90b5-4800a9da67cb",
   "metadata": {
    "tags": []
   },
   "outputs": [
    {
     "name": "stdout",
     "output_type": "stream",
     "text": [
      "['h', 'e', 'l', 'l', 'o']\n"
     ]
    }
   ],
   "source": [
    "#converting string into list\n",
    "s = 'hello'\n",
    "l = list(s)\n",
    "print(l)"
   ]
  },
  {
   "cell_type": "code",
   "execution_count": 1,
   "id": "98d19401-aa72-482b-9c61-b91577bc27c2",
   "metadata": {
    "tags": []
   },
   "outputs": [
    {
     "data": {
      "text/plain": [
       "5"
      ]
     },
     "execution_count": 1,
     "metadata": {},
     "output_type": "execute_result"
    }
   ],
   "source": [
    "#accessing element from nested lists \n",
    "l = [ [ [1,2],[3,4] ] ,[ [5,6],[7,8] ] ]\n",
    "l[1][0][0]"
   ]
  },
  {
   "cell_type": "markdown",
   "id": "a89150f4-cf03-46b3-b729-d6ed25dff95e",
   "metadata": {
    "jp-MarkdownHeadingCollapsed": true,
    "tags": []
   },
   "source": [
    "# List slicing \n",
    "Access multiple elements of the list using indexs "
   ]
  },
  {
   "cell_type": "code",
   "execution_count": 13,
   "id": "fef84344-1e09-4458-a7b0-a9babb35e08a",
   "metadata": {
    "tags": []
   },
   "outputs": [],
   "source": [
    "l = 'hello'\n",
    "l = list(l)"
   ]
  },
  {
   "cell_type": "code",
   "execution_count": 14,
   "id": "366aad47-10cc-4c7c-aaf7-06a2d750bf27",
   "metadata": {
    "tags": []
   },
   "outputs": [
    {
     "data": {
      "text/plain": [
       "['h', 'e', 'l', 'l']"
      ]
     },
     "execution_count": 14,
     "metadata": {},
     "output_type": "execute_result"
    }
   ],
   "source": [
    "#to print hell from hello \n",
    "l[0:4] # list_name[start : stop : step]"
   ]
  },
  {
   "cell_type": "code",
   "execution_count": 15,
   "id": "f815e4d6-f1d5-454f-9163-c61c9f041f87",
   "metadata": {
    "tags": []
   },
   "outputs": [
    {
     "data": {
      "text/plain": [
       "['o', 'l', 'l', 'e', 'h']"
      ]
     },
     "execution_count": 15,
     "metadata": {},
     "output_type": "execute_result"
    }
   ],
   "source": [
    "#printing in reverse\n",
    "l[::-1]"
   ]
  },
  {
   "cell_type": "code",
   "execution_count": 16,
   "id": "5f900908-c0bb-497f-b0ab-acab6162a252",
   "metadata": {
    "tags": []
   },
   "outputs": [
    {
     "data": {
      "text/plain": [
       "['h', 'e', 'l', 'l', 'o', 'world']"
      ]
     },
     "execution_count": 16,
     "metadata": {},
     "output_type": "execute_result"
    }
   ],
   "source": [
    "l.append('world') # to add a element at the end of the list\n",
    "l"
   ]
  },
  {
   "cell_type": "code",
   "execution_count": 17,
   "id": "17d219f0-8aaf-4c58-8738-bfeb3bcce364",
   "metadata": {
    "tags": []
   },
   "outputs": [
    {
     "data": {
      "text/plain": [
       "['h', 'e', 'l', 'l', 'o', 'world', 'w', 'o', 'r', 'l', 'd']"
      ]
     },
     "execution_count": 17,
     "metadata": {},
     "output_type": "execute_result"
    }
   ],
   "source": [
    "l.extend('world') # it will merge 2 lists \n",
    "l"
   ]
  },
  {
   "cell_type": "code",
   "execution_count": 18,
   "id": "c6f9aed0-c57f-43df-aaa0-3c6cb9b138f1",
   "metadata": {
    "tags": []
   },
   "outputs": [],
   "source": [
    "l.insert(4, 'O') # to insert a value at a particular index"
   ]
  },
  {
   "cell_type": "code",
   "execution_count": 19,
   "id": "176a8fcf-ed47-4863-b7c9-942b1c77c30e",
   "metadata": {
    "tags": []
   },
   "outputs": [
    {
     "data": {
      "text/plain": [
       "['h', 'e', 'l', 'l', 'O', 'o', 'world', 'w', 'o', 'r', 'l', 'd']"
      ]
     },
     "execution_count": 19,
     "metadata": {},
     "output_type": "execute_result"
    }
   ],
   "source": [
    "l"
   ]
  },
  {
   "cell_type": "code",
   "execution_count": 21,
   "id": "2d4d8f65-9129-47e6-a8aa-7906b2cbca85",
   "metadata": {
    "tags": []
   },
   "outputs": [],
   "source": [
    "l.remove('O') #to remove a particular value from the list"
   ]
  },
  {
   "cell_type": "code",
   "execution_count": 22,
   "id": "7140bf4d-8f7b-4ee4-a0c6-9d974fa7dc63",
   "metadata": {
    "tags": []
   },
   "outputs": [
    {
     "data": {
      "text/plain": [
       "['h', 'e', 'l', 'l', 'o', 'world', 'w', 'o', 'r', 'l', 'd']"
      ]
     },
     "execution_count": 22,
     "metadata": {},
     "output_type": "execute_result"
    }
   ],
   "source": [
    "l"
   ]
  },
  {
   "cell_type": "code",
   "execution_count": 26,
   "id": "662c55da-4794-4b41-a819-13c7f71643f5",
   "metadata": {
    "tags": []
   },
   "outputs": [],
   "source": [
    "del l[5] #to delete a particular element using it's index (it's not a function of list)"
   ]
  },
  {
   "cell_type": "code",
   "execution_count": 27,
   "id": "5806866f-d8ac-4367-88db-e085e7e62b0c",
   "metadata": {
    "tags": []
   },
   "outputs": [
    {
     "data": {
      "text/plain": [
       "['h', 'e', 'l', 'l', 'o', 'o', 'r', 'l', 'd']"
      ]
     },
     "execution_count": 27,
     "metadata": {},
     "output_type": "execute_result"
    }
   ],
   "source": [
    "l"
   ]
  },
  {
   "cell_type": "code",
   "execution_count": 28,
   "id": "5ef2e9a4-5dcf-4640-8fec-ed59864eadb4",
   "metadata": {
    "tags": []
   },
   "outputs": [
    {
     "data": {
      "text/plain": [
       "'d'"
      ]
     },
     "execution_count": 28,
     "metadata": {},
     "output_type": "execute_result"
    }
   ],
   "source": [
    "l.pop() #it's list's method to delete an element from the list, if you don't provide the index it wll delete the last element"
   ]
  },
  {
   "cell_type": "code",
   "execution_count": 29,
   "id": "4c85bbcd-b029-40d8-b505-a90781701557",
   "metadata": {
    "tags": []
   },
   "outputs": [
    {
     "data": {
      "text/plain": [
       "['h', 'e', 'l', 'l', 'o', 'w', 'o', 'r', 'l']"
      ]
     },
     "execution_count": 29,
     "metadata": {},
     "output_type": "execute_result"
    }
   ],
   "source": [
    "l.insert(5,'w')\n",
    "l"
   ]
  },
  {
   "cell_type": "code",
   "execution_count": 30,
   "id": "1331ff15-0dd0-434d-a377-d515b4441c0b",
   "metadata": {
    "tags": []
   },
   "outputs": [
    {
     "data": {
      "text/plain": [
       "['h', 'e', 'l', 'l', 'o', 'W', 'o', 'r', 'l']"
      ]
     },
     "execution_count": 30,
     "metadata": {},
     "output_type": "execute_result"
    }
   ],
   "source": [
    "#to edit a value of the list\n",
    "l[5] = 'W'\n",
    "l"
   ]
  },
  {
   "cell_type": "code",
   "execution_count": 31,
   "id": "fc7947e0-b96d-4ce9-9e0e-4340e5247b55",
   "metadata": {
    "tags": []
   },
   "outputs": [
    {
     "data": {
      "text/plain": [
       "[1, 2, 3, 4, 5, 6]"
      ]
     },
     "execution_count": 31,
     "metadata": {},
     "output_type": "execute_result"
    }
   ],
   "source": [
    "#to merge two lists using '+' operator\n",
    "a = [1,2,3]\n",
    "b = [4,5,6]\n",
    "a + b"
   ]
  },
  {
   "cell_type": "code",
   "execution_count": 33,
   "id": "421702f2-37e8-4e39-ab5b-600016ac9a9f",
   "metadata": {
    "tags": []
   },
   "outputs": [
    {
     "data": {
      "text/plain": [
       "[1, 2, 3, 1, 2, 3, 1, 2, 3]"
      ]
     },
     "execution_count": 33,
     "metadata": {},
     "output_type": "execute_result"
    }
   ],
   "source": [
    "#to print the list multiple times using '*' operator\n",
    "a * 3"
   ]
  },
  {
   "cell_type": "code",
   "execution_count": 34,
   "id": "a95eb371-7f94-4ede-94cc-f3aae35b29a4",
   "metadata": {
    "tags": []
   },
   "outputs": [
    {
     "data": {
      "text/plain": [
       "3"
      ]
     },
     "execution_count": 34,
     "metadata": {},
     "output_type": "execute_result"
    }
   ],
   "source": [
    "#to find the length of the list\n",
    "len(a)"
   ]
  },
  {
   "cell_type": "code",
   "execution_count": 35,
   "id": "76371767-e278-495b-b876-5e9a07b6cf4f",
   "metadata": {
    "tags": []
   },
   "outputs": [],
   "source": [
    "#to empty the list\n",
    "b.clear()"
   ]
  },
  {
   "cell_type": "code",
   "execution_count": 36,
   "id": "348c2677-552c-4e48-a06f-404c5bfac41f",
   "metadata": {
    "tags": []
   },
   "outputs": [
    {
     "data": {
      "text/plain": [
       "1"
      ]
     },
     "execution_count": 36,
     "metadata": {},
     "output_type": "execute_result"
    }
   ],
   "source": [
    "# to find how many times a value is in the list\n",
    "a.count(1)"
   ]
  },
  {
   "cell_type": "code",
   "execution_count": 38,
   "id": "3f898509-cdfe-4e11-8367-4dfdfcfd56e9",
   "metadata": {
    "tags": []
   },
   "outputs": [
    {
     "name": "stdout",
     "output_type": "stream",
     "text": [
      "3\n"
     ]
    },
    {
     "data": {
      "text/plain": [
       "1"
      ]
     },
     "execution_count": 38,
     "metadata": {},
     "output_type": "execute_result"
    }
   ],
   "source": [
    "#to find max and min from a list\n",
    "print(max(a))\n",
    "min(a)"
   ]
  },
  {
   "cell_type": "code",
   "execution_count": 39,
   "id": "19722fbc-7009-4f85-a025-58a9fa5010d4",
   "metadata": {
    "tags": []
   },
   "outputs": [
    {
     "data": {
      "text/plain": [
       "[1, 2, 3]"
      ]
     },
     "execution_count": 39,
     "metadata": {},
     "output_type": "execute_result"
    }
   ],
   "source": [
    "# to sort an list\n",
    "sorted(a)"
   ]
  },
  {
   "cell_type": "markdown",
   "id": "5e17f096-e686-44d4-afd1-ba4072014abc",
   "metadata": {
    "jp-MarkdownHeadingCollapsed": true,
    "tags": []
   },
   "source": [
    "# List comprehension\n",
    "It is used to create a list using loops within the square brackets"
   ]
  },
  {
   "cell_type": "code",
   "execution_count": 45,
   "id": "ee0f50b6-eb5a-4389-a702-576f2b214c4e",
   "metadata": {
    "tags": []
   },
   "outputs": [
    {
     "data": {
      "text/plain": [
       "[1, 4, 9]"
      ]
     },
     "execution_count": 45,
     "metadata": {},
     "output_type": "execute_result"
    }
   ],
   "source": [
    "#to store the squres of the value of the list 'a' in another list\n",
    "l1 = [i**2 for i in a] \n",
    "l1"
   ]
  },
  {
   "cell_type": "markdown",
   "id": "f0303184-bdcd-4e46-8bf7-75f25052ed22",
   "metadata": {
    "jp-MarkdownHeadingCollapsed": true,
    "tags": []
   },
   "source": [
    "# Zip()\n",
    "It will return a list of tuples where each tuple contain the element from the lists which had the same index number. If the lengths of the lists are different the longer list's length will be the length of the new list\n"
   ]
  },
  {
   "cell_type": "code",
   "execution_count": 48,
   "id": "06d81489-d5a5-4453-b46c-07f592e40451",
   "metadata": {
    "tags": []
   },
   "outputs": [
    {
     "data": {
      "text/plain": [
       "[(1, 5), (2, 6), (3, 7), (4, 8)]"
      ]
     },
     "execution_count": 48,
     "metadata": {},
     "output_type": "execute_result"
    }
   ],
   "source": [
    "l1 = [1,2,3,4]\n",
    "l2 = [5,6,7,8]\n",
    "list(zip(l1,l2))"
   ]
  },
  {
   "cell_type": "code",
   "execution_count": 47,
   "id": "a31954d5-bfcb-4c76-8be3-358a14d7d007",
   "metadata": {
    "tags": []
   },
   "outputs": [
    {
     "data": {
      "text/plain": [
       "[6, 8, 10, 12]"
      ]
     },
     "execution_count": 47,
     "metadata": {},
     "output_type": "execute_result"
    }
   ],
   "source": [
    "# to create a list which contains the sum of elements of both lists which are on the same index\n",
    "l3 = [i+j for i,j in zip(l1,l2)]\n",
    "l3"
   ]
  },
  {
   "cell_type": "markdown",
   "id": "c14aef90-4c84-487b-9104-382d52fc0796",
   "metadata": {
    "jp-MarkdownHeadingCollapsed": true,
    "tags": []
   },
   "source": [
    "# Tuple"
   ]
  },
  {
   "cell_type": "code",
   "execution_count": 1,
   "id": "bce6e299-5594-4542-b1d5-47e9b41d19bd",
   "metadata": {
    "tags": []
   },
   "outputs": [
    {
     "data": {
      "text/plain": [
       "tuple"
      ]
     },
     "execution_count": 1,
     "metadata": {},
     "output_type": "execute_result"
    }
   ],
   "source": [
    "#empty tuple\n",
    "t = ()\n",
    "type(t)"
   ]
  },
  {
   "cell_type": "code",
   "execution_count": 2,
   "id": "0f517adb-b987-484b-b766-972cd353afe3",
   "metadata": {
    "tags": []
   },
   "outputs": [
    {
     "ename": "ValueError",
     "evalue": "too many values to unpack (expected 3)",
     "output_type": "error",
     "traceback": [
      "\u001b[1;31m---------------------------------------------------------------------------\u001b[0m",
      "\u001b[1;31mValueError\u001b[0m                                Traceback (most recent call last)",
      "\u001b[1;32m~\\AppData\\Local\\Temp\\ipykernel_10800\\3706308453.py\u001b[0m in \u001b[0;36m<module>\u001b[1;34m\u001b[0m\n\u001b[0;32m      1\u001b[0m \u001b[1;31m#packing and unpacking\u001b[0m\u001b[1;33m\u001b[0m\u001b[1;33m\u001b[0m\u001b[1;33m\u001b[0m\u001b[0m\n\u001b[1;32m----> 2\u001b[1;33m \u001b[0ma\u001b[0m\u001b[1;33m,\u001b[0m\u001b[0mb\u001b[0m\u001b[1;33m,\u001b[0m\u001b[0mc\u001b[0m \u001b[1;33m=\u001b[0m \u001b[1;33m(\u001b[0m\u001b[1;36m1\u001b[0m\u001b[1;33m,\u001b[0m\u001b[1;36m2\u001b[0m\u001b[1;33m,\u001b[0m\u001b[1;36m3\u001b[0m\u001b[1;33m,\u001b[0m\u001b[1;36m4\u001b[0m\u001b[1;33m,\u001b[0m\u001b[1;36m5\u001b[0m\u001b[1;33m)\u001b[0m\u001b[1;33m\u001b[0m\u001b[1;33m\u001b[0m\u001b[0m\n\u001b[0m",
      "\u001b[1;31mValueError\u001b[0m: too many values to unpack (expected 3)"
     ]
    }
   ],
   "source": [
    "#packing and unpacking\n",
    "a,b,c = (1,2,3,4,5)"
   ]
  },
  {
   "cell_type": "code",
   "execution_count": 3,
   "id": "06194ad5-785b-4a00-970a-13d7288c2dee",
   "metadata": {
    "tags": []
   },
   "outputs": [],
   "source": [
    "#to avoid the aobve error\n",
    "a,*b,c = (1,2,3,4,5)\n",
    "#now variable with the '*' will store a list of the extra elements"
   ]
  },
  {
   "cell_type": "code",
   "execution_count": 4,
   "id": "dabd459f-67f8-4aa2-9ccb-6094a621f1e5",
   "metadata": {
    "tags": []
   },
   "outputs": [
    {
     "data": {
      "text/plain": [
       "[2, 3, 4]"
      ]
     },
     "execution_count": 4,
     "metadata": {},
     "output_type": "execute_result"
    }
   ],
   "source": [
    "b"
   ]
  },
  {
   "cell_type": "code",
   "execution_count": 5,
   "id": "3d786bcf-3e88-4262-b06c-3593ecad38b7",
   "metadata": {
    "tags": []
   },
   "outputs": [
    {
     "ename": "SyntaxError",
     "evalue": "two starred expressions in assignment (1847620780.py, line 5)",
     "output_type": "error",
     "traceback": [
      "\u001b[1;36m  File \u001b[1;32m\"C:\\Users\\SAURYA\\AppData\\Local\\Temp\\ipykernel_10800\\1847620780.py\"\u001b[1;36m, line \u001b[1;32m5\u001b[0m\n\u001b[1;31mSyntaxError\u001b[0m\u001b[1;31m:\u001b[0m two starred expressions in assignment\n"
     ]
    }
   ],
   "source": [
    "#also we can't use multiple '*''s \n",
    "a,*b,*c = (1,2,3,4,5)"
   ]
  },
  {
   "cell_type": "code",
   "execution_count": 17,
   "id": "80d0a808-df24-4f7b-a5ba-6d0fdc04b992",
   "metadata": {
    "tags": []
   },
   "outputs": [],
   "source": [
    "t = 1,2,3,4,5"
   ]
  },
  {
   "cell_type": "code",
   "execution_count": 7,
   "id": "44e5b5d3-cd44-4d2b-af6f-354b1f47804e",
   "metadata": {
    "tags": []
   },
   "outputs": [
    {
     "data": {
      "text/plain": [
       "5"
      ]
     },
     "execution_count": 7,
     "metadata": {},
     "output_type": "execute_result"
    }
   ],
   "source": [
    "max(t)"
   ]
  },
  {
   "cell_type": "code",
   "execution_count": 8,
   "id": "297ec96f-ce35-4348-bfcc-108504e252d4",
   "metadata": {
    "tags": []
   },
   "outputs": [
    {
     "data": {
      "text/plain": [
       "1"
      ]
     },
     "execution_count": 8,
     "metadata": {},
     "output_type": "execute_result"
    }
   ],
   "source": [
    "min(t)"
   ]
  },
  {
   "cell_type": "code",
   "execution_count": 9,
   "id": "314891c9-1e92-41ae-ae1b-7ba7b1b72552",
   "metadata": {
    "tags": []
   },
   "outputs": [
    {
     "data": {
      "text/plain": [
       "15"
      ]
     },
     "execution_count": 9,
     "metadata": {},
     "output_type": "execute_result"
    }
   ],
   "source": [
    "sum(t)"
   ]
  },
  {
   "cell_type": "code",
   "execution_count": 10,
   "id": "9550d72f-13c6-4145-b838-5cccc9cc6811",
   "metadata": {
    "tags": []
   },
   "outputs": [
    {
     "ename": "AttributeError",
     "evalue": "'tuple' object has no attribute 'append'",
     "output_type": "error",
     "traceback": [
      "\u001b[1;31m---------------------------------------------------------------------------\u001b[0m",
      "\u001b[1;31mAttributeError\u001b[0m                            Traceback (most recent call last)",
      "\u001b[1;32m~\\AppData\\Local\\Temp\\ipykernel_10800\\3848969903.py\u001b[0m in \u001b[0;36m<module>\u001b[1;34m\u001b[0m\n\u001b[1;32m----> 1\u001b[1;33m \u001b[0mt\u001b[0m\u001b[1;33m.\u001b[0m\u001b[0mappend\u001b[0m\u001b[1;33m(\u001b[0m\u001b[1;36m6\u001b[0m\u001b[1;33m)\u001b[0m\u001b[1;33m\u001b[0m\u001b[1;33m\u001b[0m\u001b[0m\n\u001b[0m",
      "\u001b[1;31mAttributeError\u001b[0m: 'tuple' object has no attribute 'append'"
     ]
    }
   ],
   "source": [
    "t.append(6)"
   ]
  },
  {
   "cell_type": "code",
   "execution_count": 11,
   "id": "b11208e3-c1db-4a03-ad97-d5c88b8a8dd9",
   "metadata": {
    "tags": []
   },
   "outputs": [
    {
     "ename": "AttributeError",
     "evalue": "'tuple' object has no attribute 'extend'",
     "output_type": "error",
     "traceback": [
      "\u001b[1;31m---------------------------------------------------------------------------\u001b[0m",
      "\u001b[1;31mAttributeError\u001b[0m                            Traceback (most recent call last)",
      "\u001b[1;32m~\\AppData\\Local\\Temp\\ipykernel_10800\\81701470.py\u001b[0m in \u001b[0;36m<module>\u001b[1;34m\u001b[0m\n\u001b[1;32m----> 1\u001b[1;33m \u001b[0mt\u001b[0m\u001b[1;33m.\u001b[0m\u001b[0mextend\u001b[0m\u001b[1;33m(\u001b[0m\u001b[1;33m(\u001b[0m\u001b[1;36m6\u001b[0m\u001b[1;33m,\u001b[0m\u001b[1;36m7\u001b[0m\u001b[1;33m,\u001b[0m\u001b[1;36m8\u001b[0m\u001b[1;33m)\u001b[0m\u001b[1;33m)\u001b[0m\u001b[1;33m\u001b[0m\u001b[1;33m\u001b[0m\u001b[0m\n\u001b[0m",
      "\u001b[1;31mAttributeError\u001b[0m: 'tuple' object has no attribute 'extend'"
     ]
    }
   ],
   "source": [
    "t.extend((6,7,8))"
   ]
  },
  {
   "cell_type": "code",
   "execution_count": 12,
   "id": "11c32a06-d180-4ea0-b868-390b22ced5c6",
   "metadata": {
    "tags": []
   },
   "outputs": [
    {
     "ename": "AttributeError",
     "evalue": "'tuple' object has no attribute 'remove'",
     "output_type": "error",
     "traceback": [
      "\u001b[1;31m---------------------------------------------------------------------------\u001b[0m",
      "\u001b[1;31mAttributeError\u001b[0m                            Traceback (most recent call last)",
      "\u001b[1;32m~\\AppData\\Local\\Temp\\ipykernel_10800\\3049272562.py\u001b[0m in \u001b[0;36m<module>\u001b[1;34m\u001b[0m\n\u001b[1;32m----> 1\u001b[1;33m \u001b[0mt\u001b[0m\u001b[1;33m.\u001b[0m\u001b[0mremove\u001b[0m\u001b[1;33m(\u001b[0m\u001b[1;36m3\u001b[0m\u001b[1;33m)\u001b[0m\u001b[1;33m\u001b[0m\u001b[1;33m\u001b[0m\u001b[0m\n\u001b[0m",
      "\u001b[1;31mAttributeError\u001b[0m: 'tuple' object has no attribute 'remove'"
     ]
    }
   ],
   "source": [
    "t.remove(3)"
   ]
  },
  {
   "cell_type": "code",
   "execution_count": 13,
   "id": "bb242db0-e077-4462-815a-4465c6726b68",
   "metadata": {
    "tags": []
   },
   "outputs": [
    {
     "ename": "AttributeError",
     "evalue": "'tuple' object has no attribute 'pop'",
     "output_type": "error",
     "traceback": [
      "\u001b[1;31m---------------------------------------------------------------------------\u001b[0m",
      "\u001b[1;31mAttributeError\u001b[0m                            Traceback (most recent call last)",
      "\u001b[1;32m~\\AppData\\Local\\Temp\\ipykernel_10800\\478543074.py\u001b[0m in \u001b[0;36m<module>\u001b[1;34m\u001b[0m\n\u001b[1;32m----> 1\u001b[1;33m \u001b[0mt\u001b[0m\u001b[1;33m.\u001b[0m\u001b[0mpop\u001b[0m\u001b[1;33m(\u001b[0m\u001b[1;33m)\u001b[0m\u001b[1;33m\u001b[0m\u001b[1;33m\u001b[0m\u001b[0m\n\u001b[0m",
      "\u001b[1;31mAttributeError\u001b[0m: 'tuple' object has no attribute 'pop'"
     ]
    }
   ],
   "source": [
    "t.pop()"
   ]
  },
  {
   "cell_type": "code",
   "execution_count": 14,
   "id": "b2300e6a-736d-4839-a3aa-dfbe7586b41f",
   "metadata": {
    "tags": []
   },
   "outputs": [
    {
     "ename": "TypeError",
     "evalue": "'tuple' object doesn't support item deletion",
     "output_type": "error",
     "traceback": [
      "\u001b[1;31m---------------------------------------------------------------------------\u001b[0m",
      "\u001b[1;31mTypeError\u001b[0m                                 Traceback (most recent call last)",
      "\u001b[1;32m~\\AppData\\Local\\Temp\\ipykernel_10800\\3430130672.py\u001b[0m in \u001b[0;36m<module>\u001b[1;34m\u001b[0m\n\u001b[1;32m----> 1\u001b[1;33m \u001b[1;32mdel\u001b[0m \u001b[0mt\u001b[0m\u001b[1;33m[\u001b[0m\u001b[1;36m2\u001b[0m\u001b[1;33m]\u001b[0m\u001b[1;33m\u001b[0m\u001b[1;33m\u001b[0m\u001b[0m\n\u001b[0m",
      "\u001b[1;31mTypeError\u001b[0m: 'tuple' object doesn't support item deletion"
     ]
    }
   ],
   "source": [
    "del t[2]"
   ]
  },
  {
   "cell_type": "code",
   "execution_count": 15,
   "id": "6a5c54f9-c3e9-4669-8299-3cc1abe522a5",
   "metadata": {
    "tags": []
   },
   "outputs": [
    {
     "ename": "AttributeError",
     "evalue": "'tuple' object has no attribute 'insert'",
     "output_type": "error",
     "traceback": [
      "\u001b[1;31m---------------------------------------------------------------------------\u001b[0m",
      "\u001b[1;31mAttributeError\u001b[0m                            Traceback (most recent call last)",
      "\u001b[1;32m~\\AppData\\Local\\Temp\\ipykernel_10800\\1316212010.py\u001b[0m in \u001b[0;36m<module>\u001b[1;34m\u001b[0m\n\u001b[1;32m----> 1\u001b[1;33m \u001b[0mt\u001b[0m\u001b[1;33m.\u001b[0m\u001b[0minsert\u001b[0m\u001b[1;33m(\u001b[0m\u001b[1;36m2\u001b[0m\u001b[1;33m,\u001b[0m\u001b[1;36m10\u001b[0m\u001b[1;33m)\u001b[0m\u001b[1;33m\u001b[0m\u001b[1;33m\u001b[0m\u001b[0m\n\u001b[0m",
      "\u001b[1;31mAttributeError\u001b[0m: 'tuple' object has no attribute 'insert'"
     ]
    }
   ],
   "source": [
    "t.insert(2,10)"
   ]
  },
  {
   "cell_type": "markdown",
   "id": "056cef65-4e38-450e-9551-effb2acf38e5",
   "metadata": {},
   "source": [
    "These all functions don't work on a tuple as tuple is an immutable datatype which means once we have assigned a value to the tuple we can't change it "
   ]
  },
  {
   "cell_type": "markdown",
   "id": "3a417642-7f04-4239-ad9b-38b7e2011531",
   "metadata": {
    "jp-MarkdownHeadingCollapsed": true,
    "tags": []
   },
   "source": [
    "# Sets\n",
    "1. It is unorderred\n",
    "2. it is mutable\n",
    "3. contains only unique elements\n",
    "4. the elements in it should be immutable"
   ]
  },
  {
   "cell_type": "code",
   "execution_count": 20,
   "id": "3c78086f-9f00-484c-ba3e-0879457349ca",
   "metadata": {
    "tags": []
   },
   "outputs": [
    {
     "data": {
      "text/plain": [
       "set"
      ]
     },
     "execution_count": 20,
     "metadata": {},
     "output_type": "execute_result"
    }
   ],
   "source": [
    "# to create an empty set\n",
    "s = set()\n",
    "type(s)"
   ]
  },
  {
   "cell_type": "code",
   "execution_count": 2,
   "id": "43555cba-793e-4a19-9624-08066ddf24aa",
   "metadata": {
    "tags": []
   },
   "outputs": [],
   "source": [
    "s = {1,2,3}"
   ]
  },
  {
   "cell_type": "code",
   "execution_count": 4,
   "id": "88641438-0a22-4e05-802b-abc9e71bd1f8",
   "metadata": {},
   "outputs": [
    {
     "ename": "TypeError",
     "evalue": "'set' object is not subscriptable",
     "output_type": "error",
     "traceback": [
      "\u001b[1;31m---------------------------------------------------------------------------\u001b[0m",
      "\u001b[1;31mTypeError\u001b[0m                                 Traceback (most recent call last)",
      "\u001b[1;32m~\\AppData\\Local\\Temp\\ipykernel_7292\\3553571476.py\u001b[0m in \u001b[0;36m<module>\u001b[1;34m\u001b[0m\n\u001b[1;32m----> 1\u001b[1;33m \u001b[0ms\u001b[0m\u001b[1;33m[\u001b[0m\u001b[1;36m1\u001b[0m\u001b[1;33m]\u001b[0m \u001b[1;31m#as set is unordered it doesn't support indexs\u001b[0m\u001b[1;33m\u001b[0m\u001b[1;33m\u001b[0m\u001b[0m\n\u001b[0m",
      "\u001b[1;31mTypeError\u001b[0m: 'set' object is not subscriptable"
     ]
    }
   ],
   "source": [
    "s[1] #as set is unordered it doesn't support indexs"
   ]
  },
  {
   "cell_type": "code",
   "execution_count": 5,
   "id": "0a624125-9f04-4ccf-ab0d-b6898c5cf787",
   "metadata": {
    "tags": []
   },
   "outputs": [],
   "source": [
    "s.add(4) #to add an element"
   ]
  },
  {
   "cell_type": "code",
   "execution_count": 6,
   "id": "497d569b-074a-499b-bfea-ce331fb56098",
   "metadata": {
    "tags": []
   },
   "outputs": [
    {
     "data": {
      "text/plain": [
       "{1, 2, 3, 4}"
      ]
     },
     "execution_count": 6,
     "metadata": {},
     "output_type": "execute_result"
    }
   ],
   "source": [
    "s"
   ]
  },
  {
   "cell_type": "code",
   "execution_count": 8,
   "id": "191c7380-acfc-4333-ba7a-356586e93672",
   "metadata": {
    "tags": []
   },
   "outputs": [
    {
     "data": {
      "text/plain": [
       "{1, 2, 3, 4}"
      ]
     },
     "execution_count": 8,
     "metadata": {},
     "output_type": "execute_result"
    }
   ],
   "source": [
    "s.add(2)\n",
    "s"
   ]
  },
  {
   "cell_type": "code",
   "execution_count": 9,
   "id": "287f81f3-af71-4bf4-9a3e-624351ba1c4e",
   "metadata": {
    "tags": []
   },
   "outputs": [
    {
     "data": {
      "text/plain": [
       "{2, 3, 4}"
      ]
     },
     "execution_count": 9,
     "metadata": {},
     "output_type": "execute_result"
    }
   ],
   "source": [
    "s.pop()\n",
    "s"
   ]
  },
  {
   "cell_type": "code",
   "execution_count": 10,
   "id": "373b6594-7484-412c-877a-240a0bbff889",
   "metadata": {
    "tags": []
   },
   "outputs": [],
   "source": [
    "s.discard(4) #to delete an particular element"
   ]
  },
  {
   "cell_type": "code",
   "execution_count": 13,
   "id": "4b6b0e55-a740-4cff-990b-a4e3fcfc207a",
   "metadata": {
    "tags": []
   },
   "outputs": [
    {
     "data": {
      "text/plain": [
       "{2, 3}"
      ]
     },
     "execution_count": 13,
     "metadata": {},
     "output_type": "execute_result"
    }
   ],
   "source": [
    "s.discard(50) #it won't show an error even if the element is not in the set\n",
    "s"
   ]
  },
  {
   "cell_type": "code",
   "execution_count": 14,
   "id": "c69debe1-41d9-4d6b-9993-b7c5af55c8a6",
   "metadata": {
    "tags": []
   },
   "outputs": [],
   "source": [
    "s.clear() #to clear all the elements"
   ]
  },
  {
   "cell_type": "code",
   "execution_count": 15,
   "id": "8f080dbd-a113-40b5-b6ce-62b829f9c3db",
   "metadata": {
    "tags": []
   },
   "outputs": [
    {
     "data": {
      "text/plain": [
       "set()"
      ]
     },
     "execution_count": 15,
     "metadata": {},
     "output_type": "execute_result"
    }
   ],
   "source": [
    "s"
   ]
  },
  {
   "cell_type": "code",
   "execution_count": 16,
   "id": "988d7259-a49c-4f6b-b49e-86d6a3719f75",
   "metadata": {
    "tags": []
   },
   "outputs": [],
   "source": [
    "s = {1, 2, 3, 4}"
   ]
  },
  {
   "cell_type": "code",
   "execution_count": 17,
   "id": "30e3e7a3-f690-4ad1-a6ae-026480d31301",
   "metadata": {
    "tags": []
   },
   "outputs": [],
   "source": [
    "s1 = {1, 2, 3, 4, 5}\n",
    "s2 = {4, 5, 6, 7, 8}"
   ]
  },
  {
   "cell_type": "markdown",
   "id": "16a74550-e0f3-4c31-8d76-e2f4da63d0cb",
   "metadata": {
    "jp-MarkdownHeadingCollapsed": true,
    "tags": []
   },
   "source": [
    "# UNION\n",
    "It is used to add both the sets"
   ]
  },
  {
   "cell_type": "code",
   "execution_count": 18,
   "id": "62e68fa1-db04-4b0e-b78f-54a549bc5417",
   "metadata": {
    "tags": []
   },
   "outputs": [
    {
     "data": {
      "text/plain": [
       "{1, 2, 3, 4, 5, 6, 7, 8}"
      ]
     },
     "execution_count": 18,
     "metadata": {},
     "output_type": "execute_result"
    }
   ],
   "source": [
    "s1 | s2"
   ]
  },
  {
   "cell_type": "code",
   "execution_count": 20,
   "id": "400cf092-b12c-45b7-bd69-529e269ccb47",
   "metadata": {
    "tags": []
   },
   "outputs": [
    {
     "data": {
      "text/plain": [
       "{1, 2, 3, 4, 5, 6, 7, 8}"
      ]
     },
     "execution_count": 20,
     "metadata": {},
     "output_type": "execute_result"
    }
   ],
   "source": [
    "s1.union(s2) # can be stored in another variable"
   ]
  },
  {
   "cell_type": "markdown",
   "id": "7d396279-818c-47c5-992b-6dabc5ae6b01",
   "metadata": {
    "jp-MarkdownHeadingCollapsed": true,
    "tags": []
   },
   "source": [
    "# Intersection \n",
    "It is used to find the common elements between both the sets"
   ]
  },
  {
   "cell_type": "code",
   "execution_count": 21,
   "id": "15163bc9-1f16-4f54-8da8-596cc4c3e311",
   "metadata": {
    "tags": []
   },
   "outputs": [
    {
     "data": {
      "text/plain": [
       "{4, 5}"
      ]
     },
     "execution_count": 21,
     "metadata": {},
     "output_type": "execute_result"
    }
   ],
   "source": [
    "s1 & s2"
   ]
  },
  {
   "cell_type": "code",
   "execution_count": 22,
   "id": "a75b023e-002f-4cc1-89ca-fa42bbb015c2",
   "metadata": {
    "tags": []
   },
   "outputs": [
    {
     "data": {
      "text/plain": [
       "{4, 5}"
      ]
     },
     "execution_count": 22,
     "metadata": {},
     "output_type": "execute_result"
    }
   ],
   "source": [
    "s1.intersection(s2)"
   ]
  },
  {
   "cell_type": "markdown",
   "id": "1e1c2281-0803-4eb6-ac42-01b56fc2a58d",
   "metadata": {
    "jp-MarkdownHeadingCollapsed": true,
    "tags": []
   },
   "source": [
    "# Difference\n",
    "It will return the elements of the first set except the ones which are common between both sets"
   ]
  },
  {
   "cell_type": "code",
   "execution_count": 23,
   "id": "0c951458-0da6-4f9a-a062-1f2d0795b5ec",
   "metadata": {
    "tags": []
   },
   "outputs": [
    {
     "data": {
      "text/plain": [
       "{1, 2, 3}"
      ]
     },
     "execution_count": 23,
     "metadata": {},
     "output_type": "execute_result"
    }
   ],
   "source": [
    "s1 - s2"
   ]
  },
  {
   "cell_type": "code",
   "execution_count": 24,
   "id": "687c4b61-5f85-496e-8288-f816a0240fd5",
   "metadata": {
    "tags": []
   },
   "outputs": [
    {
     "data": {
      "text/plain": [
       "{6, 7, 8}"
      ]
     },
     "execution_count": 24,
     "metadata": {},
     "output_type": "execute_result"
    }
   ],
   "source": [
    "s2 - s1"
   ]
  },
  {
   "cell_type": "code",
   "execution_count": 25,
   "id": "5b53f37d-19a1-481b-818e-3551fbd3758a",
   "metadata": {
    "tags": []
   },
   "outputs": [
    {
     "data": {
      "text/plain": [
       "{1, 2, 3}"
      ]
     },
     "execution_count": 25,
     "metadata": {},
     "output_type": "execute_result"
    }
   ],
   "source": [
    "s1.difference(s2)"
   ]
  },
  {
   "cell_type": "code",
   "execution_count": 27,
   "id": "7fcd70e9-7c9a-40a8-9c80-667b3b19962c",
   "metadata": {
    "tags": []
   },
   "outputs": [
    {
     "data": {
      "text/plain": [
       "{6, 7, 8}"
      ]
     },
     "execution_count": 27,
     "metadata": {},
     "output_type": "execute_result"
    }
   ],
   "source": [
    "s2.difference(s1)"
   ]
  },
  {
   "cell_type": "markdown",
   "id": "3fd6a304-132f-42ae-979d-bf2500f0ed99",
   "metadata": {
    "jp-MarkdownHeadingCollapsed": true,
    "tags": []
   },
   "source": [
    "# Symmetric Difference\n",
    "It will return all elements except the common elements"
   ]
  },
  {
   "cell_type": "code",
   "execution_count": 29,
   "id": "30911946-591c-4999-8a2d-d1807425c698",
   "metadata": {
    "tags": []
   },
   "outputs": [
    {
     "data": {
      "text/plain": [
       "{1, 2, 3, 6, 7, 8}"
      ]
     },
     "execution_count": 29,
     "metadata": {},
     "output_type": "execute_result"
    }
   ],
   "source": [
    "s1 ^ s2"
   ]
  },
  {
   "cell_type": "code",
   "execution_count": 30,
   "id": "5c7ca279-1deb-4b8f-aa8b-e7eee1f14bb9",
   "metadata": {
    "tags": []
   },
   "outputs": [
    {
     "data": {
      "text/plain": [
       "{1, 2, 3, 6, 7, 8}"
      ]
     },
     "execution_count": 30,
     "metadata": {},
     "output_type": "execute_result"
    }
   ],
   "source": [
    "s1.symmetric_difference(s2)"
   ]
  },
  {
   "cell_type": "markdown",
   "id": "69ed1307-e58f-4532-9999-210a8fcab9b3",
   "metadata": {
    "jp-MarkdownHeadingCollapsed": true,
    "tags": []
   },
   "source": [
    "# Super Set, Sub Set and Disjoint set"
   ]
  },
  {
   "cell_type": "code",
   "execution_count": 31,
   "id": "1756a83b-54df-4e66-9e20-53258cd7f884",
   "metadata": {
    "tags": []
   },
   "outputs": [],
   "source": [
    "s = {1,2,3,4,5,6,7,8,9,10}\n",
    "s1 = {1,2,3,4,5}\n",
    "s2 = {6,7,8,9,10}"
   ]
  },
  {
   "cell_type": "code",
   "execution_count": 33,
   "id": "44165404-3ac9-4825-9e18-85dc14d3bf59",
   "metadata": {
    "tags": []
   },
   "outputs": [
    {
     "data": {
      "text/plain": [
       "True"
      ]
     },
     "execution_count": 33,
     "metadata": {},
     "output_type": "execute_result"
    }
   ],
   "source": [
    "s1.issubset(s) # subset means that, that set is contained within another set"
   ]
  },
  {
   "cell_type": "code",
   "execution_count": 35,
   "id": "d02d4f9f-c7da-4813-bd36-3a055b9309c2",
   "metadata": {
    "tags": []
   },
   "outputs": [
    {
     "data": {
      "text/plain": [
       "True"
      ]
     },
     "execution_count": 35,
     "metadata": {},
     "output_type": "execute_result"
    }
   ],
   "source": [
    "s.issuperset(s1) # super set means that, that set contains some other smaller set"
   ]
  },
  {
   "cell_type": "code",
   "execution_count": 37,
   "id": "e6ea91eb-0499-4df7-b7e0-4a4dde20408b",
   "metadata": {
    "tags": []
   },
   "outputs": [
    {
     "data": {
      "text/plain": [
       "True"
      ]
     },
     "execution_count": 37,
     "metadata": {},
     "output_type": "execute_result"
    }
   ],
   "source": [
    "s1.isdisjoint(s2) # disjoint sets means the two sets have no common values"
   ]
  },
  {
   "cell_type": "code",
   "execution_count": 42,
   "id": "5a51ccf5-7b66-4c8c-8e8b-153a2fe03db5",
   "metadata": {
    "tags": []
   },
   "outputs": [
    {
     "data": {
      "text/plain": [
       "False"
      ]
     },
     "execution_count": 42,
     "metadata": {},
     "output_type": "execute_result"
    }
   ],
   "source": [
    "s.isdisjoint(s1)"
   ]
  },
  {
   "cell_type": "markdown",
   "id": "abe51592-aa9f-497d-9ff9-7f5893bc2d71",
   "metadata": {
    "jp-MarkdownHeadingCollapsed": true,
    "tags": []
   },
   "source": [
    "# Set comprehension"
   ]
  },
  {
   "cell_type": "code",
   "execution_count": 38,
   "id": "f4b5d7d1-08bc-463a-aa2b-a61de8f641e5",
   "metadata": {
    "tags": []
   },
   "outputs": [
    {
     "data": {
      "text/plain": [
       "{1, 2, 3, 4, 5, 6, 7, 8, 9, 10}"
      ]
     },
     "execution_count": 38,
     "metadata": {},
     "output_type": "execute_result"
    }
   ],
   "source": [
    "{i for i in range(1,11)}"
   ]
  },
  {
   "cell_type": "code",
   "execution_count": 45,
   "id": "8d1f36be-5b2f-4347-96bd-df87befef6ff",
   "metadata": {
    "tags": []
   },
   "outputs": [
    {
     "data": {
      "text/plain": [
       "{1, 4, 9, 16, 25, 36, 49, 64, 81, 100}"
      ]
     },
     "execution_count": 45,
     "metadata": {},
     "output_type": "execute_result"
    }
   ],
   "source": [
    "{i ** 2 for i in range(1,11)}"
   ]
  },
  {
   "cell_type": "markdown",
   "id": "ad1c014e-d956-4135-83d1-7ec496d4303a",
   "metadata": {
    "jp-MarkdownHeadingCollapsed": true,
    "tags": []
   },
   "source": [
    "# Frozenset"
   ]
  },
  {
   "cell_type": "code",
   "execution_count": 1,
   "id": "93dc461e-9bd9-4300-a595-72edea92169d",
   "metadata": {},
   "outputs": [],
   "source": [
    "fs = frozenset([1,2,3,4,5,6,7,8,9])"
   ]
  },
  {
   "cell_type": "code",
   "execution_count": 2,
   "id": "88afd4ee-f6de-42be-82ea-416804a7e562",
   "metadata": {
    "tags": []
   },
   "outputs": [
    {
     "ename": "AttributeError",
     "evalue": "'frozenset' object has no attribute 'add'",
     "output_type": "error",
     "traceback": [
      "\u001b[1;31m---------------------------------------------------------------------------\u001b[0m",
      "\u001b[1;31mAttributeError\u001b[0m                            Traceback (most recent call last)",
      "\u001b[1;32m~\\AppData\\Local\\Temp\\ipykernel_11480\\1150403617.py\u001b[0m in \u001b[0;36m<module>\u001b[1;34m\u001b[0m\n\u001b[1;32m----> 1\u001b[1;33m \u001b[0mfs\u001b[0m\u001b[1;33m.\u001b[0m\u001b[0madd\u001b[0m\u001b[1;33m(\u001b[0m\u001b[1;36m10\u001b[0m\u001b[1;33m)\u001b[0m\u001b[1;33m\u001b[0m\u001b[1;33m\u001b[0m\u001b[0m\n\u001b[0m",
      "\u001b[1;31mAttributeError\u001b[0m: 'frozenset' object has no attribute 'add'"
     ]
    }
   ],
   "source": [
    "fs.add(10)"
   ]
  },
  {
   "cell_type": "code",
   "execution_count": 3,
   "id": "663fee12-7e54-4dff-8624-a6ccf563e83c",
   "metadata": {
    "tags": []
   },
   "outputs": [
    {
     "ename": "AttributeError",
     "evalue": "'frozenset' object has no attribute 'pop'",
     "output_type": "error",
     "traceback": [
      "\u001b[1;31m---------------------------------------------------------------------------\u001b[0m",
      "\u001b[1;31mAttributeError\u001b[0m                            Traceback (most recent call last)",
      "\u001b[1;32m~\\AppData\\Local\\Temp\\ipykernel_11480\\2791026760.py\u001b[0m in \u001b[0;36m<module>\u001b[1;34m\u001b[0m\n\u001b[1;32m----> 1\u001b[1;33m \u001b[0mfs\u001b[0m\u001b[1;33m.\u001b[0m\u001b[0mpop\u001b[0m\u001b[1;33m(\u001b[0m\u001b[1;33m)\u001b[0m\u001b[1;33m\u001b[0m\u001b[1;33m\u001b[0m\u001b[0m\n\u001b[0m",
      "\u001b[1;31mAttributeError\u001b[0m: 'frozenset' object has no attribute 'pop'"
     ]
    }
   ],
   "source": [
    "fs.pop()"
   ]
  },
  {
   "cell_type": "code",
   "execution_count": 4,
   "id": "baa2eee4-1467-4453-ae6b-91e9111b00bf",
   "metadata": {
    "tags": []
   },
   "outputs": [
    {
     "ename": "AttributeError",
     "evalue": "'frozenset' object has no attribute 'discard'",
     "output_type": "error",
     "traceback": [
      "\u001b[1;31m---------------------------------------------------------------------------\u001b[0m",
      "\u001b[1;31mAttributeError\u001b[0m                            Traceback (most recent call last)",
      "\u001b[1;32m~\\AppData\\Local\\Temp\\ipykernel_11480\\2707167106.py\u001b[0m in \u001b[0;36m<module>\u001b[1;34m\u001b[0m\n\u001b[1;32m----> 1\u001b[1;33m \u001b[0mfs\u001b[0m\u001b[1;33m.\u001b[0m\u001b[0mdiscard\u001b[0m\u001b[1;33m(\u001b[0m\u001b[1;36m7\u001b[0m\u001b[1;33m)\u001b[0m\u001b[1;33m\u001b[0m\u001b[1;33m\u001b[0m\u001b[0m\n\u001b[0m",
      "\u001b[1;31mAttributeError\u001b[0m: 'frozenset' object has no attribute 'discard'"
     ]
    }
   ],
   "source": [
    "fs.discard(7)"
   ]
  },
  {
   "cell_type": "code",
   "execution_count": 5,
   "id": "aa755900-b215-4dc4-b311-e51ff34f687a",
   "metadata": {
    "tags": []
   },
   "outputs": [
    {
     "ename": "AttributeError",
     "evalue": "'frozenset' object has no attribute 'clear'",
     "output_type": "error",
     "traceback": [
      "\u001b[1;31m---------------------------------------------------------------------------\u001b[0m",
      "\u001b[1;31mAttributeError\u001b[0m                            Traceback (most recent call last)",
      "\u001b[1;32m~\\AppData\\Local\\Temp\\ipykernel_11480\\3416230350.py\u001b[0m in \u001b[0;36m<module>\u001b[1;34m\u001b[0m\n\u001b[1;32m----> 1\u001b[1;33m \u001b[0mfs\u001b[0m\u001b[1;33m.\u001b[0m\u001b[0mclear\u001b[0m\u001b[1;33m(\u001b[0m\u001b[1;33m)\u001b[0m\u001b[1;33m\u001b[0m\u001b[1;33m\u001b[0m\u001b[0m\n\u001b[0m",
      "\u001b[1;31mAttributeError\u001b[0m: 'frozenset' object has no attribute 'clear'"
     ]
    }
   ],
   "source": [
    "fs.clear()"
   ]
  },
  {
   "cell_type": "markdown",
   "id": "7f84b624-d76c-48e5-a6d0-b4fafa3363e1",
   "metadata": {},
   "source": [
    "These all methods don't work on a frozenset as once it's value it defined we can't not change it "
   ]
  },
  {
   "cell_type": "code",
   "execution_count": 9,
   "id": "44c5723d-3fe4-44b7-ada8-d0025b26c3ad",
   "metadata": {
    "tags": []
   },
   "outputs": [],
   "source": [
    "fs1 = frozenset([1,2,3,4,5])\n",
    "fs2 = frozenset([4,5,6,7,8])"
   ]
  },
  {
   "cell_type": "code",
   "execution_count": 10,
   "id": "df73aabb-53ed-4fcb-87e8-50a6f5fecf59",
   "metadata": {
    "tags": []
   },
   "outputs": [
    {
     "data": {
      "text/plain": [
       "frozenset({1, 2, 3, 4, 5, 6, 7, 8})"
      ]
     },
     "execution_count": 10,
     "metadata": {},
     "output_type": "execute_result"
    }
   ],
   "source": [
    "fs1.union(fs2)"
   ]
  },
  {
   "cell_type": "code",
   "execution_count": 11,
   "id": "31a64f03-4938-4a7e-a5aa-90f05706018e",
   "metadata": {
    "tags": []
   },
   "outputs": [
    {
     "data": {
      "text/plain": [
       "frozenset({4, 5})"
      ]
     },
     "execution_count": 11,
     "metadata": {},
     "output_type": "execute_result"
    }
   ],
   "source": [
    "fs1.intersection(fs2)"
   ]
  },
  {
   "cell_type": "code",
   "execution_count": 12,
   "id": "3eac5c1e-887c-4857-b69b-2ac9215fad9b",
   "metadata": {
    "tags": []
   },
   "outputs": [
    {
     "data": {
      "text/plain": [
       "frozenset({1, 2, 3})"
      ]
     },
     "execution_count": 12,
     "metadata": {},
     "output_type": "execute_result"
    }
   ],
   "source": [
    "fs1.difference(fs2)"
   ]
  },
  {
   "cell_type": "code",
   "execution_count": 13,
   "id": "dca258d0-2169-455b-8d9d-78431a5141eb",
   "metadata": {
    "tags": []
   },
   "outputs": [
    {
     "data": {
      "text/plain": [
       "frozenset({6, 7, 8})"
      ]
     },
     "execution_count": 13,
     "metadata": {},
     "output_type": "execute_result"
    }
   ],
   "source": [
    "fs2.difference(fs1)"
   ]
  },
  {
   "cell_type": "code",
   "execution_count": 14,
   "id": "116d37d9-f097-4e51-82eb-de9f900132e4",
   "metadata": {
    "tags": []
   },
   "outputs": [
    {
     "data": {
      "text/plain": [
       "frozenset({1, 2, 3, 6, 7, 8})"
      ]
     },
     "execution_count": 14,
     "metadata": {},
     "output_type": "execute_result"
    }
   ],
   "source": [
    "fs1.symmetric_difference(fs2)"
   ]
  },
  {
   "cell_type": "code",
   "execution_count": 15,
   "id": "041c79fb-548d-4351-be54-132b7902b609",
   "metadata": {
    "tags": []
   },
   "outputs": [],
   "source": [
    "fs = frozenset([1,2,3,4,5,6,7,8,9,10])\n",
    "fs1 = frozenset([1,2,3,4,5])\n",
    "fs2 = frozenset([6,7,8,9,10])"
   ]
  },
  {
   "cell_type": "code",
   "execution_count": 16,
   "id": "7304d6e6-7cdf-4a05-9b68-4acc2c04e9c4",
   "metadata": {
    "tags": []
   },
   "outputs": [
    {
     "data": {
      "text/plain": [
       "True"
      ]
     },
     "execution_count": 16,
     "metadata": {},
     "output_type": "execute_result"
    }
   ],
   "source": [
    "fs1.issubset(fs)"
   ]
  },
  {
   "cell_type": "code",
   "execution_count": 19,
   "id": "da00427a-ce1f-4a85-84f4-36f675ec4291",
   "metadata": {
    "tags": []
   },
   "outputs": [
    {
     "data": {
      "text/plain": [
       "True"
      ]
     },
     "execution_count": 19,
     "metadata": {},
     "output_type": "execute_result"
    }
   ],
   "source": [
    "fs.issuperset(fs2)"
   ]
  },
  {
   "cell_type": "code",
   "execution_count": 18,
   "id": "88ecb723-b8cb-4b73-b515-ab5c5d6d4bf8",
   "metadata": {
    "tags": []
   },
   "outputs": [
    {
     "data": {
      "text/plain": [
       "True"
      ]
     },
     "execution_count": 18,
     "metadata": {},
     "output_type": "execute_result"
    }
   ],
   "source": [
    "fs1.isdisjoint(fs2)"
   ]
  },
  {
   "cell_type": "markdown",
   "id": "8f7dc814-4b41-461c-9ca5-e6cb09f2d247",
   "metadata": {
    "jp-MarkdownHeadingCollapsed": true,
    "tags": []
   },
   "source": [
    "# Dictionaries"
   ]
  },
  {
   "cell_type": "code",
   "execution_count": 2,
   "id": "e11e2cba-bb14-49bb-a1d0-704bbb475f73",
   "metadata": {},
   "outputs": [
    {
     "name": "stdout",
     "output_type": "stream",
     "text": [
      "<class 'dict'> {}\n"
     ]
    }
   ],
   "source": [
    "#to create an empty dictionary\n",
    "d = {}\n",
    "print(type(d), d)"
   ]
  },
  {
   "cell_type": "code",
   "execution_count": 3,
   "id": "0166511a-f15d-478d-9a84-aa9774fc5f29",
   "metadata": {
    "tags": []
   },
   "outputs": [
    {
     "data": {
      "text/plain": [
       "{'name': 'Saurya', 'age': 18, 'gender': 'male'}"
      ]
     },
     "execution_count": 3,
     "metadata": {},
     "output_type": "execute_result"
    }
   ],
   "source": [
    "#to create a dictionary\n",
    "d = {'name': 'Saurya', 'age': 18, 'gender': 'male'}\n",
    "d"
   ]
  },
  {
   "cell_type": "markdown",
   "id": "b3e72a67-5599-4b50-8d9c-fe1be93fb7a7",
   "metadata": {},
   "source": [
    "It is stored in a pair of keys and values separated by ':' "
   ]
  },
  {
   "cell_type": "markdown",
   "id": "0307bbe3-cdc4-4985-96e3-8f6de3ca3cc9",
   "metadata": {
    "tags": []
   },
   "source": [
    "The values can be anything but the keys can only be of immutable datatype"
   ]
  },
  {
   "cell_type": "code",
   "execution_count": 5,
   "id": "e56f8a4f-f929-473f-8d02-49bc1b76b329",
   "metadata": {
    "tags": []
   },
   "outputs": [
    {
     "ename": "TypeError",
     "evalue": "unhashable type: 'list'",
     "output_type": "error",
     "traceback": [
      "\u001b[1;31m---------------------------------------------------------------------------\u001b[0m",
      "\u001b[1;31mTypeError\u001b[0m                                 Traceback (most recent call last)",
      "\u001b[1;32m~\\AppData\\Local\\Temp\\ipykernel_4504\\1417502149.py\u001b[0m in \u001b[0;36m<module>\u001b[1;34m\u001b[0m\n\u001b[1;32m----> 1\u001b[1;33m \u001b[0md1\u001b[0m \u001b[1;33m=\u001b[0m \u001b[1;33m{\u001b[0m\u001b[1;33m[\u001b[0m\u001b[1;36m1\u001b[0m\u001b[1;33m,\u001b[0m\u001b[1;36m2\u001b[0m\u001b[1;33m,\u001b[0m\u001b[1;36m3\u001b[0m\u001b[1;33m]\u001b[0m\u001b[1;33m:\u001b[0m\u001b[1;34m'name'\u001b[0m\u001b[1;33m}\u001b[0m\u001b[1;33m\u001b[0m\u001b[1;33m\u001b[0m\u001b[0m\n\u001b[0m",
      "\u001b[1;31mTypeError\u001b[0m: unhashable type: 'list'"
     ]
    }
   ],
   "source": [
    "d1 = {[1,2,3]:'name'}"
   ]
  },
  {
   "cell_type": "code",
   "execution_count": 7,
   "id": "71cf7de6-0ef8-47ec-a050-c866e3bc9262",
   "metadata": {
    "tags": []
   },
   "outputs": [
    {
     "data": {
      "text/plain": [
       "'Saurya'"
      ]
     },
     "execution_count": 7,
     "metadata": {},
     "output_type": "execute_result"
    }
   ],
   "source": [
    "#to access an element\n",
    "d['name'] \n",
    "#dictionaries don't have index so we use the key to access the values"
   ]
  },
  {
   "cell_type": "code",
   "execution_count": 9,
   "id": "53ed1cab-c9e2-4843-a633-00b7bfb52428",
   "metadata": {
    "tags": []
   },
   "outputs": [],
   "source": [
    "#to add a new item\n",
    "d['enrollment_no'] = 120100111120\n",
    "#here he need to provide the key in the '[]' and using '=' assign that key a value"
   ]
  },
  {
   "cell_type": "code",
   "execution_count": 11,
   "id": "86dc2631-afa7-49a7-b36d-b752204bc1a7",
   "metadata": {
    "tags": []
   },
   "outputs": [
    {
     "data": {
      "text/plain": [
       "120100111120"
      ]
     },
     "execution_count": 11,
     "metadata": {},
     "output_type": "execute_result"
    }
   ],
   "source": [
    "#to delete a value - here the agrument is complusory\n",
    "d.pop('enrollment_no')"
   ]
  },
  {
   "cell_type": "code",
   "execution_count": 12,
   "id": "548dde92-57ff-4cbe-9099-020de62fd358",
   "metadata": {
    "tags": []
   },
   "outputs": [
    {
     "data": {
      "text/plain": [
       "('gender', 'male')"
      ]
     },
     "execution_count": 12,
     "metadata": {},
     "output_type": "execute_result"
    }
   ],
   "source": [
    "#to delete the last item\n",
    "d.popitem()"
   ]
  },
  {
   "cell_type": "code",
   "execution_count": 13,
   "id": "f783730c-ed6d-4eda-acfd-f7bec9d63205",
   "metadata": {
    "tags": []
   },
   "outputs": [
    {
     "data": {
      "text/plain": [
       "dict_keys(['name', 'age'])"
      ]
     },
     "execution_count": 13,
     "metadata": {},
     "output_type": "execute_result"
    }
   ],
   "source": [
    "#to get all the keys\n",
    "d.keys()"
   ]
  },
  {
   "cell_type": "code",
   "execution_count": 14,
   "id": "0ccbe6b5-478d-454a-83f7-805f3c2317fa",
   "metadata": {
    "tags": []
   },
   "outputs": [
    {
     "data": {
      "text/plain": [
       "dict_values(['Saurya', 18])"
      ]
     },
     "execution_count": 14,
     "metadata": {},
     "output_type": "execute_result"
    }
   ],
   "source": [
    "#to get all the items\n",
    "d.values()"
   ]
  },
  {
   "cell_type": "code",
   "execution_count": 15,
   "id": "e605f8e9-83e7-406c-b813-d64402c8932a",
   "metadata": {
    "tags": []
   },
   "outputs": [
    {
     "data": {
      "text/plain": [
       "dict_items([('name', 'Saurya'), ('age', 18)])"
      ]
     },
     "execution_count": 15,
     "metadata": {},
     "output_type": "execute_result"
    }
   ],
   "source": [
    "d.items()"
   ]
  },
  {
   "cell_type": "code",
   "execution_count": 16,
   "id": "e44cbe69-d1f2-4243-a035-2b5fdc448232",
   "metadata": {
    "tags": []
   },
   "outputs": [
    {
     "data": {
      "text/plain": [
       "{1: 1, 2: 4, 3: 9, 4: 16, 5: 25, 6: 36, 7: 49, 8: 64, 9: 81, 10: 100}"
      ]
     },
     "execution_count": 16,
     "metadata": {},
     "output_type": "execute_result"
    }
   ],
   "source": [
    "#dictionary comprehension\n",
    "{i : i ** 2 for i in range(1,11)}"
   ]
  },
  {
   "cell_type": "markdown",
   "id": "d290138c-d40d-417e-a036-1c650c693571",
   "metadata": {
    "jp-MarkdownHeadingCollapsed": true,
    "tags": []
   },
   "source": [
    "# Strings"
   ]
  },
  {
   "cell_type": "code",
   "execution_count": 18,
   "id": "657b1f8a-ffc1-4014-b338-85cc953d17b1",
   "metadata": {
    "tags": []
   },
   "outputs": [
    {
     "data": {
      "text/plain": [
       "\"It's hot outside\""
      ]
     },
     "execution_count": 18,
     "metadata": {},
     "output_type": "execute_result"
    }
   ],
   "source": [
    "s = 'It\\'s hot outside'\n",
    "s"
   ]
  },
  {
   "cell_type": "code",
   "execution_count": 19,
   "id": "b749dd5e-a60e-42c4-9526-4a611103a97d",
   "metadata": {
    "tags": []
   },
   "outputs": [
    {
     "data": {
      "text/plain": [
       "'I'"
      ]
     },
     "execution_count": 19,
     "metadata": {},
     "output_type": "execute_result"
    }
   ],
   "source": [
    "s[0]"
   ]
  },
  {
   "cell_type": "code",
   "execution_count": 20,
   "id": "d0a0d33b-13f8-4f27-bf10-2ac029010fb9",
   "metadata": {
    "tags": []
   },
   "outputs": [
    {
     "data": {
      "text/plain": [
       "'e'"
      ]
     },
     "execution_count": 20,
     "metadata": {},
     "output_type": "execute_result"
    }
   ],
   "source": [
    "s[-1]"
   ]
  },
  {
   "cell_type": "code",
   "execution_count": 21,
   "id": "d0e36c06-c9ac-433e-9919-8a3477a8d9b4",
   "metadata": {
    "tags": []
   },
   "outputs": [
    {
     "data": {
      "text/plain": [
       "16"
      ]
     },
     "execution_count": 21,
     "metadata": {},
     "output_type": "execute_result"
    }
   ],
   "source": [
    "len(s)"
   ]
  },
  {
   "cell_type": "code",
   "execution_count": 22,
   "id": "6d4909df-526a-4e61-9ce4-d1e804fdfcf4",
   "metadata": {
    "tags": []
   },
   "outputs": [
    {
     "data": {
      "text/plain": [
       "\"It's \""
      ]
     },
     "execution_count": 22,
     "metadata": {},
     "output_type": "execute_result"
    }
   ],
   "source": [
    "s[0:5]"
   ]
  },
  {
   "cell_type": "code",
   "execution_count": 24,
   "id": "63a55013-6c6e-4dc5-aaa3-96c5a6060d1d",
   "metadata": {
    "tags": []
   },
   "outputs": [
    {
     "ename": "TypeError",
     "evalue": "'str' object does not support item assignment",
     "output_type": "error",
     "traceback": [
      "\u001b[1;31m---------------------------------------------------------------------------\u001b[0m",
      "\u001b[1;31mTypeError\u001b[0m                                 Traceback (most recent call last)",
      "\u001b[1;32m~\\AppData\\Local\\Temp\\ipykernel_4504\\14318778.py\u001b[0m in \u001b[0;36m<module>\u001b[1;34m\u001b[0m\n\u001b[1;32m----> 1\u001b[1;33m \u001b[0ms\u001b[0m\u001b[1;33m[\u001b[0m\u001b[1;36m0\u001b[0m\u001b[1;33m]\u001b[0m \u001b[1;33m=\u001b[0m \u001b[1;34m'i'\u001b[0m\u001b[1;33m\u001b[0m\u001b[1;33m\u001b[0m\u001b[0m\n\u001b[0m\u001b[0;32m      2\u001b[0m \u001b[1;31m#this will throw an error as strings are immutable\u001b[0m\u001b[1;33m\u001b[0m\u001b[1;33m\u001b[0m\u001b[1;33m\u001b[0m\u001b[0m\n",
      "\u001b[1;31mTypeError\u001b[0m: 'str' object does not support item assignment"
     ]
    }
   ],
   "source": [
    "s[0] = 'i'\n",
    "#this will throw an error as strings are immutable"
   ]
  },
  {
   "cell_type": "code",
   "execution_count": 25,
   "id": "f740d545-5176-4ad8-bf84-577ab75ffc60",
   "metadata": {
    "tags": []
   },
   "outputs": [
    {
     "data": {
      "text/plain": [
       "'abadsurat'"
      ]
     },
     "execution_count": 25,
     "metadata": {},
     "output_type": "execute_result"
    }
   ],
   "source": [
    "'abad' + 'surat'"
   ]
  },
  {
   "cell_type": "code",
   "execution_count": 27,
   "id": "7dca60c5-5223-45ab-8761-562e5d28cc3c",
   "metadata": {
    "tags": []
   },
   "outputs": [
    {
     "data": {
      "text/plain": [
       "'abad abad abad '"
      ]
     },
     "execution_count": 27,
     "metadata": {},
     "output_type": "execute_result"
    }
   ],
   "source": [
    "'abad ' * 3"
   ]
  },
  {
   "cell_type": "code",
   "execution_count": 28,
   "id": "a2425f03-47ae-47b6-861b-650396ba5cc5",
   "metadata": {
    "tags": []
   },
   "outputs": [
    {
     "data": {
      "text/plain": [
       "False"
      ]
     },
     "execution_count": 28,
     "metadata": {},
     "output_type": "execute_result"
    }
   ],
   "source": [
    "'Abad' > 'abad'"
   ]
  },
  {
   "cell_type": "code",
   "execution_count": 29,
   "id": "dae9ae1f-76c9-45d9-a413-7e0ef6528a73",
   "metadata": {
    "tags": []
   },
   "outputs": [
    {
     "data": {
      "text/plain": [
       "True"
      ]
     },
     "execution_count": 29,
     "metadata": {},
     "output_type": "execute_result"
    }
   ],
   "source": [
    "'Abad' < 'abad'"
   ]
  },
  {
   "cell_type": "markdown",
   "id": "492e0b6c-9758-4f72-b0e5-793ddd61d7b2",
   "metadata": {},
   "source": [
    "It is checking the ACSII values of the characters "
   ]
  },
  {
   "cell_type": "code",
   "execution_count": 31,
   "id": "442f81da-4d9d-4c12-bef7-ed83340ffc71",
   "metadata": {
    "tags": []
   },
   "outputs": [
    {
     "data": {
      "text/plain": [
       "\"It's hot outside\""
      ]
     },
     "execution_count": 31,
     "metadata": {},
     "output_type": "execute_result"
    }
   ],
   "source": [
    "s"
   ]
  },
  {
   "cell_type": "code",
   "execution_count": 32,
   "id": "fc86f380-b6b0-4fb0-8ac7-1fe481e413ce",
   "metadata": {
    "tags": []
   },
   "outputs": [
    {
     "data": {
      "text/plain": [
       "'u'"
      ]
     },
     "execution_count": 32,
     "metadata": {},
     "output_type": "execute_result"
    }
   ],
   "source": [
    "max(s)"
   ]
  },
  {
   "cell_type": "code",
   "execution_count": 33,
   "id": "190913e2-7cb9-4259-8aea-3ad82b64fd77",
   "metadata": {
    "tags": []
   },
   "outputs": [
    {
     "data": {
      "text/plain": [
       "' '"
      ]
     },
     "execution_count": 33,
     "metadata": {},
     "output_type": "execute_result"
    }
   ],
   "source": [
    "min(s)"
   ]
  },
  {
   "cell_type": "code",
   "execution_count": 34,
   "id": "056ef810-d473-45b5-9f13-94af2732e0a5",
   "metadata": {
    "tags": []
   },
   "outputs": [
    {
     "data": {
      "text/plain": [
       "[' ',\n",
       " ' ',\n",
       " \"'\",\n",
       " 'I',\n",
       " 'd',\n",
       " 'e',\n",
       " 'h',\n",
       " 'i',\n",
       " 'o',\n",
       " 'o',\n",
       " 's',\n",
       " 's',\n",
       " 't',\n",
       " 't',\n",
       " 't',\n",
       " 'u']"
      ]
     },
     "execution_count": 34,
     "metadata": {},
     "output_type": "execute_result"
    }
   ],
   "source": [
    "sorted(s)"
   ]
  },
  {
   "cell_type": "code",
   "execution_count": 38,
   "id": "01ba090a-192c-455c-9dc3-54b584d39e31",
   "metadata": {
    "tags": []
   },
   "outputs": [
    {
     "data": {
      "text/plain": [
       "\"It's hot outside\""
      ]
     },
     "execution_count": 38,
     "metadata": {},
     "output_type": "execute_result"
    }
   ],
   "source": [
    "s.capitalize() #it will convert the fisrt character to uppercase"
   ]
  },
  {
   "cell_type": "code",
   "execution_count": 39,
   "id": "ff7721bb-00f0-4ae9-b547-4d4da1caf1e0",
   "metadata": {
    "tags": []
   },
   "outputs": [
    {
     "data": {
      "text/plain": [
       "\"It'S Hot Outside\""
      ]
     },
     "execution_count": 39,
     "metadata": {},
     "output_type": "execute_result"
    }
   ],
   "source": [
    "s.title() #it will capitalize the first character of every word"
   ]
  },
  {
   "cell_type": "code",
   "execution_count": 40,
   "id": "0b7427be-f546-4370-aa03-81598753b9e8",
   "metadata": {
    "tags": []
   },
   "outputs": [
    {
     "data": {
      "text/plain": [
       "\"IT'S HOT OUTSIDE\""
      ]
     },
     "execution_count": 40,
     "metadata": {},
     "output_type": "execute_result"
    }
   ],
   "source": [
    "s.upper() "
   ]
  },
  {
   "cell_type": "code",
   "execution_count": 42,
   "id": "18a88f27-ddc3-4e57-8626-55b9a7f65665",
   "metadata": {
    "tags": []
   },
   "outputs": [
    {
     "data": {
      "text/plain": [
       "\"it's hot outside\""
      ]
     },
     "execution_count": 42,
     "metadata": {},
     "output_type": "execute_result"
    }
   ],
   "source": [
    "s.lower()"
   ]
  },
  {
   "cell_type": "code",
   "execution_count": 43,
   "id": "9e1c689e-10e1-40f5-b92c-679b7a37c8d9",
   "metadata": {
    "tags": []
   },
   "outputs": [
    {
     "data": {
      "text/plain": [
       "\"iT'S HOT OUTSIDE\""
      ]
     },
     "execution_count": 43,
     "metadata": {},
     "output_type": "execute_result"
    }
   ],
   "source": [
    "s.swapcase()"
   ]
  },
  {
   "cell_type": "markdown",
   "id": "648761c7-c0fd-4483-bb83-a55911516e19",
   "metadata": {
    "jp-MarkdownHeadingCollapsed": true,
    "tags": []
   },
   "source": [
    "# String Methods"
   ]
  },
  {
   "cell_type": "code",
   "execution_count": 2,
   "id": "824ba5b5-6478-4bb0-82f1-f9cfdb5c4569",
   "metadata": {
    "tags": []
   },
   "outputs": [],
   "source": [
    "s = \"hello word!\""
   ]
  },
  {
   "cell_type": "code",
   "execution_count": 47,
   "id": "d41b9747-b580-4dd6-b310-27a18e1be480",
   "metadata": {
    "tags": []
   },
   "outputs": [
    {
     "data": {
      "text/plain": [
       "'Hello word!'"
      ]
     },
     "execution_count": 47,
     "metadata": {},
     "output_type": "execute_result"
    }
   ],
   "source": [
    "s.capitalize() "
   ]
  },
  {
   "cell_type": "code",
   "execution_count": 57,
   "id": "b60c2572-3c02-4554-a0e3-86a350fcecb6",
   "metadata": {
    "tags": []
   },
   "outputs": [
    {
     "data": {
      "text/plain": [
       "'hello word!'"
      ]
     },
     "execution_count": 57,
     "metadata": {},
     "output_type": "execute_result"
    }
   ],
   "source": [
    "s.casefold() #converts string into lower case"
   ]
  },
  {
   "cell_type": "code",
   "execution_count": 53,
   "id": "804f7046-fd00-4c5e-ac45-3e0c9afb049a",
   "metadata": {
    "tags": []
   },
   "outputs": [
    {
     "data": {
      "text/plain": [
       "'hello word!'"
      ]
     },
     "execution_count": 53,
     "metadata": {},
     "output_type": "execute_result"
    }
   ],
   "source": [
    "s.center(3)"
   ]
  },
  {
   "cell_type": "code",
   "execution_count": 44,
   "id": "128de707-9f2c-4a3d-b785-883c31d9bafd",
   "metadata": {
    "tags": []
   },
   "outputs": [
    {
     "data": {
      "text/plain": [
       "2"
      ]
     },
     "execution_count": 44,
     "metadata": {},
     "output_type": "execute_result"
    }
   ],
   "source": [
    "s.count('o') #returns the number of times a specified value occurs in a string"
   ]
  },
  {
   "cell_type": "code",
   "execution_count": 61,
   "id": "5ad051c0-5e9d-45cc-b036-51147125354f",
   "metadata": {
    "tags": []
   },
   "outputs": [
    {
     "data": {
      "text/plain": [
       "b'hello word!'"
      ]
     },
     "execution_count": 61,
     "metadata": {},
     "output_type": "execute_result"
    }
   ],
   "source": [
    "s.encode() #Returns an encoded version of the string"
   ]
  },
  {
   "cell_type": "code",
   "execution_count": 62,
   "id": "7aad3f89-346b-4dca-8125-827820ba8b1f",
   "metadata": {
    "tags": []
   },
   "outputs": [
    {
     "data": {
      "text/plain": [
       "False"
      ]
     },
     "execution_count": 62,
     "metadata": {},
     "output_type": "execute_result"
    }
   ],
   "source": [
    "s.endswith('d') # Returns true if the string ends with the specified value "
   ]
  },
  {
   "cell_type": "code",
   "execution_count": 64,
   "id": "760a211c-87ce-4b9b-b4bb-c94a98718d7c",
   "metadata": {
    "tags": []
   },
   "outputs": [
    {
     "data": {
      "text/plain": [
       "'hello word!'"
      ]
     },
     "execution_count": 64,
     "metadata": {},
     "output_type": "execute_result"
    }
   ],
   "source": [
    "s.expandtabs() #sets the tab size of the string"
   ]
  },
  {
   "cell_type": "code",
   "execution_count": 66,
   "id": "da3c41b0-b7ee-4760-b6d7-794ad150ca24",
   "metadata": {
    "tags": []
   },
   "outputs": [
    {
     "data": {
      "text/plain": [
       "0"
      ]
     },
     "execution_count": 66,
     "metadata": {},
     "output_type": "execute_result"
    }
   ],
   "source": [
    "s.find('hell') #searches the string for a specified value adn returns the position of where it was found"
   ]
  },
  {
   "cell_type": "code",
   "execution_count": 68,
   "id": "4a95882c-cdda-4f88-a6f8-5688bd4ab71b",
   "metadata": {
    "tags": []
   },
   "outputs": [
    {
     "data": {
      "text/plain": [
       "'hello word!'"
      ]
     },
     "execution_count": 68,
     "metadata": {},
     "output_type": "execute_result"
    }
   ],
   "source": [
    "s.format() #formats specified values in a string"
   ]
  },
  {
   "cell_type": "code",
   "execution_count": 71,
   "id": "7329fb99-9cd8-4c1c-bb5f-9e105408427a",
   "metadata": {
    "tags": []
   },
   "outputs": [
    {
     "data": {
      "text/plain": [
       "4"
      ]
     },
     "execution_count": 71,
     "metadata": {},
     "output_type": "execute_result"
    }
   ],
   "source": [
    "s.index('o') #searches the string for a specified value and returns the position of where it was found"
   ]
  },
  {
   "cell_type": "code",
   "execution_count": 72,
   "id": "9d2d2872-b437-4c46-b8db-2b5a57de445f",
   "metadata": {
    "tags": []
   },
   "outputs": [
    {
     "data": {
      "text/plain": [
       "False"
      ]
     },
     "execution_count": 72,
     "metadata": {},
     "output_type": "execute_result"
    }
   ],
   "source": [
    "s.isalnum() #returns true if all characters in the string are alphanumeric"
   ]
  },
  {
   "cell_type": "code",
   "execution_count": 73,
   "id": "3fcf6831-e867-4f38-a34f-2dc7734d27a0",
   "metadata": {
    "tags": []
   },
   "outputs": [
    {
     "data": {
      "text/plain": [
       "False"
      ]
     },
     "execution_count": 73,
     "metadata": {},
     "output_type": "execute_result"
    }
   ],
   "source": [
    "s.isalpha() #Returns true if all characters in the string are in the alphabet"
   ]
  },
  {
   "cell_type": "code",
   "execution_count": 74,
   "id": "f9e8424f-1484-453b-b7cc-ead6e221434e",
   "metadata": {
    "tags": []
   },
   "outputs": [
    {
     "data": {
      "text/plain": [
       "True"
      ]
     },
     "execution_count": 74,
     "metadata": {},
     "output_type": "execute_result"
    }
   ],
   "source": [
    "s.isascii() #Returns true if all characters in the string are ascii characters"
   ]
  },
  {
   "cell_type": "code",
   "execution_count": 75,
   "id": "2fe8e52e-3201-45d5-affd-78a603435850",
   "metadata": {
    "tags": []
   },
   "outputs": [
    {
     "data": {
      "text/plain": [
       "False"
      ]
     },
     "execution_count": 75,
     "metadata": {},
     "output_type": "execute_result"
    }
   ],
   "source": [
    "s.isdecimal() #returns true if all characters in the string are decimals"
   ]
  },
  {
   "cell_type": "code",
   "execution_count": 77,
   "id": "28d21d39-3e54-492c-a675-00023f027852",
   "metadata": {
    "tags": []
   },
   "outputs": [
    {
     "data": {
      "text/plain": [
       "False"
      ]
     },
     "execution_count": 77,
     "metadata": {},
     "output_type": "execute_result"
    }
   ],
   "source": [
    "s.isdigit() #returns true if all characters in the string are digits"
   ]
  },
  {
   "cell_type": "code",
   "execution_count": 78,
   "id": "d01b3710-60db-4b3f-a37b-78ed2e0486ce",
   "metadata": {
    "tags": []
   },
   "outputs": [
    {
     "data": {
      "text/plain": [
       "False"
      ]
     },
     "execution_count": 78,
     "metadata": {},
     "output_type": "execute_result"
    }
   ],
   "source": [
    "s.isidentifier() #returns true if the string is an identifier"
   ]
  },
  {
   "cell_type": "code",
   "execution_count": 79,
   "id": "254da350-e369-42bd-a16d-02cb5f530470",
   "metadata": {
    "tags": []
   },
   "outputs": [
    {
     "data": {
      "text/plain": [
       "True"
      ]
     },
     "execution_count": 79,
     "metadata": {},
     "output_type": "execute_result"
    }
   ],
   "source": [
    "s.islower() #returns true if all characters in the string are lower case"
   ]
  },
  {
   "cell_type": "code",
   "execution_count": 81,
   "id": "b4c2c274-8680-4c38-a411-ed33b4790235",
   "metadata": {
    "tags": []
   },
   "outputs": [
    {
     "data": {
      "text/plain": [
       "False"
      ]
     },
     "execution_count": 81,
     "metadata": {},
     "output_type": "execute_result"
    }
   ],
   "source": [
    "s.isnumeric() #returns true if all characters in te string are numeric"
   ]
  },
  {
   "cell_type": "code",
   "execution_count": 82,
   "id": "566f6447-fb27-4ab5-8e29-eb903eca9d2d",
   "metadata": {
    "tags": []
   },
   "outputs": [
    {
     "data": {
      "text/plain": [
       "True"
      ]
     },
     "execution_count": 82,
     "metadata": {},
     "output_type": "execute_result"
    }
   ],
   "source": [
    "s.isprintable() #returns true if all characters in the string are printable"
   ]
  },
  {
   "cell_type": "code",
   "execution_count": 84,
   "id": "1e837cb3-16a5-4db8-905d-405bb37ff64b",
   "metadata": {
    "tags": []
   },
   "outputs": [
    {
     "data": {
      "text/plain": [
       "False"
      ]
     },
     "execution_count": 84,
     "metadata": {},
     "output_type": "execute_result"
    }
   ],
   "source": [
    "s.isspace() #returns true if all characters in the string are whitespaces"
   ]
  },
  {
   "cell_type": "code",
   "execution_count": 85,
   "id": "2fb7d9ff-84b9-4963-bf6e-779ad0cfad9b",
   "metadata": {
    "tags": []
   },
   "outputs": [
    {
     "data": {
      "text/plain": [
       "False"
      ]
     },
     "execution_count": 85,
     "metadata": {},
     "output_type": "execute_result"
    }
   ],
   "source": [
    "s.istitle() #returns true if the string is in title format"
   ]
  },
  {
   "cell_type": "code",
   "execution_count": 86,
   "id": "6b15571d-7762-486f-936d-1c035e1abc62",
   "metadata": {
    "tags": []
   },
   "outputs": [
    {
     "data": {
      "text/plain": [
       "False"
      ]
     },
     "execution_count": 86,
     "metadata": {},
     "output_type": "execute_result"
    }
   ],
   "source": [
    "s.isupper() #returns true if all characters in the string are upper case"
   ]
  },
  {
   "cell_type": "code",
   "execution_count": 91,
   "id": "714cbff6-7194-45f9-9b18-7b9b990ae61e",
   "metadata": {
    "tags": []
   },
   "outputs": [
    {
     "data": {
      "text/plain": [
       "'a'"
      ]
     },
     "execution_count": 91,
     "metadata": {},
     "output_type": "execute_result"
    }
   ],
   "source": [
    "s.join('a') #converts the elements of an iterable into a string"
   ]
  },
  {
   "cell_type": "code",
   "execution_count": 3,
   "id": "eca75260-04cb-48c8-b90b-4eb68c1fcf40",
   "metadata": {},
   "outputs": [
    {
     "data": {
      "text/plain": [
       "'hello word!'"
      ]
     },
     "execution_count": 3,
     "metadata": {},
     "output_type": "execute_result"
    }
   ],
   "source": [
    "s.lower() #converts a string into lower case"
   ]
  },
  {
   "cell_type": "code",
   "execution_count": 6,
   "id": "551d38d4-3d54-4d98-a7a3-1f43817d04b0",
   "metadata": {
    "tags": []
   },
   "outputs": [
    {
     "data": {
      "text/plain": [
       "'hello word!'"
      ]
     },
     "execution_count": 6,
     "metadata": {},
     "output_type": "execute_result"
    }
   ],
   "source": [
    "s.lstrip() #returns a left trim version of the string "
   ]
  },
  {
   "cell_type": "code",
   "execution_count": 14,
   "id": "cfcb07aa-d7c8-47db-8fd8-9e89ee789a90",
   "metadata": {
    "tags": []
   },
   "outputs": [
    {
     "data": {
      "text/plain": [
       "('hell', 'o', ' word!')"
      ]
     },
     "execution_count": 14,
     "metadata": {},
     "output_type": "execute_result"
    }
   ],
   "source": [
    "s.partition('o') #returns a tuple where the string is parted into three parts"
   ]
  },
  {
   "cell_type": "code",
   "execution_count": 16,
   "id": "55961371-3830-4185-8de9-1e0cd0a8629a",
   "metadata": {
    "tags": []
   },
   "outputs": [
    {
     "data": {
      "text/plain": [
       "'hell1 w1rd!'"
      ]
     },
     "execution_count": 16,
     "metadata": {},
     "output_type": "execute_result"
    }
   ],
   "source": [
    "s.replace('o','1') #returns a string where a specified value is replaced with a speified value"
   ]
  },
  {
   "cell_type": "code",
   "execution_count": 18,
   "id": "96c08e5b-f802-4ea9-8140-ecaf7416d985",
   "metadata": {
    "tags": []
   },
   "outputs": [
    {
     "data": {
      "text/plain": [
       "('hello w', 'o', 'rd!')"
      ]
     },
     "execution_count": 18,
     "metadata": {},
     "output_type": "execute_result"
    }
   ],
   "source": [
    "s.rpartition('o') #returns a tuple where the string is parted into thrre parts, this one works on the right most element"
   ]
  },
  {
   "cell_type": "code",
   "execution_count": 19,
   "id": "6fba0115-fcc3-43a6-885b-e3211cbcd76a",
   "metadata": {
    "tags": []
   },
   "outputs": [
    {
     "data": {
      "text/plain": [
       "7"
      ]
     },
     "execution_count": 19,
     "metadata": {},
     "output_type": "execute_result"
    }
   ],
   "source": [
    "s.rfind('o') #searches the string for a specified value and returns the last position of wher it was found "
   ]
  },
  {
   "cell_type": "code",
   "execution_count": 20,
   "id": "ea415d0d-ae89-4b5b-87e1-dfb5dbe36e31",
   "metadata": {
    "tags": []
   },
   "outputs": [
    {
     "data": {
      "text/plain": [
       "7"
      ]
     },
     "execution_count": 20,
     "metadata": {},
     "output_type": "execute_result"
    }
   ],
   "source": [
    "s.rindex('o') #searches the string for a specified value and returns the last position of where it was found"
   ]
  },
  {
   "cell_type": "code",
   "execution_count": 22,
   "id": "d4e1723a-1ffc-4dc1-976f-92d6198b967e",
   "metadata": {
    "tags": []
   },
   "outputs": [
    {
     "data": {
      "text/plain": [
       "['hell', ' w', 'rd!']"
      ]
     },
     "execution_count": 22,
     "metadata": {},
     "output_type": "execute_result"
    }
   ],
   "source": [
    "s.split(\"o\") #splits the string at the specified separator, and returns a list"
   ]
  },
  {
   "cell_type": "code",
   "execution_count": 24,
   "id": "c47fc7cb-c907-4aa5-8d91-34beac7468c7",
   "metadata": {
    "tags": []
   },
   "outputs": [
    {
     "data": {
      "text/plain": [
       "['hell', ' w', 'rd!']"
      ]
     },
     "execution_count": 24,
     "metadata": {},
     "output_type": "execute_result"
    }
   ],
   "source": [
    "s.rsplit(\"o\") #splits the string at the specified separator and returns a list"
   ]
  },
  {
   "cell_type": "code",
   "execution_count": 25,
   "id": "0721e5c4-ac79-4bd2-8324-cfb0468ba182",
   "metadata": {
    "tags": []
   },
   "outputs": [
    {
     "data": {
      "text/plain": [
       "'hello word!'"
      ]
     },
     "execution_count": 25,
     "metadata": {},
     "output_type": "execute_result"
    }
   ],
   "source": [
    "s.rstrip() #returns a right trim version of the string"
   ]
  },
  {
   "cell_type": "code",
   "execution_count": 26,
   "id": "9afa46f8-a7d6-44eb-b7db-a5a4137220fa",
   "metadata": {
    "tags": []
   },
   "outputs": [
    {
     "data": {
      "text/plain": [
       "['hello word!']"
      ]
     },
     "execution_count": 26,
     "metadata": {},
     "output_type": "execute_result"
    }
   ],
   "source": [
    "s.splitlines() #splits the strin at line breaks and returns a list"
   ]
  },
  {
   "cell_type": "code",
   "execution_count": 28,
   "id": "92748d74-c2e7-4597-870d-4355b4c2d020",
   "metadata": {
    "tags": []
   },
   "outputs": [
    {
     "data": {
      "text/plain": [
       "True"
      ]
     },
     "execution_count": 28,
     "metadata": {},
     "output_type": "execute_result"
    }
   ],
   "source": [
    "s.startswith('h') #returns true if the string starts with the specified value"
   ]
  },
  {
   "cell_type": "code",
   "execution_count": 29,
   "id": "4b60924b-e3c6-413c-a7f2-0c8ec3f757fc",
   "metadata": {
    "tags": []
   },
   "outputs": [
    {
     "data": {
      "text/plain": [
       "'hello word!'"
      ]
     },
     "execution_count": 29,
     "metadata": {},
     "output_type": "execute_result"
    }
   ],
   "source": [
    "s.strip() #returns a trimmed version of the string"
   ]
  },
  {
   "cell_type": "code",
   "execution_count": 30,
   "id": "f93433e3-cade-486c-bd06-c3a9ae482a9c",
   "metadata": {
    "tags": []
   },
   "outputs": [
    {
     "data": {
      "text/plain": [
       "'HELLO WORD!'"
      ]
     },
     "execution_count": 30,
     "metadata": {},
     "output_type": "execute_result"
    }
   ],
   "source": [
    "s.swapcase() #swaps cases, lowercase becomes uppercase and vice versa "
   ]
  },
  {
   "cell_type": "code",
   "execution_count": 31,
   "id": "e6d2ad40-0c06-44de-bb83-36c67d3c4834",
   "metadata": {
    "tags": []
   },
   "outputs": [
    {
     "data": {
      "text/plain": [
       "'Hello Word!'"
      ]
     },
     "execution_count": 31,
     "metadata": {},
     "output_type": "execute_result"
    }
   ],
   "source": [
    "s.title() #converts the first character of each word to upper case"
   ]
  },
  {
   "cell_type": "code",
   "execution_count": 40,
   "id": "1e3fe8d2-e8c4-4cf5-b283-816538a9682d",
   "metadata": {
    "tags": []
   },
   "outputs": [
    {
     "data": {
      "text/plain": [
       "'gello word!'"
      ]
     },
     "execution_count": 40,
     "metadata": {},
     "output_type": "execute_result"
    }
   ],
   "source": [
    "s.translate({104:103}) #returns a translated string "
   ]
  },
  {
   "cell_type": "code",
   "execution_count": 41,
   "id": "927d9224-28e8-42bd-b0b8-3dba0b48bdd4",
   "metadata": {
    "tags": []
   },
   "outputs": [
    {
     "data": {
      "text/plain": [
       "'HELLO WORD!'"
      ]
     },
     "execution_count": 41,
     "metadata": {},
     "output_type": "execute_result"
    }
   ],
   "source": [
    "s.upper() #converts a string into upper case"
   ]
  },
  {
   "cell_type": "code",
   "execution_count": 3,
   "id": "4a2a275e-8d4f-4722-94a6-243c990216b1",
   "metadata": {
    "tags": []
   },
   "outputs": [
    {
     "data": {
      "text/plain": [
       "'hello word!'"
      ]
     },
     "execution_count": 3,
     "metadata": {},
     "output_type": "execute_result"
    }
   ],
   "source": [
    "s.zfill(3) #fills the string with a specified number of 0 values at the beginning"
   ]
  },
  {
   "cell_type": "markdown",
   "id": "83008cc5-3726-45e8-9912-4f0af9e108aa",
   "metadata": {
    "jp-MarkdownHeadingCollapsed": true,
    "tags": []
   },
   "source": [
    "# Functions\n",
    "It is a reusable block of code that performs a specific taks. It helps us to organize code, improve readibility and avoid repitition. Types of funtions :\n",
    "1. Built-in functions - they are already available in python (print(), type(), etc)\n",
    "2. User defined functions - functions created by users to perform specfic tasks"
   ]
  },
  {
   "cell_type": "code",
   "execution_count": 15,
   "id": "dbbc526b-d79a-4715-8f11-90ab2ddf1c71",
   "metadata": {
    "tags": []
   },
   "outputs": [
    {
     "name": "stdout",
     "output_type": "stream",
     "text": [
      "Welcome to the class\n"
     ]
    }
   ],
   "source": [
    "#to create a function \n",
    "# no parameter no return value\n",
    "''' syntax : \n",
    "def <function_name>():\n",
    "    block of code'''\n",
    "def greet(): \n",
    "    print(\"Welcome to the class\")\n",
    "greet()"
   ]
  },
  {
   "cell_type": "code",
   "execution_count": 16,
   "id": "d9478c65-08df-4942-9942-3aefdebe88e0",
   "metadata": {
    "tags": []
   },
   "outputs": [
    {
     "name": "stdout",
     "output_type": "stream",
     "text": [
      "Number is even\n"
     ]
    }
   ],
   "source": [
    "# to check even/odd\n",
    "# parameter and no return value\n",
    "def even_odd(num): #here num is a parameter (parameter is the value passed in a function while it's creation)\n",
    "    if num % 2 == 0:\n",
    "        print(\"Number is even\")\n",
    "    else: \n",
    "        print(\"number is odd\")\n",
    "even_odd(10) #here 10 is argument (argument is the value passed in a function while it is called)"
   ]
  },
  {
   "cell_type": "code",
   "execution_count": 17,
   "id": "88edcafc-b5b4-4162-8b19-34f33a862216",
   "metadata": {
    "tags": []
   },
   "outputs": [
    {
     "name": "stdout",
     "output_type": "stream",
     "text": [
      "Number is even\n",
      "None\n",
      "number is odd\n",
      "None\n",
      "Number is even\n",
      "None\n",
      "number is odd\n",
      "None\n",
      "Number is even\n",
      "None\n",
      "number is odd\n",
      "None\n",
      "Number is even\n",
      "None\n",
      "number is odd\n",
      "None\n",
      "Number is even\n",
      "None\n",
      "number is odd\n",
      "None\n"
     ]
    }
   ],
   "source": [
    "# calling a function in a loop\n",
    "for i in range(10):\n",
    "    print(even_odd(i))"
   ]
  },
  {
   "cell_type": "markdown",
   "id": "9c7e3dd3-6fca-45d3-9c7d-f61f386b5843",
   "metadata": {},
   "source": [
    "The return statement is used to send back a value from te function to the caller. when function hits a return statment the exxecution of the function will stop"
   ]
  },
  {
   "cell_type": "code",
   "execution_count": 18,
   "id": "7bf3b1fb-3681-4b62-987c-ed68355681dd",
   "metadata": {
    "tags": []
   },
   "outputs": [
    {
     "name": "stdout",
     "output_type": "stream",
     "text": [
      "0 is even\n",
      "1 is odd\n",
      "2 is even\n",
      "3 is odd\n",
      "4 is even\n",
      "5 is odd\n",
      "6 is even\n",
      "7 is odd\n",
      "8 is even\n",
      "9 is odd\n"
     ]
    }
   ],
   "source": [
    "def even_odd(num):\n",
    "    if num % 2 == 0:\n",
    "        return f\"{num} is even\" \n",
    "    return f\"{num} is odd\"\n",
    "for i in range(10):\n",
    "    print(even_odd(i))"
   ]
  },
  {
   "cell_type": "code",
   "execution_count": 20,
   "id": "f2016697-d049-4043-8d17-07b8d1cf483b",
   "metadata": {
    "tags": []
   },
   "outputs": [
    {
     "data": {
      "text/plain": [
       "(8, 2)"
      ]
     },
     "execution_count": 20,
     "metadata": {},
     "output_type": "execute_result"
    }
   ],
   "source": [
    "#returning multiple values - the values will be stored in a tuple\n",
    "def add(a,b):\n",
    "    return a+b, a-b\n",
    "add(5,3)"
   ]
  },
  {
   "cell_type": "markdown",
   "id": "e3b84bc1-b74f-41b9-b950-d372a83e97af",
   "metadata": {
    "jp-MarkdownHeadingCollapsed": true,
    "tags": []
   },
   "source": [
    "# Types of arguments\n",
    "\n",
    "1. positional \n",
    "2. default\n",
    "3. keyword"
   ]
  },
  {
   "cell_type": "code",
   "execution_count": 22,
   "id": "1b0efd2a-cb89-4d69-aeb2-959cf13e535f",
   "metadata": {
    "tags": []
   },
   "outputs": [
    {
     "data": {
      "text/plain": [
       "25"
      ]
     },
     "execution_count": 22,
     "metadata": {},
     "output_type": "execute_result"
    }
   ],
   "source": [
    "# positional args\n",
    "def power(n,n1):\n",
    "    return n ** n1\n",
    "power(5,2)"
   ]
  },
  {
   "cell_type": "code",
   "execution_count": 23,
   "id": "c8a71b1a-bb87-492c-8b17-ebf710df1a77",
   "metadata": {
    "tags": []
   },
   "outputs": [
    {
     "data": {
      "text/plain": [
       "25"
      ]
     },
     "execution_count": 23,
     "metadata": {},
     "output_type": "execute_result"
    }
   ],
   "source": [
    "# default args - to give a default value if the user doesn't provide an argument\n",
    "def power(n, n1 = 2):\n",
    "    return n ** n1\n",
    "power(5)"
   ]
  },
  {
   "cell_type": "code",
   "execution_count": 24,
   "id": "0f8bd8bd-5138-4839-8a77-99924f12a68b",
   "metadata": {
    "tags": []
   },
   "outputs": [
    {
     "data": {
      "text/plain": [
       "25"
      ]
     },
     "execution_count": 24,
     "metadata": {},
     "output_type": "execute_result"
    }
   ],
   "source": [
    "# keyword args - using the name of parameter to pass the arguments\n",
    "power(n1 = 2, n = 5)"
   ]
  },
  {
   "cell_type": "markdown",
   "id": "5c065893-fd3f-4ae6-88f5-6e37c0fef902",
   "metadata": {
    "jp-MarkdownHeadingCollapsed": true,
    "tags": []
   },
   "source": [
    "# *args (variable args) and **kwargs (variables keyword args)"
   ]
  },
  {
   "cell_type": "code",
   "execution_count": 26,
   "id": "f2cb6d0e-4bf0-4de7-9b2d-c2636101a6fe",
   "metadata": {
    "tags": []
   },
   "outputs": [
    {
     "name": "stdout",
     "output_type": "stream",
     "text": [
      "(1, 2, 3, 4, 5, 6, 7, 8, 9)\n",
      "45\n",
      "(1, 2, 3, 4, 5)\n",
      "15\n",
      "(1, 2)\n",
      "3\n"
     ]
    }
   ],
   "source": [
    "# *args - it allows us to pass a variable number of non-keyword arguments to a functions\n",
    "def add(*num):\n",
    "    summ = 0\n",
    "    for i in num:\n",
    "        summ += i\n",
    "    print(num)\n",
    "    return summ\n",
    "print(add(1,2,3,4,5,6,7,8,9))\n",
    "print(add(1,2,3,4,5))\n",
    "print(add(1,2))"
   ]
  },
  {
   "cell_type": "code",
   "execution_count": 30,
   "id": "8592a136-5c27-4424-b10a-18bf1d85c790",
   "metadata": {
    "tags": []
   },
   "outputs": [
    {
     "name": "stdout",
     "output_type": "stream",
     "text": [
      "india -> delhi\n",
      "\n",
      "india -> delhi\n",
      "china -> shanghai\n"
     ]
    }
   ],
   "source": [
    "# **kwargs - it allows us to pass any number of keyword args\n",
    "# keyword arg means that they contin a key-value pair like dict\n",
    "def display(**c):\n",
    "    for (k,v) in c.items():\n",
    "        print(k,'->',v)\n",
    "display(india = 'delhi')\n",
    "print()\n",
    "display(india = 'delhi', china = 'shanghai')"
   ]
  },
  {
   "cell_type": "markdown",
   "id": "766e9472-ebe5-4ed7-b14e-c76c9a1267ac",
   "metadata": {},
   "source": [
    "# Variable Scope "
   ]
  },
  {
   "cell_type": "code",
   "execution_count": null,
   "id": "9aea622a-c880-4be8-a0e0-68c2373cf782",
   "metadata": {},
   "outputs": [],
   "source": []
  }
 ],
 "metadata": {
  "kernelspec": {
   "display_name": "Python 3 (ipykernel)",
   "language": "python",
   "name": "python3"
  },
  "language_info": {
   "codemirror_mode": {
    "name": "ipython",
    "version": 3
   },
   "file_extension": ".py",
   "mimetype": "text/x-python",
   "name": "python",
   "nbconvert_exporter": "python",
   "pygments_lexer": "ipython3",
   "version": "3.7.9"
  }
 },
 "nbformat": 4,
 "nbformat_minor": 5
}
